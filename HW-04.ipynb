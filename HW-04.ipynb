{
 "cells": [
  {
   "cell_type": "markdown",
   "metadata": {},
   "source": [
    "# Домашнее задание №4. Тематическое моделирование. EM-алгоритм"
   ]
  },
  {
   "cell_type": "code",
   "execution_count": 2,
   "metadata": {},
   "outputs": [
    {
     "name": "stderr",
     "output_type": "stream",
     "text": [
      "[nltk_data] Downloading package stopwords to\n",
      "[nltk_data]     C:\\Users\\BazhanovaEN\\AppData\\Roaming\\nltk_data...\n",
      "[nltk_data]   Package stopwords is already up-to-date!\n"
     ]
    }
   ],
   "source": [
    "import pandas as pd\n",
    "import re\n",
    "import numpy as np\n",
    "from nltk.corpus import stopwords\n",
    "from pymystem3 import Mystem\n",
    "import nltk\n",
    "nltk.download('stopwords')\n",
    "import pymorphy2\n",
    "from gensim.models import *\n",
    "from gensim import corpora\n",
    "import pyLDAvis\n",
    "import pyLDAvis.gensim_models as gensimvis\n",
    "import matplotlib.pyplot as plt\n",
    "import warnings\n",
    "def fxn():\n",
    "    warnings.warn(\"deprecated\", DeprecationWarning)\n",
    "with warnings.catch_warnings():\n",
    "    warnings.simplefilter(\"ignore\")\n",
    "    fxn()"
   ]
  },
  {
   "cell_type": "markdown",
   "metadata": {},
   "source": [
    "## Задание\n",
    "продолжаем исследовать датасет с твитами.\n",
    "\n",
    "1. Объединить в одну выборку (положительные и отрицательные твиты).\n",
    "\n",
    "2. Провести исследование и выявить тематики, о которых говорят в твитах.\n",
    "\n",
    "3. Сделать визуализацию кластеров тематик.\n",
    "\n",
    "4. Проинтерпритировать получившиеся тематики"
   ]
  },
  {
   "cell_type": "markdown",
   "metadata": {},
   "source": [
    "## План решения\n",
    "\n",
    "[0. Загрузка и просмотр данных](#section_0)\n",
    "\n",
    "[1. Предобработка данных](#section_1)\n",
    "\n",
    "[2. Модель Latent Dirichlet Allocation (LDA)](#section_2)\n",
    "\n",
    "[3. Визуализация предсказаний модели LDA](#section_3)\n",
    "\n",
    "[4. Выводы (определение тематик в твитах)](#section_4)"
   ]
  },
  {
   "cell_type": "markdown",
   "metadata": {},
   "source": [
    "### 0. Загрузка и просмотр данных <a id='section_0'></a>"
   ]
  },
  {
   "cell_type": "markdown",
   "metadata": {},
   "source": [
    "Загрузим данные и объединим их в один датасет."
   ]
  },
  {
   "cell_type": "code",
   "execution_count": 3,
   "metadata": {},
   "outputs": [
    {
     "name": "stderr",
     "output_type": "stream",
     "text": [
      "C:\\ProgramData\\Anaconda3\\lib\\site-packages\\ipykernel\\ipkernel.py:287: DeprecationWarning: `should_run_async` will not call `transform_cell` automatically in the future. Please pass the result to `transformed_cell` argument and any exception that happen during thetransform in `preprocessing_exc_tuple` in IPython 7.17 and above.\n",
      "  and should_run_async(code)\n"
     ]
    },
    {
     "data": {
      "text/html": [
       "<div>\n",
       "<style scoped>\n",
       "    .dataframe tbody tr th:only-of-type {\n",
       "        vertical-align: middle;\n",
       "    }\n",
       "\n",
       "    .dataframe tbody tr th {\n",
       "        vertical-align: top;\n",
       "    }\n",
       "\n",
       "    .dataframe thead th {\n",
       "        text-align: right;\n",
       "    }\n",
       "</style>\n",
       "<table border=\"1\" class=\"dataframe\">\n",
       "  <thead>\n",
       "    <tr style=\"text-align: right;\">\n",
       "      <th></th>\n",
       "      <th>text</th>\n",
       "      <th>label</th>\n",
       "    </tr>\n",
       "  </thead>\n",
       "  <tbody>\n",
       "    <tr>\n",
       "      <th>0</th>\n",
       "      <td>@first_timee хоть я и школота, но поверь, у на...</td>\n",
       "      <td>positive</td>\n",
       "    </tr>\n",
       "    <tr>\n",
       "      <th>1</th>\n",
       "      <td>Да, все-таки он немного похож на него. Но мой ...</td>\n",
       "      <td>positive</td>\n",
       "    </tr>\n",
       "    <tr>\n",
       "      <th>2</th>\n",
       "      <td>RT @KatiaCheh: Ну ты идиотка) я испугалась за ...</td>\n",
       "      <td>positive</td>\n",
       "    </tr>\n",
       "    <tr>\n",
       "      <th>3</th>\n",
       "      <td>RT @digger2912: \"Кто то в углу сидит и погибае...</td>\n",
       "      <td>positive</td>\n",
       "    </tr>\n",
       "    <tr>\n",
       "      <th>4</th>\n",
       "      <td>@irina_dyshkant Вот что значит страшилка :D\\nН...</td>\n",
       "      <td>positive</td>\n",
       "    </tr>\n",
       "  </tbody>\n",
       "</table>\n",
       "</div>"
      ],
      "text/plain": [
       "                                                text     label\n",
       "0  @first_timee хоть я и школота, но поверь, у на...  positive\n",
       "1  Да, все-таки он немного похож на него. Но мой ...  positive\n",
       "2  RT @KatiaCheh: Ну ты идиотка) я испугалась за ...  positive\n",
       "3  RT @digger2912: \"Кто то в углу сидит и погибае...  positive\n",
       "4  @irina_dyshkant Вот что значит страшилка :D\\nН...  positive"
      ]
     },
     "execution_count": 3,
     "metadata": {},
     "output_type": "execute_result"
    }
   ],
   "source": [
    "# считываем данные и заполняем общий датасет\n",
    "positive = pd.read_csv('positive(2).csv', sep=';', usecols=[3], names=['text'])\n",
    "positive['label'] = ['positive'] * len(positive)\n",
    "\n",
    "negative = pd.read_csv('negative(2).csv', sep=';', usecols=[3], names=['text'])\n",
    "negative['label'] = ['negative'] * len(negative)\n",
    "\n",
    "df = pd.concat([positive, negative], ignore_index=True)\n",
    "df.head()"
   ]
  },
  {
   "cell_type": "code",
   "execution_count": 4,
   "metadata": {},
   "outputs": [
    {
     "name": "stdout",
     "output_type": "stream",
     "text": [
      "<class 'pandas.core.frame.DataFrame'>\n",
      "RangeIndex: 226834 entries, 0 to 226833\n",
      "Data columns (total 2 columns):\n",
      " #   Column  Non-Null Count   Dtype \n",
      "---  ------  --------------   ----- \n",
      " 0   text    226834 non-null  object\n",
      " 1   label   226834 non-null  object\n",
      "dtypes: object(2)\n",
      "memory usage: 3.5+ MB\n"
     ]
    },
    {
     "name": "stderr",
     "output_type": "stream",
     "text": [
      "C:\\ProgramData\\Anaconda3\\lib\\site-packages\\ipykernel\\ipkernel.py:287: DeprecationWarning: `should_run_async` will not call `transform_cell` automatically in the future. Please pass the result to `transformed_cell` argument and any exception that happen during thetransform in `preprocessing_exc_tuple` in IPython 7.17 and above.\n",
      "  and should_run_async(code)\n"
     ]
    }
   ],
   "source": [
    "#выведем информацию о датасете\n",
    "df.info()"
   ]
  },
  {
   "cell_type": "markdown",
   "metadata": {},
   "source": [
    "### 1. Предобработка данных <a id='section_1'></a>"
   ]
  },
  {
   "cell_type": "code",
   "execution_count": 5,
   "metadata": {},
   "outputs": [
    {
     "name": "stderr",
     "output_type": "stream",
     "text": [
      "C:\\ProgramData\\Anaconda3\\lib\\site-packages\\ipykernel\\ipkernel.py:287: DeprecationWarning: `should_run_async` will not call `transform_cell` automatically in the future. Please pass the result to `transformed_cell` argument and any exception that happen during thetransform in `preprocessing_exc_tuple` in IPython 7.17 and above.\n",
      "  and should_run_async(code)\n",
      "<>:1: DeprecationWarning: invalid escape sequence \\w\n",
      "<>:1: DeprecationWarning: invalid escape sequence \\w\n",
      "<ipython-input-5-b411197f6d74>:1: DeprecationWarning: invalid escape sequence \\w\n",
      "  words_regex = re.compile('\\w+') #компилируем объект (1 или более букв)\n",
      "C:\\ProgramData\\Anaconda3\\lib\\site-packages\\pymorphy2\\units\\base.py:70: DeprecationWarning: inspect.getargspec() is deprecated since Python 3.0, use inspect.signature() or inspect.getfullargspec()\n",
      "  args, varargs, kw, default = inspect.getargspec(cls.__init__)\n",
      "C:\\ProgramData\\Anaconda3\\lib\\site-packages\\pymorphy2\\units\\base.py:70: DeprecationWarning: inspect.getargspec() is deprecated since Python 3.0, use inspect.signature() or inspect.getfullargspec()\n",
      "  args, varargs, kw, default = inspect.getargspec(cls.__init__)\n",
      "C:\\ProgramData\\Anaconda3\\lib\\site-packages\\pymorphy2\\units\\base.py:70: DeprecationWarning: inspect.getargspec() is deprecated since Python 3.0, use inspect.signature() or inspect.getfullargspec()\n",
      "  args, varargs, kw, default = inspect.getargspec(cls.__init__)\n",
      "C:\\ProgramData\\Anaconda3\\lib\\site-packages\\pymorphy2\\units\\base.py:70: DeprecationWarning: inspect.getargspec() is deprecated since Python 3.0, use inspect.signature() or inspect.getfullargspec()\n",
      "  args, varargs, kw, default = inspect.getargspec(cls.__init__)\n",
      "C:\\ProgramData\\Anaconda3\\lib\\site-packages\\pymorphy2\\units\\base.py:70: DeprecationWarning: inspect.getargspec() is deprecated since Python 3.0, use inspect.signature() or inspect.getfullargspec()\n",
      "  args, varargs, kw, default = inspect.getargspec(cls.__init__)\n",
      "C:\\ProgramData\\Anaconda3\\lib\\site-packages\\pymorphy2\\units\\base.py:70: DeprecationWarning: inspect.getargspec() is deprecated since Python 3.0, use inspect.signature() or inspect.getfullargspec()\n",
      "  args, varargs, kw, default = inspect.getargspec(cls.__init__)\n",
      "C:\\ProgramData\\Anaconda3\\lib\\site-packages\\pymorphy2\\units\\base.py:70: DeprecationWarning: inspect.getargspec() is deprecated since Python 3.0, use inspect.signature() or inspect.getfullargspec()\n",
      "  args, varargs, kw, default = inspect.getargspec(cls.__init__)\n",
      "C:\\ProgramData\\Anaconda3\\lib\\site-packages\\pymorphy2\\units\\base.py:70: DeprecationWarning: inspect.getargspec() is deprecated since Python 3.0, use inspect.signature() or inspect.getfullargspec()\n",
      "  args, varargs, kw, default = inspect.getargspec(cls.__init__)\n",
      "C:\\ProgramData\\Anaconda3\\lib\\site-packages\\pymorphy2\\units\\base.py:70: DeprecationWarning: inspect.getargspec() is deprecated since Python 3.0, use inspect.signature() or inspect.getfullargspec()\n",
      "  args, varargs, kw, default = inspect.getargspec(cls.__init__)\n",
      "C:\\ProgramData\\Anaconda3\\lib\\site-packages\\pymorphy2\\units\\base.py:70: DeprecationWarning: inspect.getargspec() is deprecated since Python 3.0, use inspect.signature() or inspect.getfullargspec()\n",
      "  args, varargs, kw, default = inspect.getargspec(cls.__init__)\n",
      "C:\\ProgramData\\Anaconda3\\lib\\site-packages\\pymorphy2\\units\\base.py:70: DeprecationWarning: inspect.getargspec() is deprecated since Python 3.0, use inspect.signature() or inspect.getfullargspec()\n",
      "  args, varargs, kw, default = inspect.getargspec(cls.__init__)\n",
      "C:\\ProgramData\\Anaconda3\\lib\\site-packages\\pymorphy2\\units\\base.py:70: DeprecationWarning: inspect.getargspec() is deprecated since Python 3.0, use inspect.signature() or inspect.getfullargspec()\n",
      "  args, varargs, kw, default = inspect.getargspec(cls.__init__)\n"
     ]
    }
   ],
   "source": [
    "words_regex = re.compile('\\w+') #компилируем объект (1 или более букв)\n",
    "\n",
    "# составляем список токенов из букв и длины >3\n",
    "def find_words(text, regex = words_regex):\n",
    "    tokens = regex.findall(text) #ищем все слова в тексте --> получаем список токенов\n",
    "    return [w for w in tokens if w.isalpha() and len(w)>= 4] #берем токеты из списка токетов, если они состоят только из букв и имеют длину >3\n",
    "\n",
    "morph = pymorphy2.MorphAnalyzer() #морфологический анализ\n",
    "stopwords_list = stopwords.words('russian') #список стоп-слов\n",
    "\n",
    "# составляем списка нормальных форм токенов, убираем стопслова и токены с небуквами \n",
    "def lemmatize(words, lemmer = morph, stopwords = stopwords_list):\n",
    "    lemmas = [lemmer.parse(w)[0].normal_form for w in words] #список нормальных форм для всех токенов\n",
    "    return [w for w in lemmas if not w in stopwords and w.isalpha()] #удаляем из списка нормальных форм стоп-слова и токены с небуквой(ми)\n",
    "\n",
    "#очищаем токены от нецензурной лексики и ненужныъ слов\n",
    "def clear_tokens(tokens):\n",
    "    string_tokens = ' '.join(tokens)\n",
    "    string_tokens = re.sub(r'[A-za-z]', ' ',  string_tokens) \n",
    "    string_tokens = re.sub(r'\\w+ще\\b', ' ',  string_tokens) \n",
    "    string_tokens = re.sub(r'\\bбл\\w+', ' ',  string_tokens) \n",
    "    string_tokens = re.sub(r'значит', ' ',  string_tokens) \n",
    "    string_tokens = re.sub(r'почему', ' ',  string_tokens) \n",
    "    string_tokens = re.sub(r'свой', ' ',  string_tokens) \n",
    "    string_tokens = re.sub(r'капец', ' ',  string_tokens) \n",
    "    string_tokens = re.sub(r'который', ' ',  string_tokens)\n",
    "    string_tokens = re.sub(r'это', ' ',  string_tokens)\n",
    "    string_tokens = re.sub(r'весь', ' ',  string_tokens)\n",
    "    string_tokens = re.sub(r'\\bидио\\w+', ' ',  string_tokens) \n",
    "    string_tokens = re.sub(r'\\bпид\\w+', ' ',  string_tokens)\n",
    "    string_tokens = re.sub(r'\\bхуй\\w+', ' ', string_tokens)\n",
    "    string_tokens = re.sub(r'\\w+xу.\\b', ' ',  string_tokens)\n",
    "    string_tokens = re.sub(r'\\w+xу\\w+', ' ',  string_tokens)\n",
    "    string_tokens = re.sub(r'\\w+но\\b', ' ',  string_tokens)\n",
    "    string_tokens = re.sub(r'\\bпоп\\w+', ' ',  string_tokens)\n",
    "    string_tokens = re.sub(r'\\bпиз\\w+', ' ',  string_tokens)\n",
    "    string_tokens = re.sub(r'\\bгов\\w+', ' ',  string_tokens)\n",
    "    string_tokens = re.sub(r'\\bфиг\\w+', ' ',  string_tokens)\n",
    "    string_tokens = re.sub(r'сука', ' ',  string_tokens)\n",
    "    string_tokens = re.sub(r'очень', ' ',  string_tokens)\n",
    "    string_tokens = re.sub(r'лох', ' ',  string_tokens)\n",
    "    string_tokens = re.sub(r'\\bпи.де\\w+', ' ',  string_tokens)\n",
    "    string_tokens = re.sub(r'нету', ' ',  string_tokens)\n",
    "    string_tokens = re.sub(r'ой', ' ',  string_tokens)\n",
    "    string_tokens = re.sub(r'\\bхот\\w+', ' ',  string_tokens)\n",
    "    string_tokens = re.sub(r'\\bпрост\\w+', ' ',  string_tokens)\n",
    "    string_tokens = re.sub(r'\\bника\\w+', ' ',  string_tokens)\n",
    "    clear_tokens = string_tokens.split()\n",
    "    clear_tokens = [w for w in clear_tokens if len(w)>2]\n",
    "    return clear_tokens\n",
    "\n",
    "def preprocess(text):\n",
    "    return (clear_tokens(lemmatize(find_words(text))))"
   ]
  },
  {
   "cell_type": "markdown",
   "metadata": {},
   "source": [
    "Применяем предобработку к твитам"
   ]
  },
  {
   "cell_type": "code",
   "execution_count": 6,
   "metadata": {},
   "outputs": [
    {
     "name": "stderr",
     "output_type": "stream",
     "text": [
      "C:\\ProgramData\\Anaconda3\\lib\\site-packages\\ipykernel\\ipkernel.py:287: DeprecationWarning: `should_run_async` will not call `transform_cell` automatically in the future. Please pass the result to `transformed_cell` argument and any exception that happen during thetransform in `preprocessing_exc_tuple` in IPython 7.17 and above.\n",
      "  and should_run_async(code)\n"
     ]
    },
    {
     "data": {
      "text/html": [
       "<div>\n",
       "<style scoped>\n",
       "    .dataframe tbody tr th:only-of-type {\n",
       "        vertical-align: middle;\n",
       "    }\n",
       "\n",
       "    .dataframe tbody tr th {\n",
       "        vertical-align: top;\n",
       "    }\n",
       "\n",
       "    .dataframe thead th {\n",
       "        text-align: right;\n",
       "    }\n",
       "</style>\n",
       "<table border=\"1\" class=\"dataframe\">\n",
       "  <thead>\n",
       "    <tr style=\"text-align: right;\">\n",
       "      <th></th>\n",
       "      <th>text</th>\n",
       "      <th>label</th>\n",
       "    </tr>\n",
       "  </thead>\n",
       "  <tbody>\n",
       "    <tr>\n",
       "      <th>0</th>\n",
       "      <td>[школотый, поверь, самый, общество, профилиров...</td>\n",
       "      <td>positive</td>\n",
       "    </tr>\n",
       "    <tr>\n",
       "      <th>1</th>\n",
       "      <td>[таки, немного, похожий, мальчик, хороший]</td>\n",
       "      <td>positive</td>\n",
       "    </tr>\n",
       "    <tr>\n",
       "      <th>2</th>\n",
       "      <td>[испугаться]</td>\n",
       "      <td>positive</td>\n",
       "    </tr>\n",
       "    <tr>\n",
       "      <th>3</th>\n",
       "      <td>[угол, сидеть, погибать, голод, порция, взять,...</td>\n",
       "      <td>positive</td>\n",
       "    </tr>\n",
       "    <tr>\n",
       "      <th>4</th>\n",
       "      <td>[страшилка, посмотреть, часть, создаться, ощущ...</td>\n",
       "      <td>positive</td>\n",
       "    </tr>\n",
       "  </tbody>\n",
       "</table>\n",
       "</div>"
      ],
      "text/plain": [
       "                                                text     label\n",
       "0  [школотый, поверь, самый, общество, профилиров...  positive\n",
       "1         [таки, немного, похожий, мальчик, хороший]  positive\n",
       "2                                       [испугаться]  positive\n",
       "3  [угол, сидеть, погибать, голод, порция, взять,...  positive\n",
       "4  [страшилка, посмотреть, часть, создаться, ощущ...  positive"
      ]
     },
     "execution_count": 6,
     "metadata": {},
     "output_type": "execute_result"
    }
   ],
   "source": [
    "df['text'] = df['text'].apply(preprocess)\n",
    "df.head()"
   ]
  },
  {
   "cell_type": "markdown",
   "metadata": {},
   "source": [
    "### 2. Модель Latent Dirichlet Allocation (LDA) <a id='section_2'></a>"
   ]
  },
  {
   "cell_type": "markdown",
   "metadata": {},
   "source": [
    "**Создадим словарь из всех уникальных токенов датасета**"
   ]
  },
  {
   "cell_type": "code",
   "execution_count": 7,
   "metadata": {},
   "outputs": [
    {
     "name": "stderr",
     "output_type": "stream",
     "text": [
      "C:\\ProgramData\\Anaconda3\\lib\\site-packages\\ipykernel\\ipkernel.py:287: DeprecationWarning: `should_run_async` will not call `transform_cell` automatically in the future. Please pass the result to `transformed_cell` argument and any exception that happen during thetransform in `preprocessing_exc_tuple` in IPython 7.17 and above.\n",
      "  and should_run_async(code)\n"
     ]
    },
    {
     "data": {
      "text/plain": [
       "10455"
      ]
     },
     "execution_count": 7,
     "metadata": {},
     "output_type": "execute_result"
    }
   ],
   "source": [
    "dictionary = corpora.Dictionary(df['text']) #создаем словарь между токенами и их индексами (на вход список списков)\n",
    "\n",
    "dictionary.filter_extremes(no_below = 10, no_above = 0.9, keep_n=None) # игнорируем слова, которые встречаются реже 10 раз или составляют более 0.9 словаря \n",
    "\n",
    "dictionary.save('tweet.dict')\n",
    "\n",
    "len(dictionary.keys()) #длина словаря из токенов"
   ]
  },
  {
   "cell_type": "markdown",
   "metadata": {},
   "source": [
    "**Векторизуем твиты**"
   ]
  },
  {
   "cell_type": "code",
   "execution_count": 8,
   "metadata": {},
   "outputs": [
    {
     "name": "stderr",
     "output_type": "stream",
     "text": [
      "C:\\ProgramData\\Anaconda3\\lib\\site-packages\\ipykernel\\ipkernel.py:287: DeprecationWarning: `should_run_async` will not call `transform_cell` automatically in the future. Please pass the result to `transformed_cell` argument and any exception that happen during thetransform in `preprocessing_exc_tuple` in IPython 7.17 and above.\n",
      "  and should_run_async(code)\n"
     ]
    }
   ],
   "source": [
    "corpus = [dictionary.doc2bow(text) for text in df['text']] #для каждого списка токенов возвращает кортеж (индекс токена, количество встречаний токена в твите)\n",
    "corpora.MmCorpus.serialize('tweet.model', corpus) #выполняем итерацию по корпусу (записываем смещение байта каждого твита). Полученную структуру индексов сохраняем в файл"
   ]
  },
  {
   "cell_type": "code",
   "execution_count": 9,
   "metadata": {},
   "outputs": [
    {
     "name": "stdout",
     "output_type": "stream",
     "text": [
      "['школотый', 'поверь', 'самый', 'общество', 'профилировать', 'предмет', 'тип']\n",
      "[(0, 1.0), (1, 1.0), (2, 1.0), (3, 1.0), (4, 1.0), (5, 1.0)]\n"
     ]
    },
    {
     "name": "stderr",
     "output_type": "stream",
     "text": [
      "C:\\ProgramData\\Anaconda3\\lib\\site-packages\\ipykernel\\ipkernel.py:287: DeprecationWarning: `should_run_async` will not call `transform_cell` automatically in the future. Please pass the result to `transformed_cell` argument and any exception that happen during thetransform in `preprocessing_exc_tuple` in IPython 7.17 and above.\n",
      "  and should_run_async(code)\n"
     ]
    }
   ],
   "source": [
    "#теперь по словарю можно итерироваться\n",
    "mm = corpora.MmCorpus('tweet.model') # корпус имеет произвольный доступ\n",
    "print(df['text'].values[0])\n",
    "print(mm[0]) #  извлекаем документ под номером 0"
   ]
  },
  {
   "cell_type": "markdown",
   "metadata": {},
   "source": [
    "**Обучаем модель**"
   ]
  },
  {
   "cell_type": "code",
   "execution_count": 10,
   "metadata": {},
   "outputs": [
    {
     "name": "stderr",
     "output_type": "stream",
     "text": [
      "C:\\ProgramData\\Anaconda3\\lib\\site-packages\\ipykernel\\ipkernel.py:287: DeprecationWarning: `should_run_async` will not call `transform_cell` automatically in the future. Please pass the result to `transformed_cell` argument and any exception that happen during thetransform in `preprocessing_exc_tuple` in IPython 7.17 and above.\n",
      "  and should_run_async(code)\n"
     ]
    }
   ],
   "source": [
    "lda = ldamodel.LdaModel(corpus, id2word=dictionary, num_topics=3)"
   ]
  },
  {
   "cell_type": "markdown",
   "metadata": {},
   "source": [
    "**Определяем вероятные темы**"
   ]
  },
  {
   "cell_type": "code",
   "execution_count": 11,
   "metadata": {},
   "outputs": [
    {
     "name": "stderr",
     "output_type": "stream",
     "text": [
      "C:\\ProgramData\\Anaconda3\\lib\\site-packages\\ipykernel\\ipkernel.py:287: DeprecationWarning: `should_run_async` will not call `transform_cell` automatically in the future. Please pass the result to `transformed_cell` argument and any exception that happen during thetransform in `preprocessing_exc_tuple` in IPython 7.17 and above.\n",
      "  and should_run_async(code)\n"
     ]
    },
    {
     "data": {
      "text/plain": [
       "[(0,\n",
       "  '0.011*\"новый\" + 0.010*\"утро\" + 0.009*\"настроение\" + 0.008*\"последний\" + 0.008*\"завтра\" + 0.008*\"год\" + 0.008*\"первый\" + 0.007*\"сегодня\" + 0.007*\"ночь\" + 0.007*\"неделя\" + 0.007*\"смотреть\" + 0.007*\"посмотреть\" + 0.006*\"остаться\" + 0.006*\"время\" + 0.006*\"экзамен\" + 0.006*\"ждать\" + 0.006*\"каникулы\" + 0.006*\"фильм\" + 0.006*\"казаться\" + 0.005*\"работать\"'),\n",
       " (1,\n",
       "  '0.023*\"мочь\" + 0.020*\"знать\" + 0.016*\"дом\" + 0.014*\"спать\" + 0.012*\"болеть\" + 0.011*\"думать\" + 0.010*\"сидеть\" + 0.010*\"писать\" + 0.009*\"никто\" + 0.007*\"работа\" + 0.007*\"скучать\" + 0.007*\"человек\" + 0.007*\"голова\" + 0.006*\"больш\" + 0.005*\"пока\" + 0.005*\"делать\" + 0.005*\"жаль\" + 0.005*\"прийтись\" + 0.005*\"нравиться\" + 0.005*\"написать\"'),\n",
       " (2,\n",
       "  '0.026*\"день\" + 0.020*\"сегодня\" + 0.015*\"завтра\" + 0.014*\"школа\" + 0.011*\"человек\" + 0.011*\"делать\" + 0.009*\"друг\" + 0.008*\"понимать\" + 0.008*\"мочь\" + 0.007*\"урок\" + 0.007*\"жизнь\" + 0.007*\"любить\" + 0.007*\"видеть\" + 0.006*\"забыть\" + 0.006*\"мама\" + 0.005*\"вчера\" + 0.005*\"хороший\" + 0.005*\"жалко\" + 0.005*\"читать\" + 0.005*\"бояться\"')]"
      ]
     },
     "execution_count": 11,
     "metadata": {},
     "output_type": "execute_result"
    }
   ],
   "source": [
    "lda.show_topics(num_topics=3, num_words=20, formatted=True)"
   ]
  },
  {
   "cell_type": "markdown",
   "metadata": {},
   "source": [
    "**Оценки качества полученной модели**"
   ]
  },
  {
   "cell_type": "code",
   "execution_count": 12,
   "metadata": {
    "scrolled": true
   },
   "outputs": [
    {
     "name": "stderr",
     "output_type": "stream",
     "text": [
      "C:\\ProgramData\\Anaconda3\\lib\\site-packages\\ipykernel\\ipkernel.py:287: DeprecationWarning: `should_run_async` will not call `transform_cell` automatically in the future. Please pass the result to `transformed_cell` argument and any exception that happen during thetransform in `preprocessing_exc_tuple` in IPython 7.17 and above.\n",
      "  and should_run_async(code)\n"
     ]
    },
    {
     "name": "stdout",
     "output_type": "stream",
     "text": [
      "-8.207942925110618\n"
     ]
    }
   ],
   "source": [
    "print(lda.log_perplexity(corpus))"
   ]
  },
  {
   "cell_type": "code",
   "execution_count": 13,
   "metadata": {
    "scrolled": false
   },
   "outputs": [
    {
     "name": "stderr",
     "output_type": "stream",
     "text": [
      "C:\\ProgramData\\Anaconda3\\lib\\site-packages\\ipykernel\\ipkernel.py:287: DeprecationWarning: `should_run_async` will not call `transform_cell` automatically in the future. Please pass the result to `transformed_cell` argument and any exception that happen during thetransform in `preprocessing_exc_tuple` in IPython 7.17 and above.\n",
      "  and should_run_async(code)\n"
     ]
    },
    {
     "name": "stdout",
     "output_type": "stream",
     "text": [
      "Персплексия:  0.00027248060548099875\n"
     ]
    }
   ],
   "source": [
    "print('Персплексия: ', np.exp(lda.log_perplexity(corpus)))"
   ]
  },
  {
   "cell_type": "markdown",
   "metadata": {},
   "source": [
    "### 3. Визуализация предсказаний модели LDA <a id='section_3'></a>"
   ]
  },
  {
   "cell_type": "code",
   "execution_count": 14,
   "metadata": {},
   "outputs": [
    {
     "name": "stderr",
     "output_type": "stream",
     "text": [
      "C:\\ProgramData\\Anaconda3\\lib\\site-packages\\ipykernel\\ipkernel.py:287: DeprecationWarning: `should_run_async` will not call `transform_cell` automatically in the future. Please pass the result to `transformed_cell` argument and any exception that happen during thetransform in `preprocessing_exc_tuple` in IPython 7.17 and above.\n",
      "  and should_run_async(code)\n",
      "C:\\ProgramData\\Anaconda3\\lib\\site-packages\\pyLDAvis\\_prepare.py:246: FutureWarning: In a future version of pandas all arguments of DataFrame.drop except for the argument 'labels' will be keyword-only.\n",
      "  default_term_info = default_term_info.sort_values(\n"
     ]
    },
    {
     "data": {
      "text/html": [
       "\n",
       "<link rel=\"stylesheet\" type=\"text/css\" href=\"https://cdn.jsdelivr.net/gh/bmabey/pyLDAvis@3.3.1/pyLDAvis/js/ldavis.v1.0.0.css\">\n",
       "\n",
       "\n",
       "<div id=\"ldavis_el1554030397371030726156996839\"></div>\n",
       "<script type=\"text/javascript\">\n",
       "\n",
       "var ldavis_el1554030397371030726156996839_data = {\"mdsDat\": {\"x\": [-0.2798881720696636, 0.2665809655922929, 0.01330720647737076], \"y\": [-0.1445373715280858, -0.16731969986729106, 0.3118570713953768], \"topics\": [1, 2, 3], \"cluster\": [1, 1, 1], \"Freq\": [34.25871089144096, 32.9157660758913, 32.82552303266774]}, \"tinfo\": {\"Term\": [\"\\u0434\\u0435\\u043d\\u044c\", \"\\u0437\\u043d\\u0430\\u0442\\u044c\", \"\\u0434\\u043e\\u043c\", \"\\u0441\\u043f\\u0430\\u0442\\u044c\", \"\\u0448\\u043a\\u043e\\u043b\\u0430\", \"\\u0431\\u043e\\u043b\\u0435\\u0442\\u044c\", \"\\u0441\\u0435\\u0433\\u043e\\u0434\\u043d\\u044f\", \"\\u043c\\u043e\\u0447\\u044c\", \"\\u0434\\u0443\\u043c\\u0430\\u0442\\u044c\", \"\\u043f\\u0438\\u0441\\u0430\\u0442\\u044c\", \"\\u0443\\u0442\\u0440\\u043e\", \"\\u0441\\u0438\\u0434\\u0435\\u0442\\u044c\", \"\\u043d\\u043e\\u0432\\u044b\\u0439\", \"\\u0437\\u0430\\u0432\\u0442\\u0440\\u0430\", \"\\u043d\\u0430\\u0441\\u0442\\u0440\\u043e\\u0435\\u043d\\u0438\\u0435\", \"\\u0434\\u0440\\u0443\\u0433\", \"\\u0433\\u043e\\u0434\", \"\\u043f\\u0435\\u0440\\u0432\\u044b\\u0439\", \"\\u043d\\u0438\\u043a\\u0442\\u043e\", \"\\u043f\\u043e\\u043d\\u0438\\u043c\\u0430\\u0442\\u044c\", \"\\u043f\\u043e\\u0441\\u043b\\u0435\\u0434\\u043d\\u0438\\u0439\", \"\\u0443\\u0440\\u043e\\u043a\", \"\\u0440\\u0430\\u0431\\u043e\\u0442\\u0430\", \"\\u0447\\u0435\\u043b\\u043e\\u0432\\u0435\\u043a\", \"\\u043f\\u043e\\u0441\\u043c\\u043e\\u0442\\u0440\\u0435\\u0442\\u044c\", \"\\u043d\\u0435\\u0434\\u0435\\u043b\\u044f\", \"\\u0432\\u0438\\u0434\\u0435\\u0442\\u044c\", \"\\u0434\\u0435\\u043b\\u0430\\u0442\\u044c\", \"\\u0433\\u043e\\u043b\\u043e\\u0432\\u0430\", \"\\u043e\\u0441\\u0442\\u0430\\u0442\\u044c\\u0441\\u044f\", \"\\u0441\\u043f\\u0430\\u0442\\u044c\", \"\\u043f\\u0440\\u0438\\u0439\\u0442\\u0438\\u0441\\u044c\", \"\\u0431\\u043e\\u043b\\u044c\", \"\\u0431\\u043e\\u043b\\u0435\\u0442\\u044c\", \"\\u0432\\u0441\\u0442\\u0430\\u0432\\u0430\\u0442\\u044c\", \"\\u043f\\u0438\\u0441\\u0430\\u0442\\u044c\", \"\\u0443\\u0436\\u0430\\u0441\\u043d\\u044b\\u0439\", \"\\u0443\\u043c\\u0435\\u0440\\u0435\\u0442\\u044c\", \"\\u0443\\u0441\\u043d\\u0443\\u0442\\u044c\", \"\\u0434\\u0430\\u0432\\u0430\\u0442\\u044c\", \"\\u0434\\u0443\\u043c\\u0430\\u0442\\u044c\", \"\\u0432\\u0441\\u0442\\u0430\\u0442\\u044c\", \"\\u043d\\u0440\\u0430\\u0432\\u0438\\u0442\\u044c\\u0441\\u044f\", \"\\u0443\\u0431\\u0438\\u0442\\u044c\", \"\\u0447\\u0443\\u0432\\u0441\\u0442\\u0432\\u043e\\u0432\\u0430\\u0442\\u044c\", \"\\u0442\\u0435\\u043c\\u043f\\u0435\\u0440\\u0430\\u0442\\u0443\\u0440\\u0430\", \"\\u043f\\u043e\\u0445\\u043e\\u0434\", \"\\u0443\\u043c\\u0435\\u0442\\u044c\", \"\\u043b\\u0435\\u0447\\u044c\", \"\\u043d\\u0430\\u0434\\u043e\\u0435\\u0441\\u0442\\u044c\", \"\\u043d\\u043e\\u0440\\u043c\\u0430\", \"\\u043a\\u0440\\u0430\\u0441\\u0438\\u0432\\u044b\\u0439\", \"\\u043b\\u0438\\u0431\\u043e\", \"\\u043d\\u043e\\u0447\\u044c\\u044e\", \"\\u043e\\u043a\\u0430\\u0437\\u0430\\u0442\\u044c\\u0441\\u044f\", \"\\u0433\\u043e\\u0441\\u043f\\u043e\\u0434\\u044c\", \"\\u043f\\u043e\\u043b\\u0443\\u0447\\u0430\\u0442\\u044c\\u0441\\u044f\", \"\\u0433\\u043e\\u043b\\u043e\\u0432\\u0430\", \"\\u0447\\u0430\\u0441\\u0442\\u043e\", \"\\u0440\\u044f\\u0434\\u043e\\u043c\", \"\\u0437\\u043d\\u0430\\u0442\\u044c\", \"\\u0434\\u043e\\u043c\", \"\\u0440\\u0430\\u0431\\u043e\\u0442\\u0430\", \"\\u043c\\u0430\\u043b\\u0435\\u043d\\u044c\\u043a\\u0438\\u0439\", \"\\u0442\\u0432\\u0438\\u0442\\u0442\\u0435\\u0440\", \"\\u0441\\u0438\\u0434\\u0435\\u0442\\u044c\", \"\\u043d\\u0443\\u0436\\u043d\\u044b\\u0439\", \"\\u0433\\u0443\\u043b\\u044f\\u0442\\u044c\", \"\\u0441\\u0440\\u0430\\u0437\\u0443\", \"\\u0441\\u043b\\u0438\\u0448\\u043a\\u043e\\u043c\", \"\\u043f\\u0435\\u0441\\u043d\\u044f\", \"\\u0443\\u0439\\u0442\\u0438\", \"\\u043d\\u0438\\u043a\\u0442\\u043e\", \"\\u043f\\u0440\\u0430\\u0432\\u0434\\u0430\", \"\\u0440\\u0430\\u043d\\u043d\\u0438\\u0439\", \"\\u043c\\u043e\\u0447\\u044c\", \"\\u0441\\u043a\\u0443\\u0447\\u0430\\u0442\\u044c\", \"\\u043f\\u043e\\u043a\\u0430\", \"\\u043d\\u0430\\u043f\\u0438\\u0441\\u0430\\u0442\\u044c\", \"\\u0431\\u043e\\u043b\\u044c\\u0448\", \"\\u0447\\u0435\\u043b\\u043e\\u0432\\u0435\\u043a\", \"\\u0436\\u0430\\u043b\\u044c\", \"\\u0438\\u0434\\u0442\\u0438\", \"\\u0434\\u0435\\u043b\\u0430\\u0442\\u044c\", \"\\u0441\\u043c\\u043e\\u0442\\u0440\\u0435\\u0442\\u044c\", \"\\u0447\\u0430\\u0441\", \"\\u043b\\u044e\\u0431\\u0438\\u0442\\u044c\", \"\\u043d\\u0430\\u0441\\u0442\\u0440\\u043e\\u0435\\u043d\\u0438\\u0435\", \"\\u043f\\u0435\\u0440\\u0432\\u044b\\u0439\", \"\\u043f\\u043e\\u0441\\u043c\\u043e\\u0442\\u0440\\u0435\\u0442\\u044c\", \"\\u044d\\u043a\\u0437\\u0430\\u043c\\u0435\\u043d\", \"\\u043e\\u0441\\u0442\\u0430\\u0442\\u044c\\u0441\\u044f\", \"\\u043c\\u0435\\u0441\\u044f\\u0446\", \"\\u043a\\u0430\\u0437\\u0430\\u0442\\u044c\\u0441\\u044f\", \"\\u0443\\u0436\\u0430\\u0441\", \"\\u0431\\u044b\\u0441\\u0442\\u0440\\u043e\", \"\\u0441\\u0434\\u0430\\u0442\\u044c\", \"\\u043f\\u0435\\u0447\\u0430\\u043b\\u044c\", \"\\u0441\\u0442\\u0430\\u0440\\u044b\\u0439\", \"\\u0441\\u0435\\u0437\\u043e\\u043d\", \"\\u0441\\u0435\\u0440\\u0438\\u044f\", \"\\u043b\\u0435\\u043d\\u044c\", \"\\u0441\\u0435\\u0441\\u0441\\u0438\\u044f\", \"\\u0441\\u043f\\u0430\\u0441\\u0438\\u0431\\u043e\", \"\\u0432\\u044b\\u0441\\u043f\\u0430\\u0442\\u044c\\u0441\\u044f\", \"\\u044f\\u043d\\u0432\\u0430\\u0440\\u044c\", \"\\u043f\\u043e\\u0442\\u0435\\u0440\\u044f\\u0442\\u044c\", \"\\u043d\\u043e\\u0432\\u043e\\u0441\\u0442\\u044c\", \"\\u0441\\u043e\\u0436\\u0430\\u043b\\u0435\\u043d\\u0438\\u0435\", \"\\u0433\\u043e\\u0442\\u043e\\u0432\\u0438\\u0442\\u044c\\u0441\\u044f\", \"\\u043a\\u043e\\u043c\\u043f\", \"\\u043f\\u043b\\u0430\\u0447\", \"\\u0434\\u043e\\u0436\\u0434\\u044c\", \"\\u0434\\u043e\\u0431\\u0440\\u044b\\u0439\", \"\\u0442\\u0440\\u0435\\u0442\\u0438\\u0439\", \"\\u043d\\u0430\\u0445\\u0443\\u0439\", \"\\u0438\\u0433\\u0440\\u0430\", \"\\u0443\\u0442\\u0440\\u043e\", \"\\u0433\\u043e\\u0434\", \"\\u0436\\u0434\\u0430\\u0442\\u044c\", \"\\u0444\\u0438\\u043b\\u044c\\u043c\", \"\\u0437\\u0430\\u043a\\u043e\\u043d\\u0447\\u0438\\u0442\\u044c\\u0441\\u044f\", \"\\u0441\\u043c\\u043e\\u0447\\u044c\", \"\\u043d\\u0435\\u0434\\u0435\\u043b\\u044f\", \"\\u043d\\u0430\\u0447\\u0430\\u0442\\u044c\\u0441\\u044f\", \"\\u043f\\u043e\\u043d\\u0435\\u0434\\u0435\\u043b\\u044c\\u043d\\u0438\\u043a\", \"\\u0432\\u0435\\u0447\\u0435\\u0440\", \"\\u043f\\u043e\\u0441\\u043b\\u0435\\u0434\\u043d\\u0438\\u0439\", \"\\u0443\\u0447\\u0451\\u0431\\u0430\", \"\\u043a\\u043b\\u0430\\u0441\\u0441\", \"\\u0442\\u0432\\u0438\\u0442\", \"\\u043a\\u0430\\u043d\\u0438\\u043a\\u0443\\u043b\\u044b\", \"\\u043d\\u043e\\u0432\\u044b\\u0439\", \"\\u043c\\u0435\\u0441\\u0442\\u043e\", \"\\u043d\\u043e\\u0447\\u044c\", \"\\u0434\\u0435\\u043d\\u044c\\u0433\\u0430\", \"\\u0440\\u0430\\u0431\\u043e\\u0442\\u0430\\u0442\\u044c\", \"\\u0441\\u043a\\u043e\\u0440\\u043e\", \"\\u0441\\u043c\\u043e\\u0442\\u0440\\u0435\\u0442\\u044c\", \"\\u0432\\u0442\\u043e\\u0440\", \"\\u0432\\u0440\\u0435\\u043c\\u044f\", \"\\u0437\\u0430\\u0432\\u0442\\u0440\\u0430\", \"\\u043b\\u044e\\u0431\\u0438\\u043c\\u044b\\u0439\", \"\\u0441\\u0435\\u0433\\u043e\\u0434\\u043d\\u044f\", \"\\u0441\\u0430\\u043c\\u044b\\u0439\", \"\\u0445\\u043e\\u0440\\u043e\\u0448\\u0438\\u0439\", \"\\u0436\\u0438\\u0437\\u043d\\u044c\", \"\\u043f\\u043e\\u043d\\u0438\\u043c\\u0430\\u0442\\u044c\", \"\\u0432\\u0438\\u0434\\u0435\\u0442\\u044c\", \"\\u0436\\u0430\\u043b\\u043a\\u043e\", \"\\u0431\\u043e\\u044f\\u0442\\u044c\\u0441\\u044f\", \"\\u0434\\u0435\\u043d\\u044c\", \"\\u0443\\u0447\\u0438\\u0442\\u044c\", \"\\u0443\\u0440\\u043e\\u043a\", \"\\u0447\\u0438\\u0442\\u0430\\u0442\\u044c\", \"\\u043d\\u043e\\u0433\\u0430\", \"\\u0431\\u0435\\u0441\\u0438\\u0442\\u044c\", \"\\u0443\\u0435\\u0445\\u0430\\u0442\\u044c\", \"\\u043f\\u043e\\u0433\\u043e\\u0434\\u0430\", \"\\u0441\\u043b\\u0435\\u0437\\u0430\", \"\\u0446\\u0435\\u043b\\u044b\\u0439\", \"\\u043f\\u044b\\u0442\\u0430\\u0442\\u044c\\u0441\\u044f\", \"\\u0443\\u0441\\u043f\\u0435\\u0442\\u044c\", \"\\u0441\\u043e\\u0441\\u043a\\u0443\\u0447\\u0438\\u0442\\u044c\\u0441\\u044f\", \"\\u043a\\u0430\\u0442\\u043e\\u043a\", \"\\u0443\\u0435\\u0437\\u0436\\u0430\\u0442\\u044c\", \"\\u043f\\u043b\\u0430\\u043a\\u0430\\u0442\\u044c\", \"\\u043b\\u0435\\u0436\\u0430\\u0442\\u044c\", \"\\u043d\\u0435\\u043c\\u043d\\u043e\\u0433\\u043e\", \"\\u0442\\u0443\\u043f\", \"\\u043c\\u0430\\u0433\\u0430\\u0437\\u0438\\u043d\", \"\\u0436\\u043e\\u043f\\u0430\", \"\\u043c\\u043e\\u0440\\u043e\\u0437\", \"\\u0431\\u0435\\u0434\\u043d\\u044b\\u0439\", \"\\u0445\\u0432\\u0430\\u0442\\u0438\\u0442\\u044c\", \"\\u0441\\u043a\\u043e\\u0440\\u0435\\u0435\", \"\\u0442\\u0443\\u0434\\u0430\", \"\\u0437\\u0430\\u0431\\u043e\\u043b\\u0435\\u0442\\u044c\", \"\\u0437\\u0430\\u0431\\u044b\\u0442\\u044c\", \"\\u0441\\u0445\\u043e\\u0434\\u0438\\u0442\\u044c\", \"\\u043b\\u0438\\u0448\\u044c\", \"\\u0441\\u043a\\u043e\\u043b\\u044c\\u043a\\u043e\", \"\\u0434\\u0440\\u0443\\u0433\", \"\\u0431\\u043e\\u0433\", \"\\u0437\\u0438\\u043c\\u0430\", \"\\u043b\\u0435\\u0442\\u043e\", \"\\u043d\\u0435\\u0447\\u0435\\u0433\\u043e\", \"\\u0448\\u043a\\u043e\\u043b\\u0430\", \"\\u043f\\u043e\\u043b\\u0443\\u0447\\u0438\\u0442\\u044c\\u0441\\u044f\", \"\\u0441\\u0442\\u043e\\u043b\\u044c\\u043a\\u043e\", \"\\u0432\\u0447\\u0435\\u0440\\u0430\", \"\\u0441\\u0435\\u0433\\u043e\\u0434\\u043d\\u044f\", \"\\u0445\\u043e\\u0434\\u0438\\u0442\\u044c\", \"\\u0437\\u0430\\u0432\\u0442\\u0440\\u0430\", \"\\u0434\\u0435\\u043b\\u0430\\u0442\\u044c\", \"\\u0447\\u0435\\u043b\\u043e\\u0432\\u0435\\u043a\", \"\\u0436\\u0438\\u0437\\u043d\\u044c\", \"\\u043c\\u0430\\u043c\\u0430\", \"\\u043b\\u044e\\u0431\\u0438\\u0442\\u044c\", \"\\u043f\\u0430\\u0440\\u0435\\u043d\\u044c\", \"\\u043a\\u0430\\u0436\\u0434\\u044b\\u0439\", \"\\u0443\\u043b\\u0438\\u0446\\u0430\", \"\\u0441\\u0434\\u0435\\u043b\\u0430\\u0442\\u044c\", \"\\u043c\\u043e\\u0447\\u044c\", \"\\u0445\\u043e\\u0440\\u043e\\u0448\\u0438\\u0439\", \"\\u0431\\u043e\\u043b\\u044c\\u0448\", \"\\u0441\\u043a\\u0430\\u0437\\u0430\\u0442\\u044c\"], \"Freq\": [8769.0, 6874.0, 5564.0, 4898.0, 4976.0, 4087.0, 9219.0, 10776.0, 3695.0, 3578.0, 3328.0, 3620.0, 4032.0, 7701.0, 2846.0, 2883.0, 2683.0, 2637.0, 3120.0, 2590.0, 2827.0, 2489.0, 2448.0, 6093.0, 2268.0, 2354.0, 2240.0, 5245.0, 2293.0, 2120.0, 4898.105701620232, 1676.6189972251375, 1501.952686882069, 4084.7000201761875, 1462.632766454389, 3576.600758757475, 1374.9724609113578, 1228.8276046226138, 1083.8192121799416, 1406.6730895758076, 3692.990359813068, 1121.1632251416493, 1673.8954905768924, 978.2292891657462, 1294.812138218297, 903.3538585850783, 878.9565186583534, 771.2155617570979, 695.5507698356229, 764.1698736452258, 763.6853679839322, 788.8162517436359, 643.559103851822, 629.185449363091, 619.4265537813358, 594.5524224798551, 934.3501850053103, 2289.8606722609857, 560.1042961399171, 813.1675482847428, 6860.777229006866, 5543.353507223001, 2443.2953273832472, 1446.4098238101355, 1410.8712770097436, 3580.899756972554, 1391.8404956214815, 1087.8784616783284, 1015.6842101422849, 1004.7783092024873, 1000.4326213788341, 1247.5741286880864, 3027.593322440866, 1472.8330727040566, 1349.9683984067774, 7891.169392850829, 2400.0161604596283, 1755.535259949945, 1639.865551267384, 2112.3396720095952, 2368.5126297967718, 1740.537394474611, 1633.6223912890484, 1740.7362695893332, 1618.7710568689972, 1469.7184396116663, 1507.8856598415036, 2846.172510587694, 2637.0465033614705, 2267.7323377109274, 2107.88023651492, 2120.048923080062, 1344.1955403599734, 1845.0960570165978, 1227.1462644592593, 1030.4556940738617, 941.832901508532, 962.7388431756833, 1001.7534575439752, 897.9751824840886, 1028.2837399088926, 981.1404211839024, 909.4932529418542, 1524.3408414638889, 916.4906163708142, 823.5887985801352, 756.0124242600735, 817.9273596479273, 766.0185476359107, 636.7025232051647, 654.7610201561656, 674.1938980373204, 798.4809773885447, 1082.5957103545022, 651.5704943827973, 629.2166738189304, 642.6706046567862, 3318.9980457997017, 2679.238837627225, 1970.4284838985695, 1850.239517671264, 1671.381944403874, 1439.8839943590933, 2336.506100233853, 1073.5817707215615, 964.6440470649691, 1478.3550186980322, 2768.1470071968283, 1414.2894722717188, 1054.8374609072857, 1291.0449464419535, 1934.7849969596007, 3803.163533377333, 1226.0230727252792, 2340.0046655312794, 1296.70382419898, 1681.8667747044756, 1620.7160008570288, 2326.042535448392, 1453.444563218127, 2117.108383526646, 2717.549982545766, 1550.5377829984134, 2349.55800417964, 1564.0218270474898, 1609.452573301363, 1486.523615298461, 2590.0204959332004, 2239.3935965579244, 1728.2412537260102, 1637.7384667397396, 8764.778840296214, 1359.1111385443892, 2487.5299061955748, 1704.5083701921815, 1210.9111878742558, 1139.4894745449906, 1075.994537504948, 1094.5253846068579, 1007.1152129619777, 898.9231337104203, 932.7220130800017, 1005.7216514027583, 829.8168765103196, 798.0918148812395, 736.1893537690473, 1244.7195098714533, 737.1291274125931, 813.6648749803404, 719.9611920294446, 711.0267635358629, 684.6785043481833, 665.5400783381996, 660.0923013925055, 677.5312866273833, 675.0661416309301, 762.9908590822913, 1539.8459722595487, 2112.46362898419, 973.2248484625436, 819.4051411863672, 1009.262327164383, 2841.1872698468674, 1214.8198165185538, 1004.8734402876521, 956.3134119967655, 917.9675978357669, 4758.041295068853, 1116.97693453264, 1223.780715328895, 1794.839951503973, 6714.9199872027975, 1418.25403043512, 4943.419579613439, 3504.5947075184336, 3710.584235785326, 2410.045406748188, 1853.4822293338857, 2407.7217463687994, 1191.188712126651, 1491.1497224555144, 1365.6284091654675, 1581.5932221241308, 2530.547731264608, 1754.9086272879558, 1434.7448829790544, 1381.6768513860195], \"Total\": [8769.0, 6874.0, 5564.0, 4898.0, 4976.0, 4087.0, 9219.0, 10776.0, 3695.0, 3578.0, 3328.0, 3620.0, 4032.0, 7701.0, 2846.0, 2883.0, 2683.0, 2637.0, 3120.0, 2590.0, 2827.0, 2489.0, 2448.0, 6093.0, 2268.0, 2354.0, 2240.0, 5245.0, 2293.0, 2120.0, 4898.938348462336, 1677.4715027374382, 1502.8273789298999, 4087.1626310794277, 1463.5235960265552, 3578.7908016639904, 1375.847342938486, 1229.622982052796, 1084.607951863666, 1407.6978107194734, 3695.8164945942167, 1122.05537429651, 1675.2903496982144, 979.0490221077453, 1295.9266208842214, 904.1647479900383, 879.7562186237375, 771.9936586713134, 696.304877153348, 765.0020790318172, 764.5306587766347, 789.718975837687, 644.3517641658476, 629.9810097586661, 620.2582379839744, 595.351671286332, 935.60983809417, 2293.0355229544098, 560.8943575356984, 814.3323842897676, 6874.381227106585, 5564.48647670455, 2448.134645690634, 1448.8863955826414, 1412.9682392505729, 3620.7712108057, 1395.7712847983807, 1090.3632393109053, 1017.6661222400949, 1006.8361733408298, 1003.6813120278755, 1255.298008073867, 3120.451276791366, 1494.7660836784405, 1385.8584806363167, 10776.433018096057, 3420.52164980703, 2222.3022301255696, 2112.1185818552253, 4479.148513465391, 6093.406102811977, 3096.1157183724936, 3243.36539425501, 5245.753071844219, 3946.1269911623203, 2822.2487966374883, 4924.469366663825, 2846.9290291821635, 2637.8289986438176, 2268.486162809165, 2108.629987873514, 2120.8395732131003, 1344.991079625162, 1846.2564015535436, 1227.9481371524398, 1031.2027647733637, 942.5711950732123, 963.4956728173281, 1002.5560142251354, 898.6973394777314, 1029.1113797162561, 981.9415211529946, 910.2361025588589, 1525.5881322280616, 917.2639498257912, 824.3396563512449, 756.7729636507604, 818.7685954024865, 766.8289537202984, 637.4489284731242, 655.5360914884411, 674.9997334069797, 799.4381932033748, 1083.8936794563815, 652.3620930478937, 630.0276862066822, 643.5194740999125, 3328.9033665218253, 2683.456981129438, 1974.9480175860165, 1857.4176614303803, 1677.2860769092995, 1442.9505789393504, 2354.703119130733, 1075.1019890157288, 966.5314875903658, 1490.8108139155383, 2827.525585396787, 1426.572598803126, 1058.7465988737147, 1303.6296808629022, 1987.511410797958, 4032.9155496283465, 1245.2585204540035, 2484.299213201949, 1388.2829697910465, 2131.126869994581, 2149.6117492792328, 3946.1269911623203, 1917.253586731169, 4204.76955985787, 7701.168838047246, 2447.642241102223, 9219.227366914303, 3310.752929891024, 4708.225134619701, 3922.7459060115034, 2590.855139176278, 2240.2983877042147, 1729.0597297559852, 1638.5303333302002, 8769.335816086908, 1359.9290066104988, 2489.042917192791, 1705.6411593411444, 1211.7479740100966, 1140.2933758452302, 1076.770478738585, 1095.3178845147759, 1007.9044898643946, 899.7033434296934, 933.5320642112042, 1006.6012768621407, 830.5714673471579, 798.8506220192133, 736.9435949787613, 1246.0552699906264, 737.9301545538178, 814.5514697080719, 720.7490808862825, 711.8111758624356, 685.4623717250452, 666.302161828221, 660.8632593042987, 678.3611386131747, 675.9059856527565, 763.9715212917476, 1541.974335389118, 2130.7396993223865, 975.0957533686055, 820.5351232557961, 1012.9471152058173, 2883.6884543715814, 1223.3916073804367, 1009.4097557968139, 960.4300725136144, 921.7449493916307, 4976.145720117844, 1127.9311582935397, 1244.741776292117, 1901.4970993981394, 9219.227366914303, 1575.0373298994684, 7701.168838047246, 5245.753071844219, 6093.406102811977, 3922.7459060115034, 3006.375684769314, 4924.469366663825, 1377.1495967252745, 2131.518828042589, 1808.3807867962832, 2916.3061521790655, 10776.433018096057, 4708.225134619701, 4479.148513465391, 4024.46439034593], \"Category\": [\"Default\", \"Default\", \"Default\", \"Default\", \"Default\", \"Default\", \"Default\", \"Default\", \"Default\", \"Default\", \"Default\", \"Default\", \"Default\", \"Default\", \"Default\", \"Default\", \"Default\", \"Default\", \"Default\", \"Default\", \"Default\", \"Default\", \"Default\", \"Default\", \"Default\", \"Default\", \"Default\", \"Default\", \"Default\", \"Default\", \"Topic1\", \"Topic1\", \"Topic1\", \"Topic1\", \"Topic1\", \"Topic1\", \"Topic1\", \"Topic1\", \"Topic1\", \"Topic1\", \"Topic1\", \"Topic1\", \"Topic1\", \"Topic1\", \"Topic1\", \"Topic1\", \"Topic1\", \"Topic1\", \"Topic1\", \"Topic1\", \"Topic1\", \"Topic1\", \"Topic1\", \"Topic1\", \"Topic1\", \"Topic1\", \"Topic1\", \"Topic1\", \"Topic1\", \"Topic1\", \"Topic1\", \"Topic1\", \"Topic1\", \"Topic1\", \"Topic1\", \"Topic1\", \"Topic1\", \"Topic1\", \"Topic1\", \"Topic1\", \"Topic1\", \"Topic1\", \"Topic1\", \"Topic1\", \"Topic1\", \"Topic1\", \"Topic1\", \"Topic1\", \"Topic1\", \"Topic1\", \"Topic1\", \"Topic1\", \"Topic1\", \"Topic1\", \"Topic1\", \"Topic1\", \"Topic1\", \"Topic2\", \"Topic2\", \"Topic2\", \"Topic2\", \"Topic2\", \"Topic2\", \"Topic2\", \"Topic2\", \"Topic2\", \"Topic2\", \"Topic2\", \"Topic2\", \"Topic2\", \"Topic2\", \"Topic2\", \"Topic2\", \"Topic2\", \"Topic2\", \"Topic2\", \"Topic2\", \"Topic2\", \"Topic2\", \"Topic2\", \"Topic2\", \"Topic2\", \"Topic2\", \"Topic2\", \"Topic2\", \"Topic2\", \"Topic2\", \"Topic2\", \"Topic2\", \"Topic2\", \"Topic2\", \"Topic2\", \"Topic2\", \"Topic2\", \"Topic2\", \"Topic2\", \"Topic2\", \"Topic2\", \"Topic2\", \"Topic2\", \"Topic2\", \"Topic2\", \"Topic2\", \"Topic2\", \"Topic2\", \"Topic2\", \"Topic2\", \"Topic2\", \"Topic2\", \"Topic2\", \"Topic2\", \"Topic2\", \"Topic2\", \"Topic2\", \"Topic2\", \"Topic2\", \"Topic2\", \"Topic3\", \"Topic3\", \"Topic3\", \"Topic3\", \"Topic3\", \"Topic3\", \"Topic3\", \"Topic3\", \"Topic3\", \"Topic3\", \"Topic3\", \"Topic3\", \"Topic3\", \"Topic3\", \"Topic3\", \"Topic3\", \"Topic3\", \"Topic3\", \"Topic3\", \"Topic3\", \"Topic3\", \"Topic3\", \"Topic3\", \"Topic3\", \"Topic3\", \"Topic3\", \"Topic3\", \"Topic3\", \"Topic3\", \"Topic3\", \"Topic3\", \"Topic3\", \"Topic3\", \"Topic3\", \"Topic3\", \"Topic3\", \"Topic3\", \"Topic3\", \"Topic3\", \"Topic3\", \"Topic3\", \"Topic3\", \"Topic3\", \"Topic3\", \"Topic3\", \"Topic3\", \"Topic3\", \"Topic3\", \"Topic3\", \"Topic3\", \"Topic3\", \"Topic3\", \"Topic3\", \"Topic3\", \"Topic3\", \"Topic3\", \"Topic3\", \"Topic3\", \"Topic3\", \"Topic3\"], \"logprob\": [30.0, 29.0, 28.0, 27.0, 26.0, 25.0, 24.0, 23.0, 22.0, 21.0, 20.0, 19.0, 18.0, 17.0, 16.0, 15.0, 14.0, 13.0, 12.0, 11.0, 10.0, 9.0, 8.0, 7.0, 6.0, 5.0, 4.0, 3.0, 2.0, 1.0, -4.2603, -5.3324, -5.4424, -4.4419, -5.4689, -4.5747, -5.5307, -5.6431, -5.7687, -5.5079, -4.5427, -5.7348, -5.334, -5.8712, -5.5908, -5.9508, -5.9782, -6.1089, -6.2122, -6.1181, -6.1187, -6.0864, -6.2899, -6.3125, -6.3281, -6.3691, -5.9171, -5.0207, -6.4288, -6.056, -3.9233, -4.1365, -4.9558, -5.4801, -5.5049, -4.5735, -5.5185, -5.7649, -5.8336, -5.8444, -5.8487, -5.6279, -4.7414, -5.462, -5.5491, -3.7834, -4.9737, -5.2864, -5.3545, -5.1014, -4.9869, -5.295, -5.3583, -5.2948, -5.3675, -5.4641, -5.4384, -4.7632, -4.8395, -4.9904, -5.0635, -5.0577, -5.5134, -5.1966, -5.6045, -5.7792, -5.8691, -5.8471, -5.8074, -5.9168, -5.7813, -5.8282, -5.904, -5.3876, -5.8964, -6.0032, -6.0889, -6.0101, -6.0757, -6.2606, -6.2326, -6.2034, -6.0342, -5.7298, -6.2375, -6.2724, -6.2513, -4.6095, -4.8236, -5.1309, -5.1938, -5.2955, -5.4446, -4.9605, -5.7382, -5.8452, -5.4182, -4.791, -5.4625, -5.7558, -5.5537, -5.1492, -4.4733, -5.6054, -4.959, -5.5493, -5.2893, -5.3263, -4.965, -5.4352, -5.0591, -4.8094, -5.3706, -4.9549, -5.3619, -5.3333, -5.4127, -4.8547, -5.0002, -5.2593, -5.3131, -3.6357, -5.4996, -4.8951, -5.2731, -5.615, -5.6758, -5.7332, -5.7161, -5.7993, -5.913, -5.8761, -5.8007, -5.993, -6.0319, -6.1127, -5.5875, -6.1114, -6.0126, -6.135, -6.1475, -6.1852, -6.2136, -6.2218, -6.1957, -6.1994, -6.0769, -5.3747, -5.0586, -5.8336, -6.0056, -5.7972, -4.7622, -5.6118, -5.8016, -5.8511, -5.892, -4.2466, -5.6958, -5.6045, -5.2215, -3.9021, -5.457, -4.2084, -4.5523, -4.4952, -4.9268, -5.1893, -4.9277, -5.6315, -5.4069, -5.4948, -5.348, -4.878, -5.244, -5.4454, -5.4831], \"loglift\": [30.0, 29.0, 28.0, 27.0, 26.0, 25.0, 24.0, 23.0, 22.0, 21.0, 20.0, 19.0, 18.0, 17.0, 16.0, 15.0, 14.0, 13.0, 12.0, 11.0, 10.0, 9.0, 8.0, 7.0, 6.0, 5.0, 4.0, 3.0, 2.0, 1.0, 1.0711, 1.0707, 1.0706, 1.0706, 1.0706, 1.0706, 1.0706, 1.0706, 1.0705, 1.0705, 1.0705, 1.0704, 1.0704, 1.0704, 1.0704, 1.0703, 1.0703, 1.0702, 1.0701, 1.0701, 1.0701, 1.0701, 1.07, 1.07, 1.0699, 1.0699, 1.0699, 1.0698, 1.0698, 1.0698, 1.0692, 1.0674, 1.0693, 1.0695, 1.0697, 1.0602, 1.0684, 1.0689, 1.0693, 1.0692, 1.068, 1.0651, 1.041, 1.0564, 1.045, 0.7596, 0.7169, 0.8355, 0.8182, 0.3196, 0.1263, 0.4953, 0.3854, -0.0319, 0.1802, 0.4188, -0.1123, 1.111, 1.1109, 1.1109, 1.1109, 1.1108, 1.1106, 1.1106, 1.1106, 1.1105, 1.1104, 1.1104, 1.1104, 1.1104, 1.1104, 1.1104, 1.1104, 1.1104, 1.1104, 1.1103, 1.1102, 1.1102, 1.1102, 1.11, 1.11, 1.11, 1.11, 1.11, 1.11, 1.1099, 1.1099, 1.1082, 1.1096, 1.1089, 1.1073, 1.1077, 1.1091, 1.1035, 1.1098, 1.1093, 1.1028, 1.09, 1.1026, 1.1075, 1.1015, 1.0843, 1.0526, 1.0957, 1.0514, 1.043, 0.8745, 0.8288, 0.5827, 0.8343, 0.4251, 0.0696, 0.6547, -0.2558, 0.3613, 0.0378, 0.1409, 1.1136, 1.1136, 1.1135, 1.1135, 1.1134, 1.1134, 1.1134, 1.1133, 1.1133, 1.1133, 1.1132, 1.1132, 1.1132, 1.1131, 1.1131, 1.1131, 1.1131, 1.113, 1.1129, 1.1129, 1.1129, 1.1129, 1.1129, 1.1129, 1.1128, 1.1128, 1.1128, 1.1127, 1.1127, 1.1127, 1.1126, 1.1053, 1.112, 1.1126, 1.1103, 1.0991, 1.1069, 1.1095, 1.1097, 1.1099, 1.0691, 1.1042, 1.097, 1.0562, 0.797, 1.0091, 0.6706, 0.7106, 0.6179, 0.6268, 0.6303, 0.3984, 0.9689, 0.7567, 0.8331, 0.5021, -0.335, 0.1271, -0.0245, 0.0449]}, \"token.table\": {\"Topic\": [3, 3, 1, 3, 1, 3, 1, 1, 2, 3, 3, 2, 1, 2, 3, 1, 2, 3, 1, 1, 2, 2, 3, 1, 2, 3, 2, 1, 2, 3, 1, 3, 1, 2, 1, 2, 1, 3, 1, 3, 2, 3, 1, 2, 3, 1, 2, 1, 2, 1, 2, 3, 1, 2, 3, 1, 2, 3, 3, 1, 2, 3, 1, 2, 3, 1, 2, 3, 3, 2, 3, 1, 2, 3, 1, 2, 3, 2, 3, 2, 3, 1, 2, 3, 2, 1, 2, 3, 1, 2, 3, 2, 3, 2, 3, 3, 1, 2, 3, 2, 1, 3, 2, 2, 3, 1, 1, 2, 3, 1, 2, 3, 1, 2, 3, 3, 1, 2, 1, 2, 3, 1, 2, 3, 2, 3, 1, 2, 3, 1, 1, 2, 3, 2, 2, 2, 3, 1, 2, 3, 3, 1, 3, 1, 2, 3, 2, 1, 2, 3, 3, 1, 1, 2, 1, 1, 2, 1, 3, 1, 2, 2, 3, 2, 1, 3, 2, 1, 2, 3, 2, 3, 2, 3, 1, 2, 3, 1, 3, 1, 2, 3, 2, 3, 3, 2, 3, 2, 2, 1, 1, 2, 3, 1, 3, 1, 2, 3, 1, 2, 3, 1, 2, 3, 1, 2, 1, 2, 3, 2, 1, 2, 3, 1, 2, 3, 2, 2, 2, 1, 2, 3, 1, 2, 3, 1, 3, 3, 1, 2, 3, 1, 2, 3, 3, 1, 3, 1, 2, 3, 2, 3, 2, 3, 2, 3, 1, 1, 2, 3, 2, 1, 2, 3, 1, 2, 3, 1, 2, 3, 1, 3, 1, 2, 2, 3, 3, 1, 3, 3, 2, 1, 1, 2, 1, 2, 3, 1, 1, 1, 3, 1, 3, 1, 2, 3, 1, 2, 1, 2, 3, 3, 1, 2, 3, 1, 2, 3, 3, 1, 2, 3, 1, 1, 2, 3, 1, 2, 3, 1, 3, 1, 2, 3, 2, 2], \"Freq\": [0.9986937399043677, 0.9988657516805519, 0.006539198039072577, 0.9931407021841477, 0.9994708722713936, 0.0004893370243678794, 0.9994494517856808, 0.47151819004233125, 0.20807526189368028, 0.32037339143501203, 0.9996763359704655, 0.9988336292197315, 0.008049311078233068, 0.9914068144690396, 0.9994204398345592, 0.2325930080299236, 0.5034758670749983, 0.263748104197531, 0.9996422360199885, 0.9990594276176684, 0.0008912216125046105, 0.7578548868317934, 0.24149126813704083, 0.017880647838359395, 0.03786490130476107, 0.9439930255839739, 0.9986220434957339, 0.000745307271204408, 0.9983390897783044, 0.000745307271204408, 0.9986761988970416, 0.001308309430869487, 0.9994093049481625, 0.999295742053878, 0.9978326128158916, 0.0018342511264998007, 0.9995042894048995, 0.000710379736606183, 0.33188752428027013, 0.6681595477325369, 0.00045613488682486075, 0.9995055707549761, 0.0007203142455536368, 0.9342475764830669, 0.06554859634538095, 0.0009225997152244142, 0.9991754915880405, 0.001250878440011688, 0.9982009951293271, 0.9961386415809433, 0.0016173999231875321, 0.0021565332309167093, 0.014217902054518158, 0.00034677809889068677, 0.9851965789484411, 0.9992379235824246, 0.0005411524091970888, 0.0002705762045985444, 0.9993871063342995, 0.5623174837002459, 0.4376451409614206, 0.00032298534388296727, 0.0020253697638529288, 0.9974946086975675, 0.0005063424409632322, 0.006628010231342207, 0.379071200538687, 0.6143655637513353, 0.9993254600921688, 0.0012970384487594594, 0.9987196055447837, 0.00046932058398218136, 0.007978449927697083, 0.9912050733703671, 0.0051940167578695285, 0.3529334386972345, 0.641850620853727, 0.9962522332976836, 0.003577207300889349, 0.003962711849205832, 0.9956313521129654, 0.9980534644989106, 0.0005818705521054719, 0.0014546763802636797, 0.9991927608707738, 0.5037976920190098, 0.3329874586172158, 0.16341051209918925, 0.10790427791398541, 0.19282025314194784, 0.6995012103032706, 0.9993194869615691, 0.0005416365782989535, 0.9735793160669828, 0.02616337180128326, 0.9989351926433214, 0.002833539208712806, 0.9964612883973367, 0.0009445130695709353, 0.9991822090417266, 0.9990895801421963, 0.9987395086810347, 0.9990411637223681, 0.0041648008683560864, 0.9953874075371046, 0.9995621499096855, 0.9994540805420111, 0.0012187168734863005, 0.9981291193852802, 0.1160300289114593, 0.6336710381749063, 0.2504450976152273, 0.30622588703838827, 0.20489517242820543, 0.48898669495254576, 0.9988604058352235, 0.9980078523813589, 0.0013803704735565131, 0.020622838427712138, 0.36289543104248295, 0.6163567678475902, 0.0016060922026623263, 0.984534520232006, 0.013651783722629774, 0.9992631329380726, 0.9995465093083417, 0.7322460026197197, 0.032942254584970285, 0.23486435592833743, 0.9986900963287768, 0.7764715551905568, 0.22015809339244444, 0.003314207857520669, 0.9996736732202873, 0.9983688237371443, 0.9989749911850339, 0.0009301443120903481, 0.00042468198724311456, 0.9924818041871588, 0.007644275770376062, 0.9993229774562072, 0.003254696434170925, 0.9959371088563029, 0.9703724658420464, 0.00032046646824374054, 0.02948291507842413, 0.999061278843861, 0.04810415631388019, 0.9429902394932286, 0.008926544470616941, 0.9993827313714243, 0.9993059025553221, 0.05796403236565137, 0.9419155259418347, 0.9984427947136979, 0.9992297754843231, 0.0005969114548890819, 0.9972980639167358, 0.002865799034243494, 0.9979714288228335, 0.9996041316732749, 0.13506157968770394, 0.8648297925164268, 0.9996857269200378, 0.9963321903240008, 0.002988996570972002, 0.9994855474380298, 0.9994996070563393, 0.00027942398855363137, 0.0005588479771072627, 0.0008025326196064502, 0.9991531114100306, 0.998518912886182, 0.9997097787598742, 0.7901715510139133, 0.02744901173795485, 0.18269342238704375, 0.9982793702795503, 0.0010688215955883837, 0.0026597367915066157, 0.0070926314440176415, 0.9903086653709632, 0.9984154809129044, 0.0020692548827210455, 0.9996699394098313, 0.9789478172348939, 0.020866301017651277, 0.9997856884396584, 0.9989786056216496, 0.9991404225310047, 0.9854384683221626, 0.0006690009968242788, 0.014049020933309854, 0.9997189205678494, 0.9994300525588762, 0.9979026293755238, 0.00040847426499202776, 0.001633897059968111, 0.1830017750191436, 0.7892538091851271, 0.0281541192337144, 0.9741254383926328, 0.010102041583331006, 0.015874636773805868, 0.9983638323668907, 0.0012279997938092137, 0.19572587073760572, 0.4724000954222459, 0.3316466143053875, 0.9993940032581116, 0.150532892327501, 0.30723797613995646, 0.5424670516221106, 0.01681268872446508, 0.25490205485479317, 0.7283690631276324, 0.9992240552552024, 0.998920058860332, 0.9986419978779308, 0.9890158177663896, 0.004971316593073168, 0.006076053613756094, 0.30960641694059016, 0.3471269377736793, 0.3433997337174122, 0.0029616551100897703, 0.9961033353601927, 0.9986595981216507, 0.23260014287121875, 0.7540896631884912, 0.013490808286530688, 0.7016473642654467, 0.00029235306844393614, 0.29820012981281485, 0.9991026035963821, 0.9981762938306665, 0.001986420485235157, 0.41027569655662, 0.5894387091974664, 0.0002534130306094009, 0.9979551767174734, 0.0020790732848280694, 0.9989189848449558, 0.999311958850473, 0.9989590032889532, 0.0006554849102945886, 0.9998084588138101, 0.9983628007224733, 0.000982640551892198, 0.000982640551892198, 0.9994454033318376, 0.004016897396096229, 0.012854071667507934, 0.9833364825643569, 0.0010255403087803012, 0.0010255403087803012, 0.997850720443233, 0.009205068108035808, 0.9903119106228524, 0.000767089009002984, 0.9986070180518588, 0.0014154599830642932, 0.9987117967244049, 0.999444950815272, 0.001308949315688061, 0.9987283278699906, 0.9989606911668046, 0.9989285295382995, 0.9987195831740847, 0.9992844540653755, 0.9992278687317866, 0.9993841301196423, 0.9941862346415532, 0.005576365098149737, 0.01050663673200172, 0.23446389338782786, 0.7553718829428605, 0.9994933552301081, 0.9987128667960518, 0.00040176085076420727, 0.9995809967013477, 0.999439473163901, 0.9994026663029725, 0.0030039922758251796, 0.9970250363463771, 0.9993168712440259, 0.008411769586817964, 0.9911868496467167, 0.0021535274930677877, 0.9960064655438519, 0.0021535274930677877, 0.9994676307461936, 0.03618961844138526, 0.06349055866909695, 0.9002961219277946, 0.28545788732945954, 0.34174236660200924, 0.372751928767263, 0.9992182496210226, 0.5208612372344359, 0.47834195256223705, 0.0010629821168049712, 0.9984054795280384, 0.38878091498066364, 0.0022975655591934534, 0.6090189850119218, 0.000586289791685304, 0.000586289791685304, 0.9996240948234434, 0.9992849742652951, 0.0007716486287762896, 0.014268070911379702, 0.029540935548912902, 0.9561617098076707, 0.9997012335605882, 0.99958796553262], \"Term\": [\"\\u0431\\u0435\\u0434\\u043d\\u044b\\u0439\", \"\\u0431\\u0435\\u0441\\u0438\\u0442\\u044c\", \"\\u0431\\u043e\\u0433\", \"\\u0431\\u043e\\u0433\", \"\\u0431\\u043e\\u043b\\u0435\\u0442\\u044c\", \"\\u0431\\u043e\\u043b\\u0435\\u0442\\u044c\", \"\\u0431\\u043e\\u043b\\u044c\", \"\\u0431\\u043e\\u043b\\u044c\\u0448\", \"\\u0431\\u043e\\u043b\\u044c\\u0448\", \"\\u0431\\u043e\\u043b\\u044c\\u0448\", \"\\u0431\\u043e\\u044f\\u0442\\u044c\\u0441\\u044f\", \"\\u0431\\u044b\\u0441\\u0442\\u0440\\u043e\", \"\\u0432\\u0435\\u0447\\u0435\\u0440\", \"\\u0432\\u0435\\u0447\\u0435\\u0440\", \"\\u0432\\u0438\\u0434\\u0435\\u0442\\u044c\", \"\\u0432\\u0440\\u0435\\u043c\\u044f\", \"\\u0432\\u0440\\u0435\\u043c\\u044f\", \"\\u0432\\u0440\\u0435\\u043c\\u044f\", \"\\u0432\\u0441\\u0442\\u0430\\u0432\\u0430\\u0442\\u044c\", \"\\u0432\\u0441\\u0442\\u0430\\u0442\\u044c\", \"\\u0432\\u0441\\u0442\\u0430\\u0442\\u044c\", \"\\u0432\\u0442\\u043e\\u0440\", \"\\u0432\\u0442\\u043e\\u0440\", \"\\u0432\\u0447\\u0435\\u0440\\u0430\", \"\\u0432\\u0447\\u0435\\u0440\\u0430\", \"\\u0432\\u0447\\u0435\\u0440\\u0430\", \"\\u0432\\u044b\\u0441\\u043f\\u0430\\u0442\\u044c\\u0441\\u044f\", \"\\u0433\\u043e\\u0434\", \"\\u0433\\u043e\\u0434\", \"\\u0433\\u043e\\u0434\", \"\\u0433\\u043e\\u043b\\u043e\\u0432\\u0430\", \"\\u0433\\u043e\\u043b\\u043e\\u0432\\u0430\", \"\\u0433\\u043e\\u0441\\u043f\\u043e\\u0434\\u044c\", \"\\u0433\\u043e\\u0442\\u043e\\u0432\\u0438\\u0442\\u044c\\u0441\\u044f\", \"\\u0433\\u0443\\u043b\\u044f\\u0442\\u044c\", \"\\u0433\\u0443\\u043b\\u044f\\u0442\\u044c\", \"\\u0434\\u0430\\u0432\\u0430\\u0442\\u044c\", \"\\u0434\\u0430\\u0432\\u0430\\u0442\\u044c\", \"\\u0434\\u0435\\u043b\\u0430\\u0442\\u044c\", \"\\u0434\\u0435\\u043b\\u0430\\u0442\\u044c\", \"\\u0434\\u0435\\u043d\\u044c\", \"\\u0434\\u0435\\u043d\\u044c\", \"\\u0434\\u0435\\u043d\\u044c\\u0433\\u0430\", \"\\u0434\\u0435\\u043d\\u044c\\u0433\\u0430\", \"\\u0434\\u0435\\u043d\\u044c\\u0433\\u0430\", \"\\u0434\\u043e\\u0431\\u0440\\u044b\\u0439\", \"\\u0434\\u043e\\u0431\\u0440\\u044b\\u0439\", \"\\u0434\\u043e\\u0436\\u0434\\u044c\", \"\\u0434\\u043e\\u0436\\u0434\\u044c\", \"\\u0434\\u043e\\u043c\", \"\\u0434\\u043e\\u043c\", \"\\u0434\\u043e\\u043c\", \"\\u0434\\u0440\\u0443\\u0433\", \"\\u0434\\u0440\\u0443\\u0433\", \"\\u0434\\u0440\\u0443\\u0433\", \"\\u0434\\u0443\\u043c\\u0430\\u0442\\u044c\", \"\\u0434\\u0443\\u043c\\u0430\\u0442\\u044c\", \"\\u0434\\u0443\\u043c\\u0430\\u0442\\u044c\", \"\\u0436\\u0430\\u043b\\u043a\\u043e\", \"\\u0436\\u0430\\u043b\\u044c\", \"\\u0436\\u0430\\u043b\\u044c\", \"\\u0436\\u0430\\u043b\\u044c\", \"\\u0436\\u0434\\u0430\\u0442\\u044c\", \"\\u0436\\u0434\\u0430\\u0442\\u044c\", \"\\u0436\\u0434\\u0430\\u0442\\u044c\", \"\\u0436\\u0438\\u0437\\u043d\\u044c\", \"\\u0436\\u0438\\u0437\\u043d\\u044c\", \"\\u0436\\u0438\\u0437\\u043d\\u044c\", \"\\u0436\\u043e\\u043f\\u0430\", \"\\u0437\\u0430\\u0431\\u043e\\u043b\\u0435\\u0442\\u044c\", \"\\u0437\\u0430\\u0431\\u043e\\u043b\\u0435\\u0442\\u044c\", \"\\u0437\\u0430\\u0431\\u044b\\u0442\\u044c\", \"\\u0437\\u0430\\u0431\\u044b\\u0442\\u044c\", \"\\u0437\\u0430\\u0431\\u044b\\u0442\\u044c\", \"\\u0437\\u0430\\u0432\\u0442\\u0440\\u0430\", \"\\u0437\\u0430\\u0432\\u0442\\u0440\\u0430\", \"\\u0437\\u0430\\u0432\\u0442\\u0440\\u0430\", \"\\u0437\\u0430\\u043a\\u043e\\u043d\\u0447\\u0438\\u0442\\u044c\\u0441\\u044f\", \"\\u0437\\u0430\\u043a\\u043e\\u043d\\u0447\\u0438\\u0442\\u044c\\u0441\\u044f\", \"\\u0437\\u0438\\u043c\\u0430\", \"\\u0437\\u0438\\u043c\\u0430\", \"\\u0437\\u043d\\u0430\\u0442\\u044c\", \"\\u0437\\u043d\\u0430\\u0442\\u044c\", \"\\u0437\\u043d\\u0430\\u0442\\u044c\", \"\\u0438\\u0433\\u0440\\u0430\", \"\\u0438\\u0434\\u0442\\u0438\", \"\\u0438\\u0434\\u0442\\u0438\", \"\\u0438\\u0434\\u0442\\u0438\", \"\\u043a\\u0430\\u0436\\u0434\\u044b\\u0439\", \"\\u043a\\u0430\\u0436\\u0434\\u044b\\u0439\", \"\\u043a\\u0430\\u0436\\u0434\\u044b\\u0439\", \"\\u043a\\u0430\\u0437\\u0430\\u0442\\u044c\\u0441\\u044f\", \"\\u043a\\u0430\\u0437\\u0430\\u0442\\u044c\\u0441\\u044f\", \"\\u043a\\u0430\\u043d\\u0438\\u043a\\u0443\\u043b\\u044b\", \"\\u043a\\u0430\\u043d\\u0438\\u043a\\u0443\\u043b\\u044b\", \"\\u043a\\u0430\\u0442\\u043e\\u043a\", \"\\u043a\\u043b\\u0430\\u0441\\u0441\", \"\\u043a\\u043b\\u0430\\u0441\\u0441\", \"\\u043a\\u043b\\u0430\\u0441\\u0441\", \"\\u043a\\u043e\\u043c\\u043f\", \"\\u043a\\u0440\\u0430\\u0441\\u0438\\u0432\\u044b\\u0439\", \"\\u043b\\u0435\\u0436\\u0430\\u0442\\u044c\", \"\\u043b\\u0435\\u043d\\u044c\", \"\\u043b\\u0435\\u0442\\u043e\", \"\\u043b\\u0435\\u0442\\u043e\", \"\\u043b\\u0435\\u0447\\u044c\", \"\\u043b\\u0438\\u0431\\u043e\", \"\\u043b\\u0438\\u0448\\u044c\", \"\\u043b\\u0438\\u0448\\u044c\", \"\\u043b\\u044e\\u0431\\u0438\\u043c\\u044b\\u0439\", \"\\u043b\\u044e\\u0431\\u0438\\u043c\\u044b\\u0439\", \"\\u043b\\u044e\\u0431\\u0438\\u043c\\u044b\\u0439\", \"\\u043b\\u044e\\u0431\\u0438\\u0442\\u044c\", \"\\u043b\\u044e\\u0431\\u0438\\u0442\\u044c\", \"\\u043b\\u044e\\u0431\\u0438\\u0442\\u044c\", \"\\u043c\\u0430\\u0433\\u0430\\u0437\\u0438\\u043d\", \"\\u043c\\u0430\\u043b\\u0435\\u043d\\u044c\\u043a\\u0438\\u0439\", \"\\u043c\\u0430\\u043b\\u0435\\u043d\\u044c\\u043a\\u0438\\u0439\", \"\\u043c\\u0430\\u043c\\u0430\", \"\\u043c\\u0430\\u043c\\u0430\", \"\\u043c\\u0430\\u043c\\u0430\", \"\\u043c\\u0435\\u0441\\u0442\\u043e\", \"\\u043c\\u0435\\u0441\\u0442\\u043e\", \"\\u043c\\u0435\\u0441\\u0442\\u043e\", \"\\u043c\\u0435\\u0441\\u044f\\u0446\", \"\\u043c\\u043e\\u0440\\u043e\\u0437\", \"\\u043c\\u043e\\u0447\\u044c\", \"\\u043c\\u043e\\u0447\\u044c\", \"\\u043c\\u043e\\u0447\\u044c\", \"\\u043d\\u0430\\u0434\\u043e\\u0435\\u0441\\u0442\\u044c\", \"\\u043d\\u0430\\u043f\\u0438\\u0441\\u0430\\u0442\\u044c\", \"\\u043d\\u0430\\u043f\\u0438\\u0441\\u0430\\u0442\\u044c\", \"\\u043d\\u0430\\u043f\\u0438\\u0441\\u0430\\u0442\\u044c\", \"\\u043d\\u0430\\u0441\\u0442\\u0440\\u043e\\u0435\\u043d\\u0438\\u0435\", \"\\u043d\\u0430\\u0445\\u0443\\u0439\", \"\\u043d\\u0430\\u0447\\u0430\\u0442\\u044c\\u0441\\u044f\", \"\\u043d\\u0430\\u0447\\u0430\\u0442\\u044c\\u0441\\u044f\", \"\\u043d\\u0435\\u0434\\u0435\\u043b\\u044f\", \"\\u043d\\u0435\\u0434\\u0435\\u043b\\u044f\", \"\\u043d\\u0435\\u0434\\u0435\\u043b\\u044f\", \"\\u043d\\u0435\\u043c\\u043d\\u043e\\u0433\\u043e\", \"\\u043d\\u0435\\u0447\\u0435\\u0433\\u043e\", \"\\u043d\\u0435\\u0447\\u0435\\u0433\\u043e\", \"\\u043d\\u0438\\u043a\\u0442\\u043e\", \"\\u043d\\u0438\\u043a\\u0442\\u043e\", \"\\u043d\\u0438\\u043a\\u0442\\u043e\", \"\\u043d\\u043e\\u0432\\u043e\\u0441\\u0442\\u044c\", \"\\u043d\\u043e\\u0432\\u044b\\u0439\", \"\\u043d\\u043e\\u0432\\u044b\\u0439\", \"\\u043d\\u043e\\u0432\\u044b\\u0439\", \"\\u043d\\u043e\\u0433\\u0430\", \"\\u043d\\u043e\\u0440\\u043c\\u0430\", \"\\u043d\\u043e\\u0447\\u044c\", \"\\u043d\\u043e\\u0447\\u044c\", \"\\u043d\\u043e\\u0447\\u044c\\u044e\", \"\\u043d\\u0440\\u0430\\u0432\\u0438\\u0442\\u044c\\u0441\\u044f\", \"\\u043d\\u0440\\u0430\\u0432\\u0438\\u0442\\u044c\\u0441\\u044f\", \"\\u043d\\u0443\\u0436\\u043d\\u044b\\u0439\", \"\\u043d\\u0443\\u0436\\u043d\\u044b\\u0439\", \"\\u043e\\u043a\\u0430\\u0437\\u0430\\u0442\\u044c\\u0441\\u044f\", \"\\u043e\\u0441\\u0442\\u0430\\u0442\\u044c\\u0441\\u044f\", \"\\u043f\\u0430\\u0440\\u0435\\u043d\\u044c\", \"\\u043f\\u0430\\u0440\\u0435\\u043d\\u044c\", \"\\u043f\\u0435\\u0440\\u0432\\u044b\\u0439\", \"\\u043f\\u0435\\u0441\\u043d\\u044f\", \"\\u043f\\u0435\\u0441\\u043d\\u044f\", \"\\u043f\\u0435\\u0447\\u0430\\u043b\\u044c\", \"\\u043f\\u0438\\u0441\\u0430\\u0442\\u044c\", \"\\u043f\\u0438\\u0441\\u0430\\u0442\\u044c\", \"\\u043f\\u0438\\u0441\\u0430\\u0442\\u044c\", \"\\u043f\\u043b\\u0430\\u043a\\u0430\\u0442\\u044c\", \"\\u043f\\u043b\\u0430\\u043a\\u0430\\u0442\\u044c\", \"\\u043f\\u043b\\u0430\\u0447\", \"\\u043f\\u043e\\u0433\\u043e\\u0434\\u0430\", \"\\u043f\\u043e\\u043a\\u0430\", \"\\u043f\\u043e\\u043a\\u0430\", \"\\u043f\\u043e\\u043a\\u0430\", \"\\u043f\\u043e\\u043b\\u0443\\u0447\\u0430\\u0442\\u044c\\u0441\\u044f\", \"\\u043f\\u043e\\u043b\\u0443\\u0447\\u0430\\u0442\\u044c\\u0441\\u044f\", \"\\u043f\\u043e\\u043b\\u0443\\u0447\\u0438\\u0442\\u044c\\u0441\\u044f\", \"\\u043f\\u043e\\u043b\\u0443\\u0447\\u0438\\u0442\\u044c\\u0441\\u044f\", \"\\u043f\\u043e\\u043b\\u0443\\u0447\\u0438\\u0442\\u044c\\u0441\\u044f\", \"\\u043f\\u043e\\u043d\\u0435\\u0434\\u0435\\u043b\\u044c\\u043d\\u0438\\u043a\", \"\\u043f\\u043e\\u043d\\u0435\\u0434\\u0435\\u043b\\u044c\\u043d\\u0438\\u043a\", \"\\u043f\\u043e\\u043d\\u0438\\u043c\\u0430\\u0442\\u044c\", \"\\u043f\\u043e\\u0441\\u043b\\u0435\\u0434\\u043d\\u0438\\u0439\", \"\\u043f\\u043e\\u0441\\u043b\\u0435\\u0434\\u043d\\u0438\\u0439\", \"\\u043f\\u043e\\u0441\\u043c\\u043e\\u0442\\u0440\\u0435\\u0442\\u044c\", \"\\u043f\\u043e\\u0442\\u0435\\u0440\\u044f\\u0442\\u044c\", \"\\u043f\\u043e\\u0445\\u043e\\u0434\", \"\\u043f\\u0440\\u0430\\u0432\\u0434\\u0430\", \"\\u043f\\u0440\\u0430\\u0432\\u0434\\u0430\", \"\\u043f\\u0440\\u0430\\u0432\\u0434\\u0430\", \"\\u043f\\u0440\\u0438\\u0439\\u0442\\u0438\\u0441\\u044c\", \"\\u043f\\u044b\\u0442\\u0430\\u0442\\u044c\\u0441\\u044f\", \"\\u0440\\u0430\\u0431\\u043e\\u0442\\u0430\", \"\\u0440\\u0430\\u0431\\u043e\\u0442\\u0430\", \"\\u0440\\u0430\\u0431\\u043e\\u0442\\u0430\", \"\\u0440\\u0430\\u0431\\u043e\\u0442\\u0430\\u0442\\u044c\", \"\\u0440\\u0430\\u0431\\u043e\\u0442\\u0430\\u0442\\u044c\", \"\\u0440\\u0430\\u0431\\u043e\\u0442\\u0430\\u0442\\u044c\", \"\\u0440\\u0430\\u043d\\u043d\\u0438\\u0439\", \"\\u0440\\u0430\\u043d\\u043d\\u0438\\u0439\", \"\\u0440\\u0430\\u043d\\u043d\\u0438\\u0439\", \"\\u0440\\u044f\\u0434\\u043e\\u043c\", \"\\u0440\\u044f\\u0434\\u043e\\u043c\", \"\\u0441\\u0430\\u043c\\u044b\\u0439\", \"\\u0441\\u0430\\u043c\\u044b\\u0439\", \"\\u0441\\u0430\\u043c\\u044b\\u0439\", \"\\u0441\\u0434\\u0430\\u0442\\u044c\", \"\\u0441\\u0434\\u0435\\u043b\\u0430\\u0442\\u044c\", \"\\u0441\\u0434\\u0435\\u043b\\u0430\\u0442\\u044c\", \"\\u0441\\u0434\\u0435\\u043b\\u0430\\u0442\\u044c\", \"\\u0441\\u0435\\u0433\\u043e\\u0434\\u043d\\u044f\", \"\\u0441\\u0435\\u0433\\u043e\\u0434\\u043d\\u044f\", \"\\u0441\\u0435\\u0433\\u043e\\u0434\\u043d\\u044f\", \"\\u0441\\u0435\\u0437\\u043e\\u043d\", \"\\u0441\\u0435\\u0440\\u0438\\u044f\", \"\\u0441\\u0435\\u0441\\u0441\\u0438\\u044f\", \"\\u0441\\u0438\\u0434\\u0435\\u0442\\u044c\", \"\\u0441\\u0438\\u0434\\u0435\\u0442\\u044c\", \"\\u0441\\u0438\\u0434\\u0435\\u0442\\u044c\", \"\\u0441\\u043a\\u0430\\u0437\\u0430\\u0442\\u044c\", \"\\u0441\\u043a\\u0430\\u0437\\u0430\\u0442\\u044c\", \"\\u0441\\u043a\\u0430\\u0437\\u0430\\u0442\\u044c\", \"\\u0441\\u043a\\u043e\\u043b\\u044c\\u043a\\u043e\", \"\\u0441\\u043a\\u043e\\u043b\\u044c\\u043a\\u043e\", \"\\u0441\\u043a\\u043e\\u0440\\u0435\\u0435\", \"\\u0441\\u043a\\u043e\\u0440\\u043e\", \"\\u0441\\u043a\\u043e\\u0440\\u043e\", \"\\u0441\\u043a\\u043e\\u0440\\u043e\", \"\\u0441\\u043a\\u0443\\u0447\\u0430\\u0442\\u044c\", \"\\u0441\\u043a\\u0443\\u0447\\u0430\\u0442\\u044c\", \"\\u0441\\u043a\\u0443\\u0447\\u0430\\u0442\\u044c\", \"\\u0441\\u043b\\u0435\\u0437\\u0430\", \"\\u0441\\u043b\\u0438\\u0448\\u043a\\u043e\\u043c\", \"\\u0441\\u043b\\u0438\\u0448\\u043a\\u043e\\u043c\", \"\\u0441\\u043c\\u043e\\u0442\\u0440\\u0435\\u0442\\u044c\", \"\\u0441\\u043c\\u043e\\u0442\\u0440\\u0435\\u0442\\u044c\", \"\\u0441\\u043c\\u043e\\u0442\\u0440\\u0435\\u0442\\u044c\", \"\\u0441\\u043c\\u043e\\u0447\\u044c\", \"\\u0441\\u043c\\u043e\\u0447\\u044c\", \"\\u0441\\u043e\\u0436\\u0430\\u043b\\u0435\\u043d\\u0438\\u0435\", \"\\u0441\\u043e\\u0441\\u043a\\u0443\\u0447\\u0438\\u0442\\u044c\\u0441\\u044f\", \"\\u0441\\u043f\\u0430\\u0441\\u0438\\u0431\\u043e\", \"\\u0441\\u043f\\u0430\\u0441\\u0438\\u0431\\u043e\", \"\\u0441\\u043f\\u0430\\u0442\\u044c\", \"\\u0441\\u0440\\u0430\\u0437\\u0443\", \"\\u0441\\u0440\\u0430\\u0437\\u0443\", \"\\u0441\\u0440\\u0430\\u0437\\u0443\", \"\\u0441\\u0442\\u0430\\u0440\\u044b\\u0439\", \"\\u0441\\u0442\\u043e\\u043b\\u044c\\u043a\\u043e\", \"\\u0441\\u0442\\u043e\\u043b\\u044c\\u043a\\u043e\", \"\\u0441\\u0442\\u043e\\u043b\\u044c\\u043a\\u043e\", \"\\u0441\\u0445\\u043e\\u0434\\u0438\\u0442\\u044c\", \"\\u0441\\u0445\\u043e\\u0434\\u0438\\u0442\\u044c\", \"\\u0441\\u0445\\u043e\\u0434\\u0438\\u0442\\u044c\", \"\\u0442\\u0432\\u0438\\u0442\", \"\\u0442\\u0432\\u0438\\u0442\", \"\\u0442\\u0432\\u0438\\u0442\", \"\\u0442\\u0432\\u0438\\u0442\\u0442\\u0435\\u0440\", \"\\u0442\\u0432\\u0438\\u0442\\u0442\\u0435\\u0440\", \"\\u0442\\u0435\\u043c\\u043f\\u0435\\u0440\\u0430\\u0442\\u0443\\u0440\\u0430\", \"\\u0442\\u0440\\u0435\\u0442\\u0438\\u0439\", \"\\u0442\\u0443\\u0434\\u0430\", \"\\u0442\\u0443\\u0434\\u0430\", \"\\u0442\\u0443\\u043f\", \"\\u0443\\u0431\\u0438\\u0442\\u044c\", \"\\u0443\\u0435\\u0437\\u0436\\u0430\\u0442\\u044c\", \"\\u0443\\u0435\\u0445\\u0430\\u0442\\u044c\", \"\\u0443\\u0436\\u0430\\u0441\", \"\\u0443\\u0436\\u0430\\u0441\\u043d\\u044b\\u0439\", \"\\u0443\\u0439\\u0442\\u0438\", \"\\u0443\\u0439\\u0442\\u0438\", \"\\u0443\\u043b\\u0438\\u0446\\u0430\", \"\\u0443\\u043b\\u0438\\u0446\\u0430\", \"\\u0443\\u043b\\u0438\\u0446\\u0430\", \"\\u0443\\u043c\\u0435\\u0440\\u0435\\u0442\\u044c\", \"\\u0443\\u043c\\u0435\\u0442\\u044c\", \"\\u0443\\u0440\\u043e\\u043a\", \"\\u0443\\u0440\\u043e\\u043a\", \"\\u0443\\u0441\\u043d\\u0443\\u0442\\u044c\", \"\\u0443\\u0441\\u043f\\u0435\\u0442\\u044c\", \"\\u0443\\u0442\\u0440\\u043e\", \"\\u0443\\u0442\\u0440\\u043e\", \"\\u0443\\u0447\\u0438\\u0442\\u044c\", \"\\u0443\\u0447\\u0451\\u0431\\u0430\", \"\\u0443\\u0447\\u0451\\u0431\\u0430\", \"\\u0444\\u0438\\u043b\\u044c\\u043c\", \"\\u0444\\u0438\\u043b\\u044c\\u043c\", \"\\u0444\\u0438\\u043b\\u044c\\u043c\", \"\\u0445\\u0432\\u0430\\u0442\\u0438\\u0442\\u044c\", \"\\u0445\\u043e\\u0434\\u0438\\u0442\\u044c\", \"\\u0445\\u043e\\u0434\\u0438\\u0442\\u044c\", \"\\u0445\\u043e\\u0434\\u0438\\u0442\\u044c\", \"\\u0445\\u043e\\u0440\\u043e\\u0448\\u0438\\u0439\", \"\\u0445\\u043e\\u0440\\u043e\\u0448\\u0438\\u0439\", \"\\u0445\\u043e\\u0440\\u043e\\u0448\\u0438\\u0439\", \"\\u0446\\u0435\\u043b\\u044b\\u0439\", \"\\u0447\\u0430\\u0441\", \"\\u0447\\u0430\\u0441\", \"\\u0447\\u0430\\u0441\", \"\\u0447\\u0430\\u0441\\u0442\\u043e\", \"\\u0447\\u0435\\u043b\\u043e\\u0432\\u0435\\u043a\", \"\\u0447\\u0435\\u043b\\u043e\\u0432\\u0435\\u043a\", \"\\u0447\\u0435\\u043b\\u043e\\u0432\\u0435\\u043a\", \"\\u0447\\u0438\\u0442\\u0430\\u0442\\u044c\", \"\\u0447\\u0438\\u0442\\u0430\\u0442\\u044c\", \"\\u0447\\u0438\\u0442\\u0430\\u0442\\u044c\", \"\\u0447\\u0443\\u0432\\u0441\\u0442\\u0432\\u043e\\u0432\\u0430\\u0442\\u044c\", \"\\u0447\\u0443\\u0432\\u0441\\u0442\\u0432\\u043e\\u0432\\u0430\\u0442\\u044c\", \"\\u0448\\u043a\\u043e\\u043b\\u0430\", \"\\u0448\\u043a\\u043e\\u043b\\u0430\", \"\\u0448\\u043a\\u043e\\u043b\\u0430\", \"\\u044d\\u043a\\u0437\\u0430\\u043c\\u0435\\u043d\", \"\\u044f\\u043d\\u0432\\u0430\\u0440\\u044c\"]}, \"R\": 30, \"lambda.step\": 0.01, \"plot.opts\": {\"xlab\": \"PC1\", \"ylab\": \"PC2\"}, \"topic.order\": [2, 1, 3]};\n",
       "\n",
       "function LDAvis_load_lib(url, callback){\n",
       "  var s = document.createElement('script');\n",
       "  s.src = url;\n",
       "  s.async = true;\n",
       "  s.onreadystatechange = s.onload = callback;\n",
       "  s.onerror = function(){console.warn(\"failed to load library \" + url);};\n",
       "  document.getElementsByTagName(\"head\")[0].appendChild(s);\n",
       "}\n",
       "\n",
       "if(typeof(LDAvis) !== \"undefined\"){\n",
       "   // already loaded: just create the visualization\n",
       "   !function(LDAvis){\n",
       "       new LDAvis(\"#\" + \"ldavis_el1554030397371030726156996839\", ldavis_el1554030397371030726156996839_data);\n",
       "   }(LDAvis);\n",
       "}else if(typeof define === \"function\" && define.amd){\n",
       "   // require.js is available: use it to load d3/LDAvis\n",
       "   require.config({paths: {d3: \"https://d3js.org/d3.v5\"}});\n",
       "   require([\"d3\"], function(d3){\n",
       "      window.d3 = d3;\n",
       "      LDAvis_load_lib(\"https://cdn.jsdelivr.net/gh/bmabey/pyLDAvis@3.3.1/pyLDAvis/js/ldavis.v3.0.0.js\", function(){\n",
       "        new LDAvis(\"#\" + \"ldavis_el1554030397371030726156996839\", ldavis_el1554030397371030726156996839_data);\n",
       "      });\n",
       "    });\n",
       "}else{\n",
       "    // require.js not available: dynamically load d3 & LDAvis\n",
       "    LDAvis_load_lib(\"https://d3js.org/d3.v5.js\", function(){\n",
       "         LDAvis_load_lib(\"https://cdn.jsdelivr.net/gh/bmabey/pyLDAvis@3.3.1/pyLDAvis/js/ldavis.v3.0.0.js\", function(){\n",
       "                 new LDAvis(\"#\" + \"ldavis_el1554030397371030726156996839\", ldavis_el1554030397371030726156996839_data);\n",
       "            })\n",
       "         });\n",
       "}\n",
       "</script>"
      ],
      "text/plain": [
       "<IPython.core.display.HTML object>"
      ]
     },
     "execution_count": 14,
     "metadata": {},
     "output_type": "execute_result"
    }
   ],
   "source": [
    "vis_data = gensimvis.prepare(lda, corpus, dictionary)\n",
    "pyLDAvis.display(vis_data)"
   ]
  },
  {
   "cell_type": "markdown",
   "metadata": {},
   "source": [
    "### 4. Выводы (определение тематик в твитах) <a id='section_4'></a>"
   ]
  },
  {
   "cell_type": "markdown",
   "metadata": {},
   "source": [
    "На основе резульатов работы модели можно сформулировать следующие примерные названия тем твитов:  \n",
    "    \n",
    "**Тема 1.** Чувства и эмоции.\n",
    "\n",
    "**Тема 2.** Время.\n",
    "\n",
    "**Тема 3.** Образование."
   ]
  },
  {
   "cell_type": "markdown",
   "metadata": {},
   "source": [
    "P.S. Количество тем, равное 3, является оптимальным. При большем количестве тем, они будут слищком \"близко\" располагаться друг к другу."
   ]
  }
 ],
 "metadata": {
  "kernelspec": {
   "display_name": "Python 3",
   "language": "python",
   "name": "python3"
  },
  "language_info": {
   "codemirror_mode": {
    "name": "ipython",
    "version": 3
   },
   "file_extension": ".py",
   "mimetype": "text/x-python",
   "name": "python",
   "nbconvert_exporter": "python",
   "pygments_lexer": "ipython3",
   "version": "3.8.5"
  }
 },
 "nbformat": 4,
 "nbformat_minor": 4
}
