{
 "cells": [
  {
   "cell_type": "markdown",
   "metadata": {},
   "source": [
    "# Домашнее задание №4. Тематическое моделирование. EM-алгоритм"
   ]
  },
  {
   "cell_type": "code",
   "execution_count": 14,
   "metadata": {},
   "outputs": [
    {
     "name": "stderr",
     "output_type": "stream",
     "text": [
      "C:\\ProgramData\\Anaconda3\\lib\\site-packages\\ipykernel\\ipkernel.py:287: DeprecationWarning: `should_run_async` will not call `transform_cell` automatically in the future. Please pass the result to `transformed_cell` argument and any exception that happen during thetransform in `preprocessing_exc_tuple` in IPython 7.17 and above.\n",
      "  and should_run_async(code)\n",
      "[nltk_data] Downloading package stopwords to\n",
      "[nltk_data]     C:\\Users\\BazhanovaEN\\AppData\\Roaming\\nltk_data...\n",
      "[nltk_data]   Package stopwords is already up-to-date!\n"
     ]
    }
   ],
   "source": [
    "import pandas as pd\n",
    "import re\n",
    "import numpy as np\n",
    "from nltk.corpus import stopwords\n",
    "from pymystem3 import Mystem\n",
    "import nltk\n",
    "nltk.download('stopwords')\n",
    "import pymorphy2\n",
    "from gensim.models import *\n",
    "from gensim import corpora\n",
    "import pyLDAvis\n",
    "import pyLDAvis.gensim_models as gensimvis\n",
    "import matplotlib.pyplot as plt\n",
    "import warnings\n",
    "def fxn():\n",
    "    warnings.warn(\"deprecated\", DeprecationWarning)\n",
    "with warnings.catch_warnings():\n",
    "    warnings.simplefilter(\"ignore\")\n",
    "    fxn()"
   ]
  },
  {
   "cell_type": "markdown",
   "metadata": {},
   "source": [
    "## Задание\n",
    "продолжаем исследовать датасет с твитами.\n",
    "\n",
    "1. Объединить в одну выборку (положительные и отрицательные твиты).\n",
    "\n",
    "2. Провести исследование и выявить тематики, о которых говорят в твитах.\n",
    "\n",
    "3. Сделать визуализацию кластеров тематик.\n",
    "\n",
    "4. Проинтерпритировать получившиеся тематики"
   ]
  },
  {
   "cell_type": "markdown",
   "metadata": {},
   "source": [
    "## План решения\n",
    "\n",
    "[0. Загрузка и просмотр данных](#section_0)\n",
    "\n",
    "[1. Предобработка данных](#section_1)\n",
    "\n",
    "[2. Модель Latent Dirichlet Allocation (LDA)](#section_2)\n",
    "\n",
    "[3. Визуализация предсказаний модели LDA](#section_3)\n",
    "\n",
    "[4. Выводы (определение тематик в твитах)](#section_4)"
   ]
  },
  {
   "cell_type": "markdown",
   "metadata": {},
   "source": [
    "### 0. Загрузка и просмотр данных <a id='section_0'></a>"
   ]
  },
  {
   "cell_type": "markdown",
   "metadata": {},
   "source": [
    "Загрузим данные и объединим их в один датасет."
   ]
  },
  {
   "cell_type": "code",
   "execution_count": 15,
   "metadata": {},
   "outputs": [
    {
     "name": "stderr",
     "output_type": "stream",
     "text": [
      "C:\\ProgramData\\Anaconda3\\lib\\site-packages\\ipykernel\\ipkernel.py:287: DeprecationWarning: `should_run_async` will not call `transform_cell` automatically in the future. Please pass the result to `transformed_cell` argument and any exception that happen during thetransform in `preprocessing_exc_tuple` in IPython 7.17 and above.\n",
      "  and should_run_async(code)\n"
     ]
    },
    {
     "data": {
      "text/html": [
       "<div>\n",
       "<style scoped>\n",
       "    .dataframe tbody tr th:only-of-type {\n",
       "        vertical-align: middle;\n",
       "    }\n",
       "\n",
       "    .dataframe tbody tr th {\n",
       "        vertical-align: top;\n",
       "    }\n",
       "\n",
       "    .dataframe thead th {\n",
       "        text-align: right;\n",
       "    }\n",
       "</style>\n",
       "<table border=\"1\" class=\"dataframe\">\n",
       "  <thead>\n",
       "    <tr style=\"text-align: right;\">\n",
       "      <th></th>\n",
       "      <th>text</th>\n",
       "      <th>label</th>\n",
       "    </tr>\n",
       "  </thead>\n",
       "  <tbody>\n",
       "    <tr>\n",
       "      <th>0</th>\n",
       "      <td>@first_timee хоть я и школота, но поверь, у на...</td>\n",
       "      <td>positive</td>\n",
       "    </tr>\n",
       "    <tr>\n",
       "      <th>1</th>\n",
       "      <td>Да, все-таки он немного похож на него. Но мой ...</td>\n",
       "      <td>positive</td>\n",
       "    </tr>\n",
       "    <tr>\n",
       "      <th>2</th>\n",
       "      <td>RT @KatiaCheh: Ну ты идиотка) я испугалась за ...</td>\n",
       "      <td>positive</td>\n",
       "    </tr>\n",
       "    <tr>\n",
       "      <th>3</th>\n",
       "      <td>RT @digger2912: \"Кто то в углу сидит и погибае...</td>\n",
       "      <td>positive</td>\n",
       "    </tr>\n",
       "    <tr>\n",
       "      <th>4</th>\n",
       "      <td>@irina_dyshkant Вот что значит страшилка :D\\nН...</td>\n",
       "      <td>positive</td>\n",
       "    </tr>\n",
       "  </tbody>\n",
       "</table>\n",
       "</div>"
      ],
      "text/plain": [
       "                                                text     label\n",
       "0  @first_timee хоть я и школота, но поверь, у на...  positive\n",
       "1  Да, все-таки он немного похож на него. Но мой ...  positive\n",
       "2  RT @KatiaCheh: Ну ты идиотка) я испугалась за ...  positive\n",
       "3  RT @digger2912: \"Кто то в углу сидит и погибае...  positive\n",
       "4  @irina_dyshkant Вот что значит страшилка :D\\nН...  positive"
      ]
     },
     "execution_count": 15,
     "metadata": {},
     "output_type": "execute_result"
    }
   ],
   "source": [
    "# считываем данные и заполняем общий датасет\n",
    "positive = pd.read_csv('positive(2).csv', sep=';', usecols=[3], names=['text'])\n",
    "positive['label'] = ['positive'] * len(positive)\n",
    "\n",
    "negative = pd.read_csv('negative(2).csv', sep=';', usecols=[3], names=['text'])\n",
    "negative['label'] = ['negative'] * len(negative)\n",
    "\n",
    "df = pd.concat([positive, negative], ignore_index=True)\n",
    "df.head()"
   ]
  },
  {
   "cell_type": "code",
   "execution_count": 16,
   "metadata": {},
   "outputs": [
    {
     "name": "stdout",
     "output_type": "stream",
     "text": [
      "<class 'pandas.core.frame.DataFrame'>\n",
      "RangeIndex: 226834 entries, 0 to 226833\n",
      "Data columns (total 2 columns):\n",
      " #   Column  Non-Null Count   Dtype \n",
      "---  ------  --------------   ----- \n",
      " 0   text    226834 non-null  object\n",
      " 1   label   226834 non-null  object\n",
      "dtypes: object(2)\n",
      "memory usage: 3.5+ MB\n"
     ]
    },
    {
     "name": "stderr",
     "output_type": "stream",
     "text": [
      "C:\\ProgramData\\Anaconda3\\lib\\site-packages\\ipykernel\\ipkernel.py:287: DeprecationWarning: `should_run_async` will not call `transform_cell` automatically in the future. Please pass the result to `transformed_cell` argument and any exception that happen during thetransform in `preprocessing_exc_tuple` in IPython 7.17 and above.\n",
      "  and should_run_async(code)\n"
     ]
    }
   ],
   "source": [
    "#выведем информацию о датасете\n",
    "df.info()"
   ]
  },
  {
   "cell_type": "markdown",
   "metadata": {},
   "source": [
    "### 1. Предобработка данных <a id='section_1'></a>"
   ]
  },
  {
   "cell_type": "code",
   "execution_count": 17,
   "metadata": {},
   "outputs": [
    {
     "name": "stderr",
     "output_type": "stream",
     "text": [
      "C:\\ProgramData\\Anaconda3\\lib\\site-packages\\ipykernel\\ipkernel.py:287: DeprecationWarning: `should_run_async` will not call `transform_cell` automatically in the future. Please pass the result to `transformed_cell` argument and any exception that happen during thetransform in `preprocessing_exc_tuple` in IPython 7.17 and above.\n",
      "  and should_run_async(code)\n",
      "<>:1: DeprecationWarning: invalid escape sequence \\w\n",
      "<>:1: DeprecationWarning: invalid escape sequence \\w\n",
      "<ipython-input-17-a5cb4e807e76>:1: DeprecationWarning: invalid escape sequence \\w\n",
      "  words_regex = re.compile('\\w+') #компилируем объект (1 или более букв)\n",
      "C:\\ProgramData\\Anaconda3\\lib\\site-packages\\pymorphy2\\units\\base.py:70: DeprecationWarning: inspect.getargspec() is deprecated since Python 3.0, use inspect.signature() or inspect.getfullargspec()\n",
      "  args, varargs, kw, default = inspect.getargspec(cls.__init__)\n",
      "C:\\ProgramData\\Anaconda3\\lib\\site-packages\\pymorphy2\\units\\base.py:70: DeprecationWarning: inspect.getargspec() is deprecated since Python 3.0, use inspect.signature() or inspect.getfullargspec()\n",
      "  args, varargs, kw, default = inspect.getargspec(cls.__init__)\n",
      "C:\\ProgramData\\Anaconda3\\lib\\site-packages\\pymorphy2\\units\\base.py:70: DeprecationWarning: inspect.getargspec() is deprecated since Python 3.0, use inspect.signature() or inspect.getfullargspec()\n",
      "  args, varargs, kw, default = inspect.getargspec(cls.__init__)\n",
      "C:\\ProgramData\\Anaconda3\\lib\\site-packages\\pymorphy2\\units\\base.py:70: DeprecationWarning: inspect.getargspec() is deprecated since Python 3.0, use inspect.signature() or inspect.getfullargspec()\n",
      "  args, varargs, kw, default = inspect.getargspec(cls.__init__)\n",
      "C:\\ProgramData\\Anaconda3\\lib\\site-packages\\pymorphy2\\units\\base.py:70: DeprecationWarning: inspect.getargspec() is deprecated since Python 3.0, use inspect.signature() or inspect.getfullargspec()\n",
      "  args, varargs, kw, default = inspect.getargspec(cls.__init__)\n",
      "C:\\ProgramData\\Anaconda3\\lib\\site-packages\\pymorphy2\\units\\base.py:70: DeprecationWarning: inspect.getargspec() is deprecated since Python 3.0, use inspect.signature() or inspect.getfullargspec()\n",
      "  args, varargs, kw, default = inspect.getargspec(cls.__init__)\n",
      "C:\\ProgramData\\Anaconda3\\lib\\site-packages\\pymorphy2\\units\\base.py:70: DeprecationWarning: inspect.getargspec() is deprecated since Python 3.0, use inspect.signature() or inspect.getfullargspec()\n",
      "  args, varargs, kw, default = inspect.getargspec(cls.__init__)\n",
      "C:\\ProgramData\\Anaconda3\\lib\\site-packages\\pymorphy2\\units\\base.py:70: DeprecationWarning: inspect.getargspec() is deprecated since Python 3.0, use inspect.signature() or inspect.getfullargspec()\n",
      "  args, varargs, kw, default = inspect.getargspec(cls.__init__)\n",
      "C:\\ProgramData\\Anaconda3\\lib\\site-packages\\pymorphy2\\units\\base.py:70: DeprecationWarning: inspect.getargspec() is deprecated since Python 3.0, use inspect.signature() or inspect.getfullargspec()\n",
      "  args, varargs, kw, default = inspect.getargspec(cls.__init__)\n",
      "C:\\ProgramData\\Anaconda3\\lib\\site-packages\\pymorphy2\\units\\base.py:70: DeprecationWarning: inspect.getargspec() is deprecated since Python 3.0, use inspect.signature() or inspect.getfullargspec()\n",
      "  args, varargs, kw, default = inspect.getargspec(cls.__init__)\n",
      "C:\\ProgramData\\Anaconda3\\lib\\site-packages\\pymorphy2\\units\\base.py:70: DeprecationWarning: inspect.getargspec() is deprecated since Python 3.0, use inspect.signature() or inspect.getfullargspec()\n",
      "  args, varargs, kw, default = inspect.getargspec(cls.__init__)\n",
      "C:\\ProgramData\\Anaconda3\\lib\\site-packages\\pymorphy2\\units\\base.py:70: DeprecationWarning: inspect.getargspec() is deprecated since Python 3.0, use inspect.signature() or inspect.getfullargspec()\n",
      "  args, varargs, kw, default = inspect.getargspec(cls.__init__)\n"
     ]
    }
   ],
   "source": [
    "words_regex = re.compile('\\w+') #компилируем объект (1 или более букв)\n",
    "\n",
    "# составляем список токенов из букв и длины >3\n",
    "def find_words(text, regex = words_regex):\n",
    "    tokens = regex.findall(text) #ищем все слова в тексте --> получаем список токенов\n",
    "    return [w for w in tokens if w.isalpha() and len(w)>= 4] #берем токеты из списка токетов, если они состоят только из букв и имеют длину >3\n",
    "\n",
    "morph = pymorphy2.MorphAnalyzer() #морфологический анализ\n",
    "stopwords_list = stopwords.words('russian') #список стоп-слов\n",
    "\n",
    "# составляем списка нормальных форм токенов, убираем стопслова и токены с небуквами \n",
    "def lemmatize(words, lemmer = morph, stopwords = stopwords_list):\n",
    "    lemmas = [lemmer.parse(w)[0].normal_form for w in words] #список нормальных форм для всех токенов\n",
    "    return [w for w in lemmas if not w in stopwords and w.isalpha()] #удаляем из списка нормальных форм стоп-слова и токены с небуквой(ми)\n",
    "\n",
    "#очищаем токены от нецензурной лексики и ненужныъ слов\n",
    "def clear_tokens(tokens):\n",
    "    string_tokens = ' '.join(tokens)\n",
    "    string_tokens = re.sub(r'[A-za-z]', ' ',  string_tokens) \n",
    "    string_tokens = re.sub(r'\\w+ще\\b', ' ',  string_tokens) \n",
    "    string_tokens = re.sub(r'\\bбл\\w+', ' ',  string_tokens) \n",
    "    string_tokens = re.sub(r'значит', ' ',  string_tokens) \n",
    "    string_tokens = re.sub(r'почему', ' ',  string_tokens) \n",
    "    string_tokens = re.sub(r'свой', ' ',  string_tokens) \n",
    "    string_tokens = re.sub(r'капец', ' ',  string_tokens) \n",
    "    string_tokens = re.sub(r'который', ' ',  string_tokens)\n",
    "    string_tokens = re.sub(r'это', ' ',  string_tokens)\n",
    "    string_tokens = re.sub(r'весь', ' ',  string_tokens)\n",
    "    string_tokens = re.sub(r'\\bидио\\w+', ' ',  string_tokens) \n",
    "    string_tokens = re.sub(r'\\bпид\\w+', ' ',  string_tokens)\n",
    "    string_tokens = re.sub(r'\\bхуй\\w+', ' ', string_tokens)\n",
    "    string_tokens = re.sub(r'\\w+xу.\\b', ' ',  string_tokens)\n",
    "    string_tokens = re.sub(r'\\w+xу\\w+', ' ',  string_tokens)\n",
    "    string_tokens = re.sub(r'\\w+но\\b', ' ',  string_tokens)\n",
    "    string_tokens = re.sub(r'\\bпоп\\w+', ' ',  string_tokens)\n",
    "    string_tokens = re.sub(r'\\bпиз\\w+', ' ',  string_tokens)\n",
    "    string_tokens = re.sub(r'\\bгов\\w+', ' ',  string_tokens)\n",
    "    string_tokens = re.sub(r'\\bфиг\\w+', ' ',  string_tokens)\n",
    "    string_tokens = re.sub(r'сука', ' ',  string_tokens)\n",
    "    string_tokens = re.sub(r'очень', ' ',  string_tokens)\n",
    "    string_tokens = re.sub(r'лох', ' ',  string_tokens)\n",
    "    string_tokens = re.sub(r'\\bпи.де\\w+', ' ',  string_tokens)\n",
    "    string_tokens = re.sub(r'нету', ' ',  string_tokens)\n",
    "    string_tokens = re.sub(r'ой', ' ',  string_tokens)\n",
    "    string_tokens = re.sub(r'\\bхот\\w+', ' ',  string_tokens)\n",
    "    string_tokens = re.sub(r'\\bпрост\\w+', ' ',  string_tokens)\n",
    "    string_tokens = re.sub(r'\\bника\\w+', ' ',  string_tokens)\n",
    "    string_tokens = re.sub(r'\\w+ть\\b', ' ',  string_tokens)\n",
    "    string_tokens = re.sub(r'мочь', ' ',  string_tokens)\n",
    "    clear_tokens = string_tokens.split()\n",
    "    clear_tokens = [w for w in clear_tokens if len(w)>2]\n",
    "    return clear_tokens\n",
    "\n",
    "def preprocess(text):\n",
    "    return (clear_tokens(lemmatize(find_words(text))))"
   ]
  },
  {
   "cell_type": "markdown",
   "metadata": {},
   "source": [
    "Применяем предобработку к твитам"
   ]
  },
  {
   "cell_type": "code",
   "execution_count": 18,
   "metadata": {},
   "outputs": [
    {
     "name": "stderr",
     "output_type": "stream",
     "text": [
      "C:\\ProgramData\\Anaconda3\\lib\\site-packages\\ipykernel\\ipkernel.py:287: DeprecationWarning: `should_run_async` will not call `transform_cell` automatically in the future. Please pass the result to `transformed_cell` argument and any exception that happen during thetransform in `preprocessing_exc_tuple` in IPython 7.17 and above.\n",
      "  and should_run_async(code)\n"
     ]
    },
    {
     "data": {
      "text/html": [
       "<div>\n",
       "<style scoped>\n",
       "    .dataframe tbody tr th:only-of-type {\n",
       "        vertical-align: middle;\n",
       "    }\n",
       "\n",
       "    .dataframe tbody tr th {\n",
       "        vertical-align: top;\n",
       "    }\n",
       "\n",
       "    .dataframe thead th {\n",
       "        text-align: right;\n",
       "    }\n",
       "</style>\n",
       "<table border=\"1\" class=\"dataframe\">\n",
       "  <thead>\n",
       "    <tr style=\"text-align: right;\">\n",
       "      <th></th>\n",
       "      <th>text</th>\n",
       "      <th>label</th>\n",
       "    </tr>\n",
       "  </thead>\n",
       "  <tbody>\n",
       "    <tr>\n",
       "      <th>0</th>\n",
       "      <td>[школотый, поверь, самый, общество, предмет, тип]</td>\n",
       "      <td>positive</td>\n",
       "    </tr>\n",
       "    <tr>\n",
       "      <th>1</th>\n",
       "      <td>[таки, немного, похожий, мальчик, хороший]</td>\n",
       "      <td>positive</td>\n",
       "    </tr>\n",
       "    <tr>\n",
       "      <th>2</th>\n",
       "      <td>[испугаться]</td>\n",
       "      <td>positive</td>\n",
       "    </tr>\n",
       "    <tr>\n",
       "      <th>3</th>\n",
       "      <td>[угол, голод, порция]</td>\n",
       "      <td>positive</td>\n",
       "    </tr>\n",
       "    <tr>\n",
       "      <th>4</th>\n",
       "      <td>[страшилка, создаться, ощущение, автор]</td>\n",
       "      <td>positive</td>\n",
       "    </tr>\n",
       "  </tbody>\n",
       "</table>\n",
       "</div>"
      ],
      "text/plain": [
       "                                                text     label\n",
       "0  [школотый, поверь, самый, общество, предмет, тип]  positive\n",
       "1         [таки, немного, похожий, мальчик, хороший]  positive\n",
       "2                                       [испугаться]  positive\n",
       "3                              [угол, голод, порция]  positive\n",
       "4            [страшилка, создаться, ощущение, автор]  positive"
      ]
     },
     "execution_count": 18,
     "metadata": {},
     "output_type": "execute_result"
    }
   ],
   "source": [
    "df['text'] = df['text'].apply(preprocess)\n",
    "df.head()"
   ]
  },
  {
   "cell_type": "markdown",
   "metadata": {},
   "source": [
    "### 2. Модель Latent Dirichlet Allocation (LDA) <a id='section_2'></a>"
   ]
  },
  {
   "cell_type": "markdown",
   "metadata": {},
   "source": [
    "**Создадим словарь из всех уникальных токенов датасета**"
   ]
  },
  {
   "cell_type": "code",
   "execution_count": 19,
   "metadata": {},
   "outputs": [
    {
     "name": "stderr",
     "output_type": "stream",
     "text": [
      "C:\\ProgramData\\Anaconda3\\lib\\site-packages\\ipykernel\\ipkernel.py:287: DeprecationWarning: `should_run_async` will not call `transform_cell` automatically in the future. Please pass the result to `transformed_cell` argument and any exception that happen during thetransform in `preprocessing_exc_tuple` in IPython 7.17 and above.\n",
      "  and should_run_async(code)\n"
     ]
    },
    {
     "data": {
      "text/plain": [
       "8172"
      ]
     },
     "execution_count": 19,
     "metadata": {},
     "output_type": "execute_result"
    }
   ],
   "source": [
    "dictionary = corpora.Dictionary(df['text']) #создаем словарь между токенами и их индексами (на вход список списков)\n",
    "\n",
    "dictionary.filter_extremes(no_below = 10, no_above = 0.9, keep_n=None) # игнорируем слова, которые встречаются реже 10 раз или составляют более 0.9 словаря \n",
    "\n",
    "dictionary.save('tweet.dict')\n",
    "\n",
    "len(dictionary.keys()) #длина словаря из токенов"
   ]
  },
  {
   "cell_type": "markdown",
   "metadata": {},
   "source": [
    "**Векторизуем твиты**"
   ]
  },
  {
   "cell_type": "code",
   "execution_count": 20,
   "metadata": {},
   "outputs": [
    {
     "name": "stderr",
     "output_type": "stream",
     "text": [
      "C:\\ProgramData\\Anaconda3\\lib\\site-packages\\ipykernel\\ipkernel.py:287: DeprecationWarning: `should_run_async` will not call `transform_cell` automatically in the future. Please pass the result to `transformed_cell` argument and any exception that happen during thetransform in `preprocessing_exc_tuple` in IPython 7.17 and above.\n",
      "  and should_run_async(code)\n"
     ]
    }
   ],
   "source": [
    "corpus = [dictionary.doc2bow(text) for text in df['text']] #для каждого списка токенов возвращает кортеж (индекс токена, количество встречаний токена в твите)\n",
    "corpora.MmCorpus.serialize('tweet.model', corpus) #выполняем итерацию по корпусу (записываем смещение байта каждого твита). Полученную структуру индексов сохраняем в файл"
   ]
  },
  {
   "cell_type": "code",
   "execution_count": 21,
   "metadata": {},
   "outputs": [
    {
     "name": "stdout",
     "output_type": "stream",
     "text": [
      "['школотый', 'поверь', 'самый', 'общество', 'предмет', 'тип']\n",
      "[(0, 1.0), (1, 1.0), (2, 1.0), (3, 1.0), (4, 1.0), (5, 1.0)]\n"
     ]
    },
    {
     "name": "stderr",
     "output_type": "stream",
     "text": [
      "C:\\ProgramData\\Anaconda3\\lib\\site-packages\\ipykernel\\ipkernel.py:287: DeprecationWarning: `should_run_async` will not call `transform_cell` automatically in the future. Please pass the result to `transformed_cell` argument and any exception that happen during thetransform in `preprocessing_exc_tuple` in IPython 7.17 and above.\n",
      "  and should_run_async(code)\n"
     ]
    }
   ],
   "source": [
    "#теперь по словарю можно итерироваться\n",
    "mm = corpora.MmCorpus('tweet.model') # корпус имеет произвольный доступ\n",
    "print(df['text'].values[0])\n",
    "print(mm[0]) #  извлекаем документ под номером 0"
   ]
  },
  {
   "cell_type": "markdown",
   "metadata": {},
   "source": [
    "**Обучаем модель**"
   ]
  },
  {
   "cell_type": "code",
   "execution_count": 22,
   "metadata": {},
   "outputs": [
    {
     "name": "stderr",
     "output_type": "stream",
     "text": [
      "C:\\ProgramData\\Anaconda3\\lib\\site-packages\\ipykernel\\ipkernel.py:287: DeprecationWarning: `should_run_async` will not call `transform_cell` automatically in the future. Please pass the result to `transformed_cell` argument and any exception that happen during thetransform in `preprocessing_exc_tuple` in IPython 7.17 and above.\n",
      "  and should_run_async(code)\n"
     ]
    }
   ],
   "source": [
    "lda = ldamodel.LdaModel(corpus, id2word=dictionary, num_topics=3)"
   ]
  },
  {
   "cell_type": "markdown",
   "metadata": {},
   "source": [
    "**Определяем вероятные темы**"
   ]
  },
  {
   "cell_type": "code",
   "execution_count": 23,
   "metadata": {},
   "outputs": [
    {
     "name": "stderr",
     "output_type": "stream",
     "text": [
      "C:\\ProgramData\\Anaconda3\\lib\\site-packages\\ipykernel\\ipkernel.py:287: DeprecationWarning: `should_run_async` will not call `transform_cell` automatically in the future. Please pass the result to `transformed_cell` argument and any exception that happen during thetransform in `preprocessing_exc_tuple` in IPython 7.17 and above.\n",
      "  and should_run_async(code)\n"
     ]
    },
    {
     "data": {
      "text/plain": [
       "[(0,\n",
       "  '0.035*\"сегодня\" + 0.028*\"завтра\" + 0.027*\"день\" + 0.022*\"дом\" + 0.018*\"школа\" + 0.011*\"настроение\" + 0.010*\"первый\" + 0.010*\"работа\" + 0.010*\"урок\" + 0.008*\"прийти\" + 0.008*\"найти\" + 0.007*\"друг\" + 0.007*\"каникулы\" + 0.007*\"втор\" + 0.007*\"улица\" + 0.007*\"снег\" + 0.005*\"учёба\" + 0.005*\"город\" + 0.005*\"уйти\" + 0.005*\"конец\"'),\n",
       " (1,\n",
       "  '0.020*\"больш\" + 0.017*\"новый\" + 0.010*\"человек\" + 0.010*\"год\" + 0.010*\"неделя\" + 0.009*\"скоро\" + 0.009*\"время\" + 0.009*\"голова\" + 0.009*\"мама\" + 0.008*\"день\" + 0.008*\"телефон\" + 0.008*\"нравиться\" + 0.007*\"бояться\" + 0.007*\"закончиться\" + 0.007*\"вроде\" + 0.007*\"рука\" + 0.006*\"спасибо\" + 0.006*\"мало\" + 0.006*\"слово\" + 0.006*\"ужасный\"'),\n",
       " (2,\n",
       "  '0.020*\"хороший\" + 0.016*\"жизнь\" + 0.016*\"человек\" + 0.014*\"самый\" + 0.014*\"идти\" + 0.014*\"никто\" + 0.013*\"утро\" + 0.013*\"жаль\" + 0.010*\"ночь\" + 0.008*\"экзамен\" + 0.008*\"любимый\" + 0.008*\"снова\" + 0.008*\"дело\" + 0.007*\"жалко\" + 0.007*\"казаться\" + 0.007*\"час\" + 0.007*\"прийтись\" + 0.007*\"фильм\" + 0.007*\"пока\" + 0.007*\"боль\"')]"
      ]
     },
     "execution_count": 23,
     "metadata": {},
     "output_type": "execute_result"
    }
   ],
   "source": [
    "lda.show_topics(num_topics=3, num_words=20, formatted=True)"
   ]
  },
  {
   "cell_type": "markdown",
   "metadata": {},
   "source": [
    "**Оценки качества полученной модели**"
   ]
  },
  {
   "cell_type": "code",
   "execution_count": 24,
   "metadata": {
    "scrolled": true
   },
   "outputs": [
    {
     "name": "stderr",
     "output_type": "stream",
     "text": [
      "C:\\ProgramData\\Anaconda3\\lib\\site-packages\\ipykernel\\ipkernel.py:287: DeprecationWarning: `should_run_async` will not call `transform_cell` automatically in the future. Please pass the result to `transformed_cell` argument and any exception that happen during thetransform in `preprocessing_exc_tuple` in IPython 7.17 and above.\n",
      "  and should_run_async(code)\n"
     ]
    },
    {
     "name": "stdout",
     "output_type": "stream",
     "text": [
      "-8.008838212350929\n"
     ]
    }
   ],
   "source": [
    "print(lda.log_perplexity(corpus))"
   ]
  },
  {
   "cell_type": "code",
   "execution_count": 25,
   "metadata": {
    "scrolled": false
   },
   "outputs": [
    {
     "name": "stderr",
     "output_type": "stream",
     "text": [
      "C:\\ProgramData\\Anaconda3\\lib\\site-packages\\ipykernel\\ipkernel.py:287: DeprecationWarning: `should_run_async` will not call `transform_cell` automatically in the future. Please pass the result to `transformed_cell` argument and any exception that happen during thetransform in `preprocessing_exc_tuple` in IPython 7.17 and above.\n",
      "  and should_run_async(code)\n"
     ]
    },
    {
     "name": "stdout",
     "output_type": "stream",
     "text": [
      "Персплексия:  0.000332510694801722\n"
     ]
    }
   ],
   "source": [
    "print('Персплексия: ', np.exp(lda.log_perplexity(corpus)))"
   ]
  },
  {
   "cell_type": "markdown",
   "metadata": {},
   "source": [
    "### 3. Визуализация предсказаний модели LDA <a id='section_3'></a>"
   ]
  },
  {
   "cell_type": "code",
   "execution_count": 26,
   "metadata": {},
   "outputs": [
    {
     "name": "stderr",
     "output_type": "stream",
     "text": [
      "C:\\ProgramData\\Anaconda3\\lib\\site-packages\\ipykernel\\ipkernel.py:287: DeprecationWarning: `should_run_async` will not call `transform_cell` automatically in the future. Please pass the result to `transformed_cell` argument and any exception that happen during thetransform in `preprocessing_exc_tuple` in IPython 7.17 and above.\n",
      "  and should_run_async(code)\n",
      "C:\\ProgramData\\Anaconda3\\lib\\site-packages\\pyLDAvis\\_prepare.py:246: FutureWarning: In a future version of pandas all arguments of DataFrame.drop except for the argument 'labels' will be keyword-only.\n",
      "  default_term_info = default_term_info.sort_values(\n"
     ]
    },
    {
     "data": {
      "text/html": [
       "\n",
       "<link rel=\"stylesheet\" type=\"text/css\" href=\"https://cdn.jsdelivr.net/gh/bmabey/pyLDAvis@3.3.1/pyLDAvis/js/ldavis.v1.0.0.css\">\n",
       "\n",
       "\n",
       "<div id=\"ldavis_el13842358915820224428196786\"></div>\n",
       "<script type=\"text/javascript\">\n",
       "\n",
       "var ldavis_el13842358915820224428196786_data = {\"mdsDat\": {\"x\": [-0.09702849044896318, -0.24294174533897578, 0.33997023578793906], \"y\": [-0.3330173155846137, 0.24965714796935026, 0.0833601676152636], \"topics\": [1, 2, 3], \"cluster\": [1, 1, 1], \"Freq\": [35.01617725709926, 32.628039736790164, 32.355783006110585]}, \"tinfo\": {\"Term\": [\"\\u0441\\u0435\\u0433\\u043e\\u0434\\u043d\\u044f\", \"\\u0434\\u043e\\u043c\", \"\\u0437\\u0430\\u0432\\u0442\\u0440\\u0430\", \"\\u0431\\u043e\\u043b\\u044c\\u0448\", \"\\u0445\\u043e\\u0440\\u043e\\u0448\\u0438\\u0439\", \"\\u0434\\u0435\\u043d\\u044c\", \"\\u0436\\u0438\\u0437\\u043d\\u044c\", \"\\u043d\\u043e\\u0432\\u044b\\u0439\", \"\\u0448\\u043a\\u043e\\u043b\\u0430\", \"\\u0441\\u0430\\u043c\\u044b\\u0439\", \"\\u043d\\u0438\\u043a\\u0442\\u043e\", \"\\u0438\\u0434\\u0442\\u0438\", \"\\u0436\\u0430\\u043b\\u044c\", \"\\u0443\\u0442\\u0440\\u043e\", \"\\u043d\\u0430\\u0441\\u0442\\u0440\\u043e\\u0435\\u043d\\u0438\\u0435\", \"\\u043d\\u043e\\u0447\\u044c\", \"\\u043d\\u0435\\u0434\\u0435\\u043b\\u044f\", \"\\u043f\\u0435\\u0440\\u0432\\u044b\\u0439\", \"\\u0441\\u043a\\u043e\\u0440\\u043e\", \"\\u0447\\u0435\\u043b\\u043e\\u0432\\u0435\\u043a\", \"\\u0443\\u0440\\u043e\\u043a\", \"\\u0440\\u0430\\u0431\\u043e\\u0442\\u0430\", \"\\u044d\\u043a\\u0437\\u0430\\u043c\\u0435\\u043d\", \"\\u0441\\u043d\\u043e\\u0432\\u0430\", \"\\u0442\\u0435\\u043b\\u0435\\u0444\\u043e\\u043d\", \"\\u043d\\u0430\\u0439\\u0442\\u0438\", \"\\u043f\\u0440\\u0438\\u0439\\u0442\\u0438\", \"\\u043d\\u0440\\u0430\\u0432\\u0438\\u0442\\u044c\\u0441\\u044f\", \"\\u0434\\u0435\\u043b\\u043e\", \"\\u043a\\u0430\\u043d\\u0438\\u043a\\u0443\\u043b\\u044b\", \"\\u0434\\u043e\\u043c\", \"\\u043a\\u0430\\u043d\\u0438\\u043a\\u0443\\u043b\\u044b\", \"\\u0432\\u0442\\u043e\\u0440\", \"\\u043d\\u0430\\u0439\\u0442\\u0438\", \"\\u0441\\u043d\\u0435\\u0433\", \"\\u043d\\u0430\\u0441\\u0442\\u0440\\u043e\\u0435\\u043d\\u0438\\u0435\", \"\\u0443\\u0447\\u0451\\u0431\\u0430\", \"\\u0433\\u043e\\u0440\\u043e\\u0434\", \"\\u0443\\u0439\\u0442\\u0438\", \"\\u043a\\u043e\\u043d\\u0435\\u0446\", \"\\u0432\\u044b\\u0445\\u043e\\u0434\\u043d\", \"\\u0432\\u044b\\u0439\\u0442\\u0438\", \"\\u0443\\u0436\\u0430\\u0441\", \"\\u0434\\u043e\\u043b\\u0436\\u043d\\u044b\\u0439\", \"\\u043f\\u043e\\u0433\\u043e\\u0434\\u0430\", \"\\u0443\\u043b\\u0438\\u0446\\u0430\", \"\\u0438\\u043d\\u0442\\u0435\\u0440\\u043d\\u0435\\u0442\", \"\\u0446\\u0435\\u043b\\u044b\\u0439\", \"\\u0441\\u043b\\u0438\\u0448\\u043a\\u043e\\u043c\", \"\\u0441\\u0440\\u0430\\u0437\\u0443\", \"\\u0447\\u0435\\u0440\\u0442\\u0430\", \"\\u0438\\u0441\\u0442\\u043e\\u0440\\u0438\\u044f\", \"\\u0441\\u0435\\u0437\\u043e\\u043d\", \"\\u043a\\u0430\\u0442\\u043e\\u043a\", \"\\u0441\\u043e\\u0441\\u043a\\u0443\\u0447\\u0438\\u0442\\u044c\\u0441\\u044f\", \"\\u043d\\u043e\\u0432\\u043e\\u0433\\u043e\\u0434\\u043d\\u0438\\u0439\", \"\\u0441\\u043e\\u0431\\u0438\\u0440\\u0430\\u0442\\u044c\\u0441\\u044f\", \"\\u0442\\u0443\\u0434\\u0430\", \"\\u0441\\u0442\\u043e\\u043b\\u044c\\u043a\\u043e\", \"\\u0442\\u0443\\u043f\", \"\\u0441\\u0435\\u0433\\u043e\\u0434\\u043d\\u044f\", \"\\u043f\\u0435\\u0440\\u0432\\u044b\\u0439\", \"\\u0441\\u043b\\u0435\\u0437\\u0430\", \"\\u0443\\u0440\\u043e\\u043a\", \"\\u043f\\u0440\\u0438\\u0439\\u0442\\u0438\", \"\\u0433\\u043b\\u0430\\u0437\", \"\\u0440\\u0430\\u0431\\u043e\\u0442\\u0430\", \"\\u0437\\u0430\\u0432\\u0442\\u0440\\u0430\", \"\\u0448\\u043a\\u043e\\u043b\\u0430\", \"\\u043f\\u0430\\u0440\\u0430\", \"\\u0434\\u0435\\u043d\\u044c\", \"\\u0434\\u0440\\u0443\\u0433\", \"\\u043f\\u043e\\u0441\\u043b\\u0435\\u0434\\u043d\\u0438\\u0439\", \"\\u043a\\u0430\\u0436\\u0434\\u044b\\u0439\", \"\\u0436\\u0438\\u0437\\u043d\\u044c\", \"\\u043d\\u0438\\u043a\\u0442\\u043e\", \"\\u0436\\u0430\\u043b\\u044c\", \"\\u043d\\u043e\\u0447\\u044c\", \"\\u044d\\u043a\\u0437\\u0430\\u043c\\u0435\\u043d\", \"\\u0434\\u0435\\u043b\\u043e\", \"\\u0436\\u0430\\u043b\\u043a\\u043e\", \"\\u0441\\u043d\\u043e\\u0432\\u0430\", \"\\u0431\\u043e\\u043b\\u044c\", \"\\u043f\\u0440\\u0430\\u0432\\u0434\\u0430\", \"\\u0444\\u043e\\u0442\\u043a\\u0430\", \"\\u043c\\u043e\\u043c\\u0435\\u043d\\u0442\", \"\\u0441\\u043a\\u043e\\u043b\\u044c\\u043a\\u043e\", \"\\u0443\\u0447\\u0438\\u0442\\u044c\\u0441\\u044f\", \"\\u0434\\u043e\\u0431\\u0440\\u044b\\u0439\", \"\\u043f\\u0435\\u0447\\u0430\\u043b\\u044c\", \"\\u0442\\u0435\\u043c\\u043f\\u0435\\u0440\\u0430\\u0442\\u0443\\u0440\\u0430\", \"\\u0432\\u043e\\u043f\\u0440\\u043e\\u0441\", \"\\u0432\\u044b\\u0441\\u043f\\u0430\\u0442\\u044c\\u0441\\u044f\", \"\\u0432\\u0435\\u0447\\u0435\\u0440\", \"\\u043b\\u0435\\u0447\\u044c\", \"\\u0436\\u043e\\u043f\\u0430\", \"\\u043b\\u0430\\u0434\\u043d\\u044b\\u0439\", \"\\u0433\\u043e\\u0440\\u043b\\u043e\", \"\\u0442\\u044f\\u0436\\u0435\\u043b\\u043e\", \"\\u0444\\u0438\\u0437\\u0438\\u043a\\u0430\", \"\\u0444\\u043e\\u0442\\u043e\", \"\\u0433\\u043e\\u0442\\u043e\\u0432\\u0438\\u0442\\u044c\\u0441\\u044f\", \"\\u043a\\u043e\\u0440\\u043e\\u0447\\u0435\", \"\\u043d\\u0430\\u0445\\u0443\\u0439\", \"\\u0445\\u043e\\u0440\\u043e\\u0448\\u0438\\u0439\", \"\\u0441\\u0430\\u043c\\u044b\\u0439\", \"\\u0438\\u0434\\u0442\\u0438\", \"\\u043f\\u0440\\u0438\\u0439\\u0442\\u0438\\u0441\\u044c\", \"\\u0448\\u0435\\u0440\\u043b\\u043e\\u043a\", \"\\u043c\\u0443\\u0437\\u044b\\u043a\\u0430\", \"\\u043b\\u0435\\u043d\\u0442\\u0430\", \"\\u043d\\u0435\\u0447\\u0435\\u0433\\u043e\", \"\\u0443\\u0442\\u0440\\u043e\", \"\\u043a\\u0430\\u0437\\u0430\\u0442\\u044c\\u0441\\u044f\", \"\\u0440\\u0430\\u043d\\u043d\\u0438\\u0439\", \"\\u043f\\u0440\\u043e\\u0441\\u043d\\u0443\\u0442\\u044c\\u0441\\u044f\", \"\\u0444\\u0438\\u043b\\u044c\\u043c\", \"\\u043b\\u044e\\u0431\\u0438\\u043c\\u044b\\u0439\", \"\\u0447\\u0435\\u043b\\u043e\\u0432\\u0435\\u043a\", \"\\u043f\\u043e\\u043a\\u0430\", \"\\u0447\\u0430\\u0441\", \"\\u0432\\u0447\\u0435\\u0440\\u0430\", \"\\u0447\\u0443\\u0432\\u0441\\u0442\\u0432\\u043e\", \"\\u0432\\u0440\\u0435\\u043c\\u044f\", \"\\u043e\\u0441\\u0442\\u0430\\u0442\\u044c\\u0441\\u044f\", \"\\u0431\\u043e\\u043b\\u044c\\u0448\", \"\\u043d\\u0440\\u0430\\u0432\\u0438\\u0442\\u044c\\u0441\\u044f\", \"\\u0431\\u043e\\u044f\\u0442\\u044c\\u0441\\u044f\", \"\\u0437\\u0430\\u043a\\u043e\\u043d\\u0447\\u0438\\u0442\\u044c\\u0441\\u044f\", \"\\u043c\\u0430\\u043b\\u043e\", \"\\u043d\\u0430\\u0434\\u0435\\u044f\\u0442\\u044c\\u0441\\u044f\", \"\\u0442\\u0432\\u0438\\u0442\", \"\\u0443\\u0436\\u0430\\u0441\\u043d\\u044b\\u0439\", \"\\u0431\\u043e\\u0433\", \"\\u043f\\u043e\\u043b\\u0443\\u0447\\u0438\\u0442\\u044c\\u0441\\u044f\", \"\\u0432\\u0440\\u043e\\u0434\\u0435\", \"\\u0441\\u043b\\u043e\\u0432\\u043e\", \"\\u043d\\u0430\\u0432\\u0435\\u0440\\u043d\\u043e\\u0435\", \"\\u043f\\u043e\\u043b\\u0443\\u0447\\u0430\\u0442\\u044c\\u0441\\u044f\", \"\\u0437\\u0438\\u043c\\u0430\", \"\\u043f\\u044b\\u0442\\u0430\\u0442\\u044c\\u0441\\u044f\", \"\\u043b\\u0435\\u043d\\u044c\", \"\\u043b\\u0435\\u0442\\u043e\", \"\\u043b\\u044e\\u0431\\u043e\\u0432\\u044c\", \"\\u043d\\u043e\\u0433\\u0430\", \"\\u0440\\u0443\\u043a\\u0430\", \"\\u0441\\u0435\\u0440\\u0434\\u0446\\u0435\", \"\\u0440\\u044f\\u0434\\u043e\\u043c\", \"\\u043d\\u0430\\u0447\\u0430\\u043b\\u043e\", \"\\u0431\\u043e\\u043b\\u044c\\u043d\\u0438\\u0446\\u0430\", \"\\u0430\\u0445\\u0438\", \"\\u0434\\u0435\\u0432\\u043e\\u0447\\u043a\\u0430\", \"\\u0441\\u043e\\u0436\\u0430\\u043b\\u0435\\u043d\\u0438\\u0435\", \"\\u0431\\u0440\\u0430\\u0442\", \"\\u0440\\u043e\\u0434\\u043d\\u044b\\u0439\", \"\\u0441\\u043a\\u043e\\u0440\\u043e\", \"\\u043d\\u0435\\u0434\\u0435\\u043b\\u044f\", \"\\u0442\\u0435\\u043b\\u0435\\u0444\\u043e\\u043d\", \"\\u043d\\u0430\\u0447\\u0430\\u0442\\u044c\\u0441\\u044f\", \"\\u0431\\u044b\\u0441\\u0442\\u0440\\u043e\", \"\\u043f\\u0430\\u043f\\u0430\", \"\\u043f\\u043e\\u043d\\u0435\\u0434\\u0435\\u043b\\u044c\\u043d\\u0438\\u043a\", \"\\u0434\\u043e\\u043b\\u0433\\u043e\", \"\\u043d\\u043e\\u0432\\u044b\\u0439\", \"\\u0441\\u043f\\u0430\\u0441\\u0438\\u0431\\u043e\", \"\\u043d\\u0443\\u0436\\u043d\\u044b\\u0439\", \"\\u043f\\u0440\\u043e\\u0431\\u043b\\u0435\\u043c\\u0430\", \"\\u0433\\u043e\\u0434\", \"\\u0433\\u043e\\u043b\\u043e\\u0432\\u0430\", \"\\u043c\\u0430\\u043c\\u0430\", \"\\u0432\\u0440\\u0435\\u043c\\u044f\", \"\\u0447\\u0435\\u043b\\u043e\\u0432\\u0435\\u043a\", \"\\u043c\\u0430\\u043b\\u0435\\u043d\\u044c\\u043a\\u0438\\u0439\", \"\\u0434\\u0435\\u043d\\u044c\", \"\\u043f\\u043e\\u0441\\u043b\\u0435\\u0434\\u043d\\u0438\\u0439\"], \"Freq\": [9205.0, 5765.0, 7649.0, 4775.0, 4740.0, 8963.0, 3913.0, 4086.0, 5025.0, 3303.0, 3252.0, 3285.0, 3124.0, 3214.0, 2731.0, 2409.0, 2379.0, 2530.0, 2214.0, 6363.0, 2515.0, 2540.0, 2035.0, 1987.0, 1983.0, 2053.0, 2182.0, 1828.0, 1815.0, 1909.0, 5764.36293607216, 1908.624503200461, 1862.3235938987134, 2052.477988152338, 1679.6265763400368, 2729.715646029752, 1368.6956750625798, 1322.4708258843823, 1299.6072488717018, 1287.8980752228404, 1240.535087829369, 1208.9573997896514, 1177.3113417494594, 1167.968803477291, 1106.2398250703127, 1804.9859160845774, 980.561825850803, 908.5421410279986, 1042.478611482282, 1053.6714654614823, 871.7443013176345, 979.7956973393391, 861.361854136673, 806.5957414633928, 838.622881149461, 743.8860921269426, 800.5148967990801, 771.3265540307647, 1256.0082162494991, 727.647435986214, 9115.343198536691, 2520.8370036673714, 1017.483068004905, 2470.791364902045, 2146.2773031086017, 1286.842245356116, 2474.833966476652, 7111.187059998885, 4709.499141059351, 1246.393639873511, 6960.971079625031, 1916.7071830280404, 1276.5682409263459, 1158.8129910060659, 3913.043671289778, 3251.4240569166373, 3123.451384926606, 2408.974135564165, 2035.1099732250939, 1814.550620158714, 1757.9108659697172, 1986.8860500533979, 1566.7312342945893, 1557.7382326297325, 1429.3591339761454, 1216.9490273854892, 1029.6367189571563, 1042.540261690332, 1045.7738728391316, 929.5568401750853, 942.2772669831248, 961.6435534831719, 884.9095276243105, 1438.88508079762, 725.4748413810977, 696.449259807153, 828.8845637409836, 641.5228795113758, 678.242017059482, 641.9171021786976, 608.5856932180643, 614.7404820157594, 611.3941798375196, 607.6017600171484, 4734.496673104181, 3297.182548922634, 3262.161334336736, 1742.565404357163, 896.2663537889779, 1007.3465117081428, 1164.4382546010636, 934.79784075939, 3140.044341273411, 1755.9778201442946, 1422.0094171986168, 1267.4258754398468, 1686.1672669009354, 2000.8953420232879, 3869.3694874845382, 1620.8723042272322, 1749.7593802286294, 1186.462996941182, 1090.8729011954476, 1242.9093905660027, 1106.4023184576492, 4774.085226461457, 1827.9092499988499, 1743.5215338576013, 1694.3484472315502, 1521.540329987167, 1415.1311184206706, 1317.5569299305514, 1500.984084512141, 1301.7575006726468, 1199.565837382965, 1687.4844112822727, 1507.4236565256983, 1195.1613162398794, 1020.5279929689983, 1073.523142509836, 993.0221081718355, 991.5045635541472, 1021.4096744007412, 986.9446017858961, 1288.8170686276096, 1650.8471669597561, 908.5160906119341, 888.0976876627244, 995.578107194648, 895.6079680111278, 787.4386689371756, 798.5142575962973, 774.1443318973418, 770.6432538735223, 815.5269009336196, 2211.7626569591584, 2366.6743398831345, 1969.7984504335052, 1085.3164227411507, 1040.7987828388098, 1158.627550962116, 975.1003592353304, 1214.5485371846423, 3971.2934649186377, 1522.6527297182631, 1497.0585425526015, 1106.4782204802152, 2370.7793047357222, 2105.681536140779, 2066.385035808733, 2134.245083363176, 2373.1395595998442, 1232.9624777578324, 1997.8730258607382, 1189.8869937699742], \"Total\": [9205.0, 5765.0, 7649.0, 4775.0, 4740.0, 8963.0, 3913.0, 4086.0, 5025.0, 3303.0, 3252.0, 3285.0, 3124.0, 3214.0, 2731.0, 2409.0, 2379.0, 2530.0, 2214.0, 6363.0, 2515.0, 2540.0, 2035.0, 1987.0, 1983.0, 2053.0, 2182.0, 1828.0, 1815.0, 1909.0, 5765.797199747173, 1909.4108866558047, 1863.1420134532987, 2053.4001660267486, 1680.4161240128594, 2731.1983682661826, 1369.5112465265847, 1323.2630622684285, 1300.4038122708205, 1288.7142378903861, 1241.3324017982256, 1209.75478697332, 1178.1068291813117, 1168.770308810272, 1107.022396027695, 1806.450621914549, 981.3885117951072, 909.3235358477709, 1043.4210895605981, 1054.6304712422464, 872.5480746151692, 980.7139009279558, 862.1935684536239, 807.3867487461914, 839.4461276079078, 744.6173913786356, 801.3170056435414, 772.1272575484926, 1257.3668907462538, 728.4567666277495, 9205.197421099427, 2530.6640061572357, 1018.6871328317906, 2515.9732230272502, 2182.5704643811096, 1295.7674625856491, 2540.2620582434415, 7649.644626500876, 5025.448834743425, 1279.470177765997, 8963.675788479944, 2922.0011235010957, 2777.769437808076, 2174.73187419135, 3913.931006593622, 3252.270905123198, 3124.273051094701, 2409.766392330543, 2035.914628938258, 1815.3292422345376, 1758.72832642765, 1987.8289177895285, 1567.4949960355152, 1558.5113511646564, 1430.296904104961, 1217.749619605472, 1030.4228155275632, 1043.3440691815813, 1046.6106189700154, 930.3287938763865, 943.0700477616933, 962.4671187975914, 885.6919240758205, 1440.3500411064513, 726.2466057774756, 697.2400000301201, 829.8512098585323, 642.2794426231355, 679.0469796611268, 642.7165092371814, 609.3740489297409, 615.5370310790066, 612.1946412003725, 608.397672179833, 4740.839611726766, 3303.5586257102573, 3285.3855996145617, 1749.5919234784797, 897.6709216217897, 1010.2557058564428, 1170.468665630129, 937.6346057705134, 3214.3061488877397, 1782.6468481265847, 1443.7422253157831, 1305.8330771763729, 1793.1137373438369, 2428.2940227038707, 6363.313085349619, 2334.3305611456726, 2834.8211889992085, 1964.238563092556, 1365.3212003851074, 4282.025902928208, 2041.819207644257, 4775.0768496685405, 1828.7016250535107, 1744.283915616473, 1695.154995867769, 1522.304377695089, 1415.9190545797553, 1318.3063933724432, 1501.8513506349889, 1302.5527180144334, 1200.3572112322213, 1688.6361165039696, 1508.471262988519, 1196.0407436771875, 1021.2865948854774, 1074.3307570039765, 993.7919291082906, 992.2872603100873, 1022.2334355458468, 987.7419718666267, 1289.9210416537394, 1652.276089756832, 909.3095215977969, 888.8773990784867, 996.4580680718412, 896.4081033514094, 788.2045313040493, 799.3024059075454, 774.9106834249612, 771.4079101162172, 816.3498368196364, 2214.208850323091, 2379.7591869183475, 1983.285935435476, 1086.4182032883302, 1042.0025980388955, 1161.9728146282332, 976.7113569443661, 1219.8208448100524, 4086.721071720587, 1540.803688172634, 1522.384907815249, 1115.345342025914, 2695.188642739836, 2482.9914631112533, 3088.6327492633136, 4282.025902928208, 6363.313085349619, 1565.9431341250195, 8963.675788479944, 2777.769437808076], \"Category\": [\"Default\", \"Default\", \"Default\", \"Default\", \"Default\", \"Default\", \"Default\", \"Default\", \"Default\", \"Default\", \"Default\", \"Default\", \"Default\", \"Default\", \"Default\", \"Default\", \"Default\", \"Default\", \"Default\", \"Default\", \"Default\", \"Default\", \"Default\", \"Default\", \"Default\", \"Default\", \"Default\", \"Default\", \"Default\", \"Default\", \"Topic1\", \"Topic1\", \"Topic1\", \"Topic1\", \"Topic1\", \"Topic1\", \"Topic1\", \"Topic1\", \"Topic1\", \"Topic1\", \"Topic1\", \"Topic1\", \"Topic1\", \"Topic1\", \"Topic1\", \"Topic1\", \"Topic1\", \"Topic1\", \"Topic1\", \"Topic1\", \"Topic1\", \"Topic1\", \"Topic1\", \"Topic1\", \"Topic1\", \"Topic1\", \"Topic1\", \"Topic1\", \"Topic1\", \"Topic1\", \"Topic1\", \"Topic1\", \"Topic1\", \"Topic1\", \"Topic1\", \"Topic1\", \"Topic1\", \"Topic1\", \"Topic1\", \"Topic1\", \"Topic1\", \"Topic1\", \"Topic1\", \"Topic1\", \"Topic2\", \"Topic2\", \"Topic2\", \"Topic2\", \"Topic2\", \"Topic2\", \"Topic2\", \"Topic2\", \"Topic2\", \"Topic2\", \"Topic2\", \"Topic2\", \"Topic2\", \"Topic2\", \"Topic2\", \"Topic2\", \"Topic2\", \"Topic2\", \"Topic2\", \"Topic2\", \"Topic2\", \"Topic2\", \"Topic2\", \"Topic2\", \"Topic2\", \"Topic2\", \"Topic2\", \"Topic2\", \"Topic2\", \"Topic2\", \"Topic2\", \"Topic2\", \"Topic2\", \"Topic2\", \"Topic2\", \"Topic2\", \"Topic2\", \"Topic2\", \"Topic2\", \"Topic2\", \"Topic2\", \"Topic2\", \"Topic2\", \"Topic2\", \"Topic2\", \"Topic2\", \"Topic2\", \"Topic2\", \"Topic2\", \"Topic2\", \"Topic2\", \"Topic3\", \"Topic3\", \"Topic3\", \"Topic3\", \"Topic3\", \"Topic3\", \"Topic3\", \"Topic3\", \"Topic3\", \"Topic3\", \"Topic3\", \"Topic3\", \"Topic3\", \"Topic3\", \"Topic3\", \"Topic3\", \"Topic3\", \"Topic3\", \"Topic3\", \"Topic3\", \"Topic3\", \"Topic3\", \"Topic3\", \"Topic3\", \"Topic3\", \"Topic3\", \"Topic3\", \"Topic3\", \"Topic3\", \"Topic3\", \"Topic3\", \"Topic3\", \"Topic3\", \"Topic3\", \"Topic3\", \"Topic3\", \"Topic3\", \"Topic3\", \"Topic3\", \"Topic3\", \"Topic3\", \"Topic3\", \"Topic3\", \"Topic3\", \"Topic3\", \"Topic3\", \"Topic3\", \"Topic3\", \"Topic3\", \"Topic3\"], \"logprob\": [30.0, 29.0, 28.0, 27.0, 26.0, 25.0, 24.0, 23.0, 22.0, 21.0, 20.0, 19.0, 18.0, 17.0, 16.0, 15.0, 14.0, 13.0, 12.0, 11.0, 10.0, 9.0, 8.0, 7.0, 6.0, 5.0, 4.0, 3.0, 2.0, 1.0, -3.8014, -4.9067, -4.9313, -4.8341, -5.0345, -4.5489, -5.2392, -5.2736, -5.291, -5.3001, -5.3376, -5.3633, -5.3899, -5.3978, -5.4521, -4.9626, -5.5727, -5.649, -5.5115, -5.5008, -5.6904, -5.5735, -5.7023, -5.768, -5.7291, -5.849, -5.7756, -5.8127, -5.3252, -5.871, -3.3431, -4.6285, -5.5358, -4.6486, -4.7894, -5.3009, -4.6469, -3.5914, -4.0035, -5.3329, -3.6128, -4.9025, -5.3089, -5.4057, -4.1182, -4.3034, -4.3435, -4.6033, -4.7719, -4.8866, -4.9183, -4.7959, -5.0335, -5.0392, -5.1252, -5.2861, -5.4533, -5.4408, -5.4377, -5.5555, -5.5419, -5.5216, -5.6047, -5.1186, -5.8034, -5.8442, -5.6701, -5.9264, -5.8707, -5.9258, -5.9791, -5.969, -5.9745, -5.9807, -3.9276, -4.2894, -4.3001, -4.9271, -5.592, -5.4751, -5.3302, -5.5499, -4.3382, -4.9194, -5.1304, -5.2455, -4.96, -4.7889, -4.1294, -4.9995, -4.923, -5.3115, -5.3955, -5.265, -5.3814, -3.9109, -4.8709, -4.9182, -4.9468, -5.0544, -5.1269, -5.1983, -5.068, -5.2104, -5.2921, -4.9508, -5.0637, -5.2958, -5.4538, -5.4031, -5.4811, -5.4826, -5.4529, -5.4872, -5.2204, -4.9728, -5.57, -5.5928, -5.4785, -5.5843, -5.7131, -5.6991, -5.7301, -5.7346, -5.678, -4.6803, -4.6126, -4.7962, -5.3922, -5.4341, -5.3269, -5.4993, -5.2797, -4.095, -5.0536, -5.0706, -5.3729, -4.6109, -4.7294, -4.7483, -4.716, -4.6099, -5.2647, -4.782, -5.3002], \"loglift\": [30.0, 29.0, 28.0, 27.0, 26.0, 25.0, 24.0, 23.0, 22.0, 21.0, 20.0, 19.0, 18.0, 17.0, 16.0, 15.0, 14.0, 13.0, 12.0, 11.0, 10.0, 9.0, 8.0, 7.0, 6.0, 5.0, 4.0, 3.0, 2.0, 1.0, 1.0491, 1.0489, 1.0489, 1.0489, 1.0489, 1.0488, 1.0488, 1.0488, 1.0487, 1.0487, 1.0487, 1.0487, 1.0487, 1.0487, 1.0487, 1.0485, 1.0485, 1.0485, 1.0485, 1.0485, 1.0484, 1.0484, 1.0484, 1.0484, 1.0484, 1.0484, 1.0484, 1.0483, 1.0483, 1.0482, 1.0396, 1.0455, 1.0482, 1.0312, 1.0326, 1.0424, 1.0233, 0.9764, 0.9844, 1.0232, 0.7965, 0.6277, 0.2719, 0.4199, 1.1198, 1.1197, 1.1197, 1.1197, 1.1196, 1.1196, 1.1195, 1.1195, 1.1195, 1.1195, 1.1193, 1.1193, 1.1192, 1.1192, 1.1192, 1.1192, 1.1192, 1.1191, 1.1191, 1.119, 1.1189, 1.1189, 1.1188, 1.1188, 1.1188, 1.1188, 1.1187, 1.1187, 1.1187, 1.1187, 1.1187, 1.1181, 1.1129, 1.116, 1.1184, 1.1171, 1.1148, 1.117, 1.0966, 1.1049, 1.1048, 1.0901, 1.0585, 0.9264, 0.6225, 0.7552, 0.6375, 0.6159, 0.8956, -0.117, 0.5073, 1.1282, 1.1279, 1.1279, 1.1279, 1.1279, 1.1278, 1.1278, 1.1278, 1.1278, 1.1277, 1.1277, 1.1277, 1.1276, 1.1276, 1.1276, 1.1276, 1.1276, 1.1276, 1.1276, 1.1275, 1.1275, 1.1275, 1.1275, 1.1275, 1.1275, 1.1274, 1.1274, 1.1274, 1.1274, 1.1274, 1.1273, 1.1229, 1.1216, 1.1274, 1.1272, 1.1255, 1.1267, 1.124, 1.0997, 1.1165, 1.1116, 1.1204, 1.0001, 0.9636, 0.7264, 0.4321, 0.142, 0.8893, -0.3727, 0.2806]}, \"token.table\": {\"Topic\": [3, 3, 2, 3, 2, 3, 3, 3, 1, 3, 1, 2, 3, 2, 1, 2, 3, 1, 3, 1, 1, 2, 3, 1, 2, 1, 1, 2, 3, 1, 2, 3, 1, 2, 3, 2, 1, 2, 3, 2, 1, 2, 3, 2, 1, 2, 3, 1, 1, 2, 1, 2, 3, 2, 2, 2, 2, 1, 2, 3, 3, 3, 1, 2, 1, 1, 1, 2, 3, 1, 2, 3, 1, 1, 1, 2, 2, 3, 1, 2, 3, 3, 3, 2, 1, 2, 3, 3, 1, 2, 3, 3, 1, 2, 3, 2, 1, 2, 3, 3, 1, 2, 1, 2, 3, 2, 3, 1, 3, 1, 2, 3, 1, 2, 2, 1, 1, 2, 3, 1, 3, 2, 3, 2, 3, 1, 2, 3, 1, 2, 3, 1, 2, 1, 2, 2, 1, 1, 2, 3, 3, 3, 1, 3, 1, 2, 3, 2, 1, 2, 3, 1, 2, 2, 3, 1, 2, 3, 1, 2, 3, 1, 2, 3, 3, 1, 2, 3, 3, 1, 2, 3, 1, 2, 3, 1, 3, 2, 1, 3, 1, 3, 1, 3, 1, 2, 3, 1, 2, 3, 1, 3, 1, 1, 2, 3, 1, 2, 1, 3, 3, 1, 2, 3, 2, 1, 1, 2, 1, 3, 1, 1, 2, 1, 2, 3, 1, 2, 2, 1, 2, 1, 2, 3, 2, 3, 2, 1, 2, 3, 1, 1, 2, 3, 1, 2, 3, 1, 1, 2, 1, 2, 3, 1, 2, 2], \"Freq\": [0.9984718036293747, 0.9995756655321592, 0.9996842120473959, 0.9995447348703301, 0.00020942071331677404, 0.9997744853742793, 0.999837230846463, 0.9994712134645395, 0.0009596905054575232, 0.9990378161812816, 0.0006942756770651513, 0.9990626992967527, 0.0006942756770651513, 0.9995146651885884, 0.21134855802276384, 0.2902831575936966, 0.49836223516085965, 0.0005921938955506459, 0.9990311017939396, 0.9993870497014975, 0.016291300151249574, 0.6037963118556873, 0.3792818316462791, 0.9993760826727469, 0.999218775674688, 0.9997322217661087, 0.9932337685280705, 0.006173947279117766, 0.0007717434098897208, 0.08533725482242681, 0.03524799655708933, 0.8797157877564085, 0.1461946226529315, 0.005638360102316918, 0.8481704553913878, 0.9995649204931825, 0.9990454941995711, 0.9991275405834394, 0.9996216627082436, 0.9998186322200526, 0.7765787344680884, 0.0005578068772217271, 0.22289962813780215, 0.9994165748379122, 0.0008197925164622987, 0.0032791700658491947, 0.9960479075016929, 0.9993409237003497, 0.9996882998681862, 0.00017343655445318983, 0.6560572426142947, 0.3425734480213401, 0.0017111560840226778, 0.9995858789463354, 0.9995925288622726, 0.9997621300446907, 0.9982215592477963, 0.92958566668119, 0.0660161386125722, 0.0043139258895344215, 0.9993186488134804, 0.9996921273994809, 0.007000700314355289, 0.9928819315403022, 0.9996041202944219, 0.9992720599480844, 0.5329392619634828, 0.16369834103451245, 0.3030258616341115, 0.012902162884460885, 0.9850520880484049, 0.0022438544146888497, 0.9997848097239436, 0.9995209870030788, 0.9994457748123002, 0.9980485925227471, 0.9989742620744296, 0.001205035298039119, 0.0008543586251936474, 0.9944734397254056, 0.004271793125968237, 0.9997105069050292, 0.9987933915063264, 0.9982834952100863, 0.061359950074781566, 0.8240353026821337, 0.11448366524019647, 0.9992488201496342, 0.0019157783795745998, 0.21073562175320598, 0.7873849140051605, 0.9998000546411422, 0.32959567635317233, 0.001295071419855294, 0.6689043883552593, 0.9993844222216101, 0.001979696811813107, 0.9967773447478995, 0.9991298426222607, 0.9993509130505853, 0.9993181231549924, 0.0004869971360404446, 0.9995612298688713, 0.0003661396446406122, 0.0003661396446406122, 0.9993463614375642, 0.9995403037152104, 0.0009204558585020365, 0.9986946064747095, 0.0016808423398418611, 0.0037818952646441876, 0.9946384546014213, 0.002133027074396933, 0.9971901572805663, 0.9996092253197001, 0.9991708609202741, 0.02789522406822931, 0.0004893898959338475, 0.9716836383766543, 0.0007752412494317892, 0.9992859705175764, 0.9996819640555274, 0.9996163261169027, 0.016421602626025184, 0.9833255652463879, 0.456455692311413, 0.5416738151249171, 0.0014692779795431748, 0.0017212106641581704, 0.0017212106641581704, 0.9974415798796598, 0.9738405956249506, 0.02579192588733818, 0.9961812369663762, 0.003556378870566198, 0.9996465831450658, 0.9990764450372787, 0.0012851650275818784, 0.6944175032367417, 0.3045841115369052, 0.9997193785888187, 0.9997024125577963, 0.0010238439359694681, 0.9982478375702315, 0.45972138026245774, 0.11196033614849206, 0.428401286227349, 0.9996718976963022, 0.9832443144549381, 0.0013745260686695315, 0.015577962111588023, 0.004000932963889566, 0.9962323080085019, 0.00717266634697088, 0.9916211224687241, 0.029100197157027226, 0.9702618367882498, 0.9992031238279414, 0.9743089268952947, 0.00039366017248294735, 0.025587911211391576, 0.014545532874060511, 0.9849403689006688, 0.00069264442257431, 0.9995714621307462, 0.0006052257284357189, 0.0006052257284357189, 0.999227677647372, 0.9990129132775832, 0.001513519379098354, 0.9980146785774546, 0.0003027038758196708, 0.9902014680431858, 0.00032590284192315493, 0.009451182415771493, 0.9986156606853788, 0.9996596080977432, 0.9995896679293279, 0.0009032571609982345, 0.9990024200640473, 0.9983438164894647, 0.000981655670097802, 0.9986380478841993, 0.0009583858424992316, 0.000662922804388625, 0.000662922804388625, 0.9990246662136578, 0.9997523684717654, 0.9995830034556242, 0.0005030614008332281, 0.9996043942143886, 0.9988247891732036, 0.9994685452785648, 0.0032450597297894006, 0.008437155297452441, 0.9884451936938514, 0.9994021875344605, 0.0009481994189131504, 0.9989128942742858, 0.0007953128139126478, 0.9997675856128867, 0.005546351034645288, 0.0015126411912668968, 0.9933010489319288, 0.998865357070524, 0.9985400624864978, 0.9993729667309372, 0.9984581631426308, 0.9990605018544194, 0.9994331325569412, 0.9996894716341108, 0.9991969767139212, 0.0005535717322514799, 0.9821249198458727, 0.017090801923663506, 0.0007949210197052794, 0.023022075860946394, 0.9768826784239416, 0.9996702246250835, 0.9996266941743769, 0.9988851861950274, 0.05911504540532895, 0.9402638354092887, 0.0005576891075974429, 0.999093262314112, 0.0006991555369587907, 0.9993861751572818, 0.00021093310086391383, 0.9985572994897681, 0.0012655986051834831, 0.9996442016124995, 0.36298585744777545, 0.6173228868159446, 0.01975433237811023, 0.019015251705684685, 0.6080166020602813, 0.37291894460817976, 0.9993718688618838, 0.20068537712789825, 0.7990793665932007, 0.00111399397698361, 0.9981386033773145, 0.00111399397698361, 0.9370307319506156, 0.06268096847832744, 0.9995507528040433], \"Term\": [\"\\u0430\\u0445\\u0438\", \"\\u0431\\u043e\\u0433\", \"\\u0431\\u043e\\u043b\\u044c\", \"\\u0431\\u043e\\u043b\\u044c\\u043d\\u0438\\u0446\\u0430\", \"\\u0431\\u043e\\u043b\\u044c\\u0448\", \"\\u0431\\u043e\\u043b\\u044c\\u0448\", \"\\u0431\\u043e\\u044f\\u0442\\u044c\\u0441\\u044f\", \"\\u0431\\u0440\\u0430\\u0442\", \"\\u0431\\u044b\\u0441\\u0442\\u0440\\u043e\", \"\\u0431\\u044b\\u0441\\u0442\\u0440\\u043e\", \"\\u0432\\u0435\\u0447\\u0435\\u0440\", \"\\u0432\\u0435\\u0447\\u0435\\u0440\", \"\\u0432\\u0435\\u0447\\u0435\\u0440\", \"\\u0432\\u043e\\u043f\\u0440\\u043e\\u0441\", \"\\u0432\\u0440\\u0435\\u043c\\u044f\", \"\\u0432\\u0440\\u0435\\u043c\\u044f\", \"\\u0432\\u0440\\u0435\\u043c\\u044f\", \"\\u0432\\u0440\\u043e\\u0434\\u0435\", \"\\u0432\\u0440\\u043e\\u0434\\u0435\", \"\\u0432\\u0442\\u043e\\u0440\", \"\\u0432\\u0447\\u0435\\u0440\\u0430\", \"\\u0432\\u0447\\u0435\\u0440\\u0430\", \"\\u0432\\u0447\\u0435\\u0440\\u0430\", \"\\u0432\\u044b\\u0439\\u0442\\u0438\", \"\\u0432\\u044b\\u0441\\u043f\\u0430\\u0442\\u044c\\u0441\\u044f\", \"\\u0432\\u044b\\u0445\\u043e\\u0434\\u043d\", \"\\u0433\\u043b\\u0430\\u0437\", \"\\u0433\\u043b\\u0430\\u0437\", \"\\u0433\\u043b\\u0430\\u0437\", \"\\u0433\\u043e\\u0434\", \"\\u0433\\u043e\\u0434\", \"\\u0433\\u043e\\u0434\", \"\\u0433\\u043e\\u043b\\u043e\\u0432\\u0430\", \"\\u0433\\u043e\\u043b\\u043e\\u0432\\u0430\", \"\\u0433\\u043e\\u043b\\u043e\\u0432\\u0430\", \"\\u0433\\u043e\\u0440\\u043b\\u043e\", \"\\u0433\\u043e\\u0440\\u043e\\u0434\", \"\\u0433\\u043e\\u0442\\u043e\\u0432\\u0438\\u0442\\u044c\\u0441\\u044f\", \"\\u0434\\u0435\\u0432\\u043e\\u0447\\u043a\\u0430\", \"\\u0434\\u0435\\u043b\\u043e\", \"\\u0434\\u0435\\u043d\\u044c\", \"\\u0434\\u0435\\u043d\\u044c\", \"\\u0434\\u0435\\u043d\\u044c\", \"\\u0434\\u043e\\u0431\\u0440\\u044b\\u0439\", \"\\u0434\\u043e\\u043b\\u0433\\u043e\", \"\\u0434\\u043e\\u043b\\u0433\\u043e\", \"\\u0434\\u043e\\u043b\\u0433\\u043e\", \"\\u0434\\u043e\\u043b\\u0436\\u043d\\u044b\\u0439\", \"\\u0434\\u043e\\u043c\", \"\\u0434\\u043e\\u043c\", \"\\u0434\\u0440\\u0443\\u0433\", \"\\u0434\\u0440\\u0443\\u0433\", \"\\u0434\\u0440\\u0443\\u0433\", \"\\u0436\\u0430\\u043b\\u043a\\u043e\", \"\\u0436\\u0430\\u043b\\u044c\", \"\\u0436\\u0438\\u0437\\u043d\\u044c\", \"\\u0436\\u043e\\u043f\\u0430\", \"\\u0437\\u0430\\u0432\\u0442\\u0440\\u0430\", \"\\u0437\\u0430\\u0432\\u0442\\u0440\\u0430\", \"\\u0437\\u0430\\u0432\\u0442\\u0440\\u0430\", \"\\u0437\\u0430\\u043a\\u043e\\u043d\\u0447\\u0438\\u0442\\u044c\\u0441\\u044f\", \"\\u0437\\u0438\\u043c\\u0430\", \"\\u0438\\u0434\\u0442\\u0438\", \"\\u0438\\u0434\\u0442\\u0438\", \"\\u0438\\u043d\\u0442\\u0435\\u0440\\u043d\\u0435\\u0442\", \"\\u0438\\u0441\\u0442\\u043e\\u0440\\u0438\\u044f\", \"\\u043a\\u0430\\u0436\\u0434\\u044b\\u0439\", \"\\u043a\\u0430\\u0436\\u0434\\u044b\\u0439\", \"\\u043a\\u0430\\u0436\\u0434\\u044b\\u0439\", \"\\u043a\\u0430\\u0437\\u0430\\u0442\\u044c\\u0441\\u044f\", \"\\u043a\\u0430\\u0437\\u0430\\u0442\\u044c\\u0441\\u044f\", \"\\u043a\\u0430\\u0437\\u0430\\u0442\\u044c\\u0441\\u044f\", \"\\u043a\\u0430\\u043d\\u0438\\u043a\\u0443\\u043b\\u044b\", \"\\u043a\\u0430\\u0442\\u043e\\u043a\", \"\\u043a\\u043e\\u043d\\u0435\\u0446\", \"\\u043a\\u043e\\u0440\\u043e\\u0447\\u0435\", \"\\u043b\\u0430\\u0434\\u043d\\u044b\\u0439\", \"\\u043b\\u0430\\u0434\\u043d\\u044b\\u0439\", \"\\u043b\\u0435\\u043d\\u0442\\u0430\", \"\\u043b\\u0435\\u043d\\u0442\\u0430\", \"\\u043b\\u0435\\u043d\\u0442\\u0430\", \"\\u043b\\u0435\\u043d\\u044c\", \"\\u043b\\u0435\\u0442\\u043e\", \"\\u043b\\u0435\\u0447\\u044c\", \"\\u043b\\u044e\\u0431\\u0438\\u043c\\u044b\\u0439\", \"\\u043b\\u044e\\u0431\\u0438\\u043c\\u044b\\u0439\", \"\\u043b\\u044e\\u0431\\u0438\\u043c\\u044b\\u0439\", \"\\u043b\\u044e\\u0431\\u043e\\u0432\\u044c\", \"\\u043c\\u0430\\u043b\\u0435\\u043d\\u044c\\u043a\\u0438\\u0439\", \"\\u043c\\u0430\\u043b\\u0435\\u043d\\u044c\\u043a\\u0438\\u0439\", \"\\u043c\\u0430\\u043b\\u0435\\u043d\\u044c\\u043a\\u0438\\u0439\", \"\\u043c\\u0430\\u043b\\u043e\", \"\\u043c\\u0430\\u043c\\u0430\", \"\\u043c\\u0430\\u043c\\u0430\", \"\\u043c\\u0430\\u043c\\u0430\", \"\\u043c\\u043e\\u043c\\u0435\\u043d\\u0442\", \"\\u043c\\u0443\\u0437\\u044b\\u043a\\u0430\", \"\\u043c\\u0443\\u0437\\u044b\\u043a\\u0430\", \"\\u043d\\u0430\\u0432\\u0435\\u0440\\u043d\\u043e\\u0435\", \"\\u043d\\u0430\\u0434\\u0435\\u044f\\u0442\\u044c\\u0441\\u044f\", \"\\u043d\\u0430\\u0439\\u0442\\u0438\", \"\\u043d\\u0430\\u0439\\u0442\\u0438\", \"\\u043d\\u0430\\u0441\\u0442\\u0440\\u043e\\u0435\\u043d\\u0438\\u0435\", \"\\u043d\\u0430\\u0441\\u0442\\u0440\\u043e\\u0435\\u043d\\u0438\\u0435\", \"\\u043d\\u0430\\u0441\\u0442\\u0440\\u043e\\u0435\\u043d\\u0438\\u0435\", \"\\u043d\\u0430\\u0445\\u0443\\u0439\", \"\\u043d\\u0430\\u0447\\u0430\\u043b\\u043e\", \"\\u043d\\u0430\\u0447\\u0430\\u0442\\u044c\\u0441\\u044f\", \"\\u043d\\u0430\\u0447\\u0430\\u0442\\u044c\\u0441\\u044f\", \"\\u043d\\u0435\\u0434\\u0435\\u043b\\u044f\", \"\\u043d\\u0435\\u0434\\u0435\\u043b\\u044f\", \"\\u043d\\u0435\\u0434\\u0435\\u043b\\u044f\", \"\\u043d\\u0435\\u0447\\u0435\\u0433\\u043e\", \"\\u043d\\u0435\\u0447\\u0435\\u0433\\u043e\", \"\\u043d\\u0438\\u043a\\u0442\\u043e\", \"\\u043d\\u043e\\u0432\\u043e\\u0433\\u043e\\u0434\\u043d\\u0438\\u0439\", \"\\u043d\\u043e\\u0432\\u044b\\u0439\", \"\\u043d\\u043e\\u0432\\u044b\\u0439\", \"\\u043d\\u043e\\u0432\\u044b\\u0439\", \"\\u043d\\u043e\\u0433\\u0430\", \"\\u043d\\u043e\\u0433\\u0430\", \"\\u043d\\u043e\\u0447\\u044c\", \"\\u043d\\u0440\\u0430\\u0432\\u0438\\u0442\\u044c\\u0441\\u044f\", \"\\u043d\\u0443\\u0436\\u043d\\u044b\\u0439\", \"\\u043d\\u0443\\u0436\\u043d\\u044b\\u0439\", \"\\u043e\\u0441\\u0442\\u0430\\u0442\\u044c\\u0441\\u044f\", \"\\u043e\\u0441\\u0442\\u0430\\u0442\\u044c\\u0441\\u044f\", \"\\u043e\\u0441\\u0442\\u0430\\u0442\\u044c\\u0441\\u044f\", \"\\u043f\\u0430\\u043f\\u0430\", \"\\u043f\\u0430\\u043f\\u0430\", \"\\u043f\\u0430\\u043f\\u0430\", \"\\u043f\\u0430\\u0440\\u0430\", \"\\u043f\\u0430\\u0440\\u0430\", \"\\u043f\\u0435\\u0440\\u0432\\u044b\\u0439\", \"\\u043f\\u0435\\u0440\\u0432\\u044b\\u0439\", \"\\u043f\\u0435\\u0447\\u0430\\u043b\\u044c\", \"\\u043f\\u043e\\u0433\\u043e\\u0434\\u0430\", \"\\u043f\\u043e\\u043a\\u0430\", \"\\u043f\\u043e\\u043a\\u0430\", \"\\u043f\\u043e\\u043a\\u0430\", \"\\u043f\\u043e\\u043b\\u0443\\u0447\\u0430\\u0442\\u044c\\u0441\\u044f\", \"\\u043f\\u043e\\u043b\\u0443\\u0447\\u0438\\u0442\\u044c\\u0441\\u044f\", \"\\u043f\\u043e\\u043d\\u0435\\u0434\\u0435\\u043b\\u044c\\u043d\\u0438\\u043a\", \"\\u043f\\u043e\\u043d\\u0435\\u0434\\u0435\\u043b\\u044c\\u043d\\u0438\\u043a\", \"\\u043f\\u043e\\u0441\\u043b\\u0435\\u0434\\u043d\\u0438\\u0439\", \"\\u043f\\u043e\\u0441\\u043b\\u0435\\u0434\\u043d\\u0438\\u0439\", \"\\u043f\\u043e\\u0441\\u043b\\u0435\\u0434\\u043d\\u0438\\u0439\", \"\\u043f\\u0440\\u0430\\u0432\\u0434\\u0430\", \"\\u043f\\u0440\\u0438\\u0439\\u0442\\u0438\", \"\\u043f\\u0440\\u0438\\u0439\\u0442\\u0438\", \"\\u043f\\u0440\\u0438\\u0439\\u0442\\u0438\", \"\\u043f\\u0440\\u0438\\u0439\\u0442\\u0438\\u0441\\u044c\", \"\\u043f\\u0440\\u0438\\u0439\\u0442\\u0438\\u0441\\u044c\", \"\\u043f\\u0440\\u043e\\u0431\\u043b\\u0435\\u043c\\u0430\", \"\\u043f\\u0440\\u043e\\u0431\\u043b\\u0435\\u043c\\u0430\", \"\\u043f\\u0440\\u043e\\u0441\\u043d\\u0443\\u0442\\u044c\\u0441\\u044f\", \"\\u043f\\u0440\\u043e\\u0441\\u043d\\u0443\\u0442\\u044c\\u0441\\u044f\", \"\\u043f\\u044b\\u0442\\u0430\\u0442\\u044c\\u0441\\u044f\", \"\\u0440\\u0430\\u0431\\u043e\\u0442\\u0430\", \"\\u0440\\u0430\\u0431\\u043e\\u0442\\u0430\", \"\\u0440\\u0430\\u0431\\u043e\\u0442\\u0430\", \"\\u0440\\u0430\\u043d\\u043d\\u0438\\u0439\", \"\\u0440\\u0430\\u043d\\u043d\\u0438\\u0439\", \"\\u0440\\u0430\\u043d\\u043d\\u0438\\u0439\", \"\\u0440\\u043e\\u0434\\u043d\\u044b\\u0439\", \"\\u0440\\u0443\\u043a\\u0430\", \"\\u0440\\u0443\\u043a\\u0430\", \"\\u0440\\u0443\\u043a\\u0430\", \"\\u0440\\u044f\\u0434\\u043e\\u043c\", \"\\u0441\\u0430\\u043c\\u044b\\u0439\", \"\\u0441\\u0430\\u043c\\u044b\\u0439\", \"\\u0441\\u0430\\u043c\\u044b\\u0439\", \"\\u0441\\u0435\\u0433\\u043e\\u0434\\u043d\\u044f\", \"\\u0441\\u0435\\u0433\\u043e\\u0434\\u043d\\u044f\", \"\\u0441\\u0435\\u0433\\u043e\\u0434\\u043d\\u044f\", \"\\u0441\\u0435\\u0437\\u043e\\u043d\", \"\\u0441\\u0435\\u0440\\u0434\\u0446\\u0435\", \"\\u0441\\u043a\\u043e\\u043b\\u044c\\u043a\\u043e\", \"\\u0441\\u043a\\u043e\\u0440\\u043e\", \"\\u0441\\u043a\\u043e\\u0440\\u043e\", \"\\u0441\\u043b\\u0435\\u0437\\u0430\", \"\\u0441\\u043b\\u0435\\u0437\\u0430\", \"\\u0441\\u043b\\u0438\\u0448\\u043a\\u043e\\u043c\", \"\\u0441\\u043b\\u0438\\u0448\\u043a\\u043e\\u043c\", \"\\u0441\\u043b\\u043e\\u0432\\u043e\", \"\\u0441\\u043b\\u043e\\u0432\\u043e\", \"\\u0441\\u043b\\u043e\\u0432\\u043e\", \"\\u0441\\u043d\\u0435\\u0433\", \"\\u0441\\u043d\\u043e\\u0432\\u0430\", \"\\u0441\\u043d\\u043e\\u0432\\u0430\", \"\\u0441\\u043e\\u0431\\u0438\\u0440\\u0430\\u0442\\u044c\\u0441\\u044f\", \"\\u0441\\u043e\\u0436\\u0430\\u043b\\u0435\\u043d\\u0438\\u0435\", \"\\u0441\\u043e\\u0441\\u043a\\u0443\\u0447\\u0438\\u0442\\u044c\\u0441\\u044f\", \"\\u0441\\u043f\\u0430\\u0441\\u0438\\u0431\\u043e\", \"\\u0441\\u043f\\u0430\\u0441\\u0438\\u0431\\u043e\", \"\\u0441\\u043f\\u0430\\u0441\\u0438\\u0431\\u043e\", \"\\u0441\\u0440\\u0430\\u0437\\u0443\", \"\\u0441\\u0440\\u0430\\u0437\\u0443\", \"\\u0441\\u0442\\u043e\\u043b\\u044c\\u043a\\u043e\", \"\\u0441\\u0442\\u043e\\u043b\\u044c\\u043a\\u043e\", \"\\u0442\\u0432\\u0438\\u0442\", \"\\u0442\\u0435\\u043b\\u0435\\u0444\\u043e\\u043d\", \"\\u0442\\u0435\\u043b\\u0435\\u0444\\u043e\\u043d\", \"\\u0442\\u0435\\u043b\\u0435\\u0444\\u043e\\u043d\", \"\\u0442\\u0435\\u043c\\u043f\\u0435\\u0440\\u0430\\u0442\\u0443\\u0440\\u0430\", \"\\u0442\\u0443\\u0434\\u0430\", \"\\u0442\\u0443\\u043f\", \"\\u0442\\u044f\\u0436\\u0435\\u043b\\u043e\", \"\\u0443\\u0436\\u0430\\u0441\", \"\\u0443\\u0436\\u0430\\u0441\\u043d\\u044b\\u0439\", \"\\u0443\\u0439\\u0442\\u0438\", \"\\u0443\\u043b\\u0438\\u0446\\u0430\", \"\\u0443\\u043b\\u0438\\u0446\\u0430\", \"\\u0443\\u0440\\u043e\\u043a\", \"\\u0443\\u0440\\u043e\\u043a\", \"\\u0443\\u0440\\u043e\\u043a\", \"\\u0443\\u0442\\u0440\\u043e\", \"\\u0443\\u0442\\u0440\\u043e\", \"\\u0443\\u0447\\u0438\\u0442\\u044c\\u0441\\u044f\", \"\\u0443\\u0447\\u0451\\u0431\\u0430\", \"\\u0444\\u0438\\u0437\\u0438\\u043a\\u0430\", \"\\u0444\\u0438\\u043b\\u044c\\u043c\", \"\\u0444\\u0438\\u043b\\u044c\\u043c\", \"\\u0444\\u0438\\u043b\\u044c\\u043c\", \"\\u0444\\u043e\\u0442\\u043a\\u0430\", \"\\u0444\\u043e\\u0442\\u043a\\u0430\", \"\\u0444\\u043e\\u0442\\u043e\", \"\\u0445\\u043e\\u0440\\u043e\\u0448\\u0438\\u0439\", \"\\u0445\\u043e\\u0440\\u043e\\u0448\\u0438\\u0439\", \"\\u0445\\u043e\\u0440\\u043e\\u0448\\u0438\\u0439\", \"\\u0446\\u0435\\u043b\\u044b\\u0439\", \"\\u0447\\u0430\\u0441\", \"\\u0447\\u0430\\u0441\", \"\\u0447\\u0430\\u0441\", \"\\u0447\\u0435\\u043b\\u043e\\u0432\\u0435\\u043a\", \"\\u0447\\u0435\\u043b\\u043e\\u0432\\u0435\\u043a\", \"\\u0447\\u0435\\u043b\\u043e\\u0432\\u0435\\u043a\", \"\\u0447\\u0435\\u0440\\u0442\\u0430\", \"\\u0447\\u0443\\u0432\\u0441\\u0442\\u0432\\u043e\", \"\\u0447\\u0443\\u0432\\u0441\\u0442\\u0432\\u043e\", \"\\u0448\\u0435\\u0440\\u043b\\u043e\\u043a\", \"\\u0448\\u0435\\u0440\\u043b\\u043e\\u043a\", \"\\u0448\\u0435\\u0440\\u043b\\u043e\\u043a\", \"\\u0448\\u043a\\u043e\\u043b\\u0430\", \"\\u0448\\u043a\\u043e\\u043b\\u0430\", \"\\u044d\\u043a\\u0437\\u0430\\u043c\\u0435\\u043d\"]}, \"R\": 30, \"lambda.step\": 0.01, \"plot.opts\": {\"xlab\": \"PC1\", \"ylab\": \"PC2\"}, \"topic.order\": [1, 3, 2]};\n",
       "\n",
       "function LDAvis_load_lib(url, callback){\n",
       "  var s = document.createElement('script');\n",
       "  s.src = url;\n",
       "  s.async = true;\n",
       "  s.onreadystatechange = s.onload = callback;\n",
       "  s.onerror = function(){console.warn(\"failed to load library \" + url);};\n",
       "  document.getElementsByTagName(\"head\")[0].appendChild(s);\n",
       "}\n",
       "\n",
       "if(typeof(LDAvis) !== \"undefined\"){\n",
       "   // already loaded: just create the visualization\n",
       "   !function(LDAvis){\n",
       "       new LDAvis(\"#\" + \"ldavis_el13842358915820224428196786\", ldavis_el13842358915820224428196786_data);\n",
       "   }(LDAvis);\n",
       "}else if(typeof define === \"function\" && define.amd){\n",
       "   // require.js is available: use it to load d3/LDAvis\n",
       "   require.config({paths: {d3: \"https://d3js.org/d3.v5\"}});\n",
       "   require([\"d3\"], function(d3){\n",
       "      window.d3 = d3;\n",
       "      LDAvis_load_lib(\"https://cdn.jsdelivr.net/gh/bmabey/pyLDAvis@3.3.1/pyLDAvis/js/ldavis.v3.0.0.js\", function(){\n",
       "        new LDAvis(\"#\" + \"ldavis_el13842358915820224428196786\", ldavis_el13842358915820224428196786_data);\n",
       "      });\n",
       "    });\n",
       "}else{\n",
       "    // require.js not available: dynamically load d3 & LDAvis\n",
       "    LDAvis_load_lib(\"https://d3js.org/d3.v5.js\", function(){\n",
       "         LDAvis_load_lib(\"https://cdn.jsdelivr.net/gh/bmabey/pyLDAvis@3.3.1/pyLDAvis/js/ldavis.v3.0.0.js\", function(){\n",
       "                 new LDAvis(\"#\" + \"ldavis_el13842358915820224428196786\", ldavis_el13842358915820224428196786_data);\n",
       "            })\n",
       "         });\n",
       "}\n",
       "</script>"
      ],
      "text/plain": [
       "<IPython.core.display.HTML object>"
      ]
     },
     "execution_count": 26,
     "metadata": {},
     "output_type": "execute_result"
    }
   ],
   "source": [
    "vis_data = gensimvis.prepare(lda, corpus, dictionary)\n",
    "pyLDAvis.display(vis_data)"
   ]
  },
  {
   "cell_type": "markdown",
   "metadata": {},
   "source": [
    "### 4. Выводы (определение тематик в твитах) <a id='section_4'></a>"
   ]
  },
  {
   "cell_type": "markdown",
   "metadata": {},
   "source": [
    "На основе резульатов работы модели можно сформулировать следующие примерные названия тем твитов:  \n",
    "    \n",
    "**Тема 1.** Работа/Образование.\n",
    "\n",
    "**Тема 2.** Чувства и эмоции (личные отношения).\n",
    "\n",
    "**Тема 3.** Время (планирование деятельности)."
   ]
  },
  {
   "cell_type": "markdown",
   "metadata": {},
   "source": [
    "P.S. Количество тем, равное 3, является оптимальным. При большем количестве тем, они будут слищком \"близко\" располагаться друг к другу."
   ]
  }
 ],
 "metadata": {
  "kernelspec": {
   "display_name": "Python 3",
   "language": "python",
   "name": "python3"
  },
  "language_info": {
   "codemirror_mode": {
    "name": "ipython",
    "version": 3
   },
   "file_extension": ".py",
   "mimetype": "text/x-python",
   "name": "python",
   "nbconvert_exporter": "python",
   "pygments_lexer": "ipython3",
   "version": "3.8.5"
  }
 },
 "nbformat": 4,
 "nbformat_minor": 4
}
