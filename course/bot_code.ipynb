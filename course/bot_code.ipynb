{
 "cells": [
  {
   "cell_type": "markdown",
   "metadata": {},
   "source": [
    "# Курсовая работа по курсу \"Введение в обработку естественного языка\""
   ]
  },
  {
   "cell_type": "markdown",
   "metadata": {},
   "source": [
    "## План работы\n",
    "\n",
    "[0. Описание возможностей и методов работы телеграмм бота](#section_0)\n",
    "\n",
    "[1. Настройки для работы dialogflow](#section_1)\n",
    "\n",
    "[2. Начало работы (обработка команды /start)](#section_2)\n",
    "\n",
    "[3. Функция получения прогноза погоды](#section_3)\n",
    "\n",
    "[4. Функция болталки](#section_4)\n",
    "\n",
    "[5. Функция получения темы курсовой работы](#section_5)\n",
    "\n",
    "[6. Функция анализа отзыва о работе телеграмм бота](#section_6)\n",
    "\n",
    "[7. Хендлеры](#section_7)"
   ]
  },
  {
   "cell_type": "markdown",
   "metadata": {},
   "source": [
    "### 0. Описание возможностей и методов работы телеграмм бота <a id='section_0'></a>"
   ]
  },
  {
   "cell_type": "markdown",
   "metadata": {},
   "source": [
    "Настоящий бот под именем **my_bot** можно найти в телеграмме."
   ]
  },
  {
   "cell_type": "markdown",
   "metadata": {},
   "source": [
    "![title](bot.jpg)"
   ]
  },
  {
   "cell_type": "markdown",
   "metadata": {},
   "source": [
    "Работа с телеграмм ботом начитается с команды **/start**, которая покажет все его возможности. В качестве ответа будет предложено выбрать одно из возможных действий. Обработку запросов от inline клавиатуры см. в разделе [2. Начало работы (обработка команды /start)](#section_2)."
   ]
  },
  {
   "cell_type": "markdown",
   "metadata": {},
   "source": [
    "![title](start.jpg) "
   ]
  },
  {
   "cell_type": "markdown",
   "metadata": {},
   "source": [
    "При нажатии на кнопку **\"Получить тему курсовой работы по теории групп\"**, последует форма ввода примерной темы. В качестве ответа будет предложена тема из базы данных, наиболее близкая к введенному запросу. В основе этой функции телеграмм бота лежит модель Word2Vec с поиском ближайших соседей. Код обработки этой функции см. в разделе [5. Функция получения темы курсовой работы](#section_5). Отметим, что чтобы воспользоваться данной функцией, не обязательно начинать с команды /start и выводить клавиатуру, можно просто написать: \"Курсовая: *примерная тема*\"."
   ]
  },
  {
   "cell_type": "markdown",
   "metadata": {},
   "source": [
    "![title](theme.jpg)"
   ]
  },
  {
   "cell_type": "markdown",
   "metadata": {},
   "source": [
    "В ответ на нажатие на кнопки **\"Архив с книгами курсовой работы\"** будет выслан файл books.rar. Обработка этой функции в разделе  [2. Начало работы (обработка команды /start)](#section_2)."
   ]
  },
  {
   "cell_type": "markdown",
   "metadata": {},
   "source": [
    "![title](books.jpg) "
   ]
  },
  {
   "cell_type": "markdown",
   "metadata": {},
   "source": [
    "При выборе функции **\"Поговорить\"** бот перейдет в режим болталки (на основе dialogflow). Код этой функции см. в разделе [4. Функция болталки](#section_4). Просто поговорить с ботом можно и не выбирая команду с клавиатуру, а написав любое сообщение в чат (запросы с темой курсовой работы, отзывом и погодой будут отфильтрованы)."
   ]
  },
  {
   "cell_type": "markdown",
   "metadata": {},
   "source": [
    "![title](talk.jpg) "
   ]
  },
  {
   "cell_type": "markdown",
   "metadata": {},
   "source": [
    "При нажатии на кнопку **\"Оставить отзыв\"** будет предложена форма ввода отзыва. Введенный отзыв классифицируется на положительный и нейтральный предобученной Bert-моделью SkolkovoInstitute/russian_toxicity_classifier. Чтобы оставить отзыв, не вызывая клавиатуру, необходимо ввести: \"Отзыв: *текст отзыва*\". Код функции см. в разделе [6. Функция анализа отзыва о работе телеграмм бота](#section_6). Заметим, что выполнение этой команды заметно более длительное по сравнению с другими функциями бота."
   ]
  },
  {
   "cell_type": "markdown",
   "metadata": {},
   "source": [
    "![title](review.jpg) "
   ]
  },
  {
   "cell_type": "markdown",
   "metadata": {},
   "source": [
    "Функция **\"Прогноз погоды\"** возвращает погоду в введенном городе на основе запроса: \"Город: *свой город*\" (как из клавиатуры, так и без нее). В основе функции лежит geopy и yaweather (на русском языке!). Полный код см. в [3. Функция получения прогноза погоды](#section_3). При создании этой функции потребовалось получение api-key от Погоды яндекса."
   ]
  },
  {
   "cell_type": "markdown",
   "metadata": {},
   "source": [
    "![title](weather.jpg) "
   ]
  },
  {
   "cell_type": "markdown",
   "metadata": {},
   "source": [
    "При нажатии на кнопку **\"GitHub автора\"** клавиатуры будет выведена ссылка на GitHub (где, в частности, в https://github.com/EkaterinaBazhanova/NLP/blob/main/course/bot_code.ipynb и находится полный код данного телеграмм бота). Обработка данный функции описана в разделе [2. Начало работы (обработка команды /start)](#section_2)."
   ]
  },
  {
   "cell_type": "markdown",
   "metadata": {},
   "source": [
    "![title](link.jpg) "
   ]
  },
  {
   "cell_type": "markdown",
   "metadata": {},
   "source": [
    "### 1. Настройки для работы dialogflow <a id='section_0'></a>"
   ]
  },
  {
   "cell_type": "code",
   "execution_count": 1,
   "metadata": {},
   "outputs": [],
   "source": [
    "#импорт необходимых библиотек и модулей\n",
    "import os\n",
    "import logging\n",
    "import telegram\n",
    "import re\n",
    "from telegram import Update\n",
    "from telegram.ext import Updater, CommandHandler, MessageHandler, Filters, CallbackContext, CallbackQueryHandler\n",
    "from google.cloud import dialogflow\n",
    "\n",
    "#настройки dialogflow\n",
    "updater = Updater(\"5301400304:AAH2GLKvC4vpcHNRKvZ_NtXpXab1gvfECug\", use_context=True)  # Токен API к Telegram\n",
    "dispatcher = updater.dispatcher\n",
    "os.environ[\"GOOGLE_APPLICATION_CREDENTIALS\"] = 'bazhanovaen-bot-jbgt-84e6267adf6d.json'# скачaнный JSON\n",
    "\n",
    "\n",
    "DIALOGFLOW_PROJECT_ID = 'bazhanovaen-bot-jbgt' #PROJECT ID из DialogFlow \n",
    "DIALOGFLOW_LANGUAGE_CODE = 'ru' # язык\n",
    "SESSION_ID = 'my_bot'  # ID бота из телеграмма"
   ]
  },
  {
   "cell_type": "markdown",
   "metadata": {},
   "source": [
    "### 2. Начало работы (обработка команды /start) <a id='section_2'></a>"
   ]
  },
  {
   "cell_type": "code",
   "execution_count": 2,
   "metadata": {},
   "outputs": [],
   "source": [
    "#обработка команды старт (создаем Inline клавиатуру)\n",
    "def startCommand(update: Update, context: CallbackContext):\n",
    "    buttonA = telegram.InlineKeyboardButton('Получить тему курсовой работы по теории групп', callback_data='buttomA')\n",
    "    buttonAa = telegram.InlineKeyboardButton('Архив с книгами для курсовой работы', callback_data='buttomAa')\n",
    "    buttonB = telegram.InlineKeyboardButton('Поговорить', callback_data='buttomB')\n",
    "    buttonC = telegram.InlineKeyboardButton('Оставить отзыв', callback_data='buttomC')\n",
    "    buttonE = telegram.InlineKeyboardButton('Прогноз погоды', callback_data='buttomE')\n",
    "    buttonD = telegram.InlineKeyboardButton('GitHub автора', url='https://github.com/EkaterinaBazhanova')\n",
    "    markup = telegram.InlineKeyboardMarkup(inline_keyboard = [[buttonA], [buttonAa], [buttonB], [buttonC], [buttonE], [buttonD]])\n",
    "    \n",
    "    update.message.reply_text('Добрый день! Чтобы начать работу, выберите одно из возможных действий', \n",
    "                              reply_markup = markup)\n",
    "    return callback\n",
    "    \n",
    "#обработка нажатия клавиш клавиатуры\n",
    "def callback(update: Update, context: CallbackContext):\n",
    "    query = update.callback_query\n",
    "    variant = query.data\n",
    "    if variant == 'buttomA':\n",
    "        query.answer()\n",
    "        query.edit_message_text(text='О чем хотите писать курсовую? (форма ответа: \"Курсовая: примерная тема\")')\n",
    "    \n",
    "    if variant == 'buttomAa':\n",
    "#         chat_id = 1384328181\n",
    "#         updater.bot.send_document(chat_id = chat_id, document = open('books.rar', 'rb'))\n",
    "        chat_id=update.effective_chat.id\n",
    "        updater.bot.send_document(chat_id = chat_id, document = open('books.rar', 'rb'))\n",
    "    if variant == 'buttomB':\n",
    "        query.answer()\n",
    "        query.edit_message_text('Давайте поговорим')\n",
    "    \n",
    "    if variant == 'buttomC':\n",
    "        query.answer()\n",
    "        query.edit_message_text(text='Напишите свой отзыв о работе бота (форма ответа: \"Отзыв: текст отзыва\")')\n",
    "    \n",
    "    if variant == 'buttomE':\n",
    "        query.answer()\n",
    "        query.edit_message_text(text='Напишите: \"Город: свой город\"')"
   ]
  },
  {
   "cell_type": "markdown",
   "metadata": {},
   "source": [
    "### 3. Функция получения прогноза погоды <a id='section_3'></a>"
   ]
  },
  {
   "cell_type": "code",
   "execution_count": 3,
   "metadata": {},
   "outputs": [],
   "source": [
    "#импорт необходимых библиотек и модулей\n",
    "#!pip install yaweather\n",
    "from geopy import geocoders\n",
    "from yaweather import Russia, YaWeather\n",
    "\n",
    "#функция получения погоды\n",
    "def get_weather(city: str):\n",
    "    geolocator = geocoders.Nominatim(user_agent=\"telebot\")\n",
    "    latitude = geolocator.geocode(city).latitude\n",
    "    longitude = geolocator.geocode(city).longitude\n",
    "    y = YaWeather(api_key='f5fc7043-3196-49ed-9848-02c19a3ba8e4')\n",
    "    res = y.forecast((latitude, longitude))\n",
    "    forecast = f'cейчас {res.fact.temp} °C, oщущается как {res.fact.feels_like} °C'\n",
    "    return forecast\n",
    "\n",
    "#печать прогноза погоды\n",
    "def print_weather(update: Update, context: CallbackContext):\n",
    "    city = update.message.text\n",
    "    forecast = get_weather(re.sub(r'Город: ','',city))\n",
    "    update.message.reply_text(f'Погода в городе {city[7:]}: {forecast}', parse_mode='Markdown')"
   ]
  },
  {
   "cell_type": "markdown",
   "metadata": {},
   "source": [
    "### 4. Функция болталки <a id='section_4'></a>"
   ]
  },
  {
   "cell_type": "code",
   "execution_count": 4,
   "metadata": {},
   "outputs": [],
   "source": [
    "#болталка\n",
    "def detect_intent_texts(project_id, session_id, text, language_code):\n",
    "    session_client = dialogflow.SessionsClient()\n",
    "    session = session_client.session_path(project_id, session_id)\n",
    "    \n",
    "    text_input = dialogflow.TextInput(text=text, language_code=language_code)\n",
    "    query_input = dialogflow.QueryInput(text=text_input)\n",
    "\n",
    "    response = session_client.detect_intent(\n",
    "        request={\"session\": session, \"query_input\": query_input}\n",
    "    )\n",
    "        \n",
    "    return response.query_result.fulfillment_text\n",
    "\n",
    "def textMessage(update: Update, context: CallbackContext):\n",
    "  \n",
    "    text_user = update.message.text\n",
    "       \n",
    "    text_bot = detect_intent_texts(DIALOGFLOW_PROJECT_ID, SESSION_ID, text_user, DIALOGFLOW_LANGUAGE_CODE)\n",
    "    if text_bot:\n",
    "        update.message.reply_text(text_bot)\n",
    "    else:\n",
    "        update.message.reply_text('Что?')"
   ]
  },
  {
   "cell_type": "markdown",
   "metadata": {},
   "source": [
    "### 5. Функция получения темы курсовой работы <a id='section_5'></a>"
   ]
  },
  {
   "cell_type": "code",
   "execution_count": 5,
   "metadata": {},
   "outputs": [],
   "source": [
    "#импорт необходимых библиотек и модулей\n",
    "import pandas as pd\n",
    "import string\n",
    "import annoy\n",
    "import pickle\n",
    "import numpy as np\n",
    "import tqdm \n",
    "from tqdm import tqdm_notebook\n",
    "from pymorphy2 import MorphAnalyzer\n",
    "from stop_words import get_stop_words\n",
    "from gensim.models import Word2Vec, FastText\n",
    "\n",
    "#препроцессинг текста\n",
    "morpher = MorphAnalyzer()\n",
    "sw = set(get_stop_words(\"ru\"))\n",
    "exclude = set(string.punctuation)\n",
    "\n",
    "#0. датасет с темами\n",
    "df = pd.read_excel('theme.xlsx')\n",
    "\n",
    "#1. Функция преобразования темы (лемматизация, удаление стоп-слов и пунктуации)\n",
    "def preprocess_txt(line):\n",
    "    spls = \"\".join(i for i in line.strip() if i not in exclude).split()\n",
    "    spls = [morpher.parse(i.lower())[0].normal_form for i in spls]\n",
    "    spls = [i for i in spls if i not in sw and i != \"\"]\n",
    "    return spls\n",
    "\n",
    "#2. Процедура подготовки данных к обучению (создание списка токенов для каждой темы)\n",
    "assert True\n",
    "tweet_tokens = []\n",
    "\n",
    "for text in df['Theme']:\n",
    "    tweet_prep = preprocess_txt(text)\n",
    "    tweet_tokens.append(tweet_prep)\n",
    "    \n",
    "#3. Функция поиска 5 ближайших тем\n",
    "def get_response_theme(tweet, index, model, index_map):\n",
    "    tweet_token = preprocess_txt(tweet)\n",
    "    vector = np.zeros(300)\n",
    "    norm = 0\n",
    "    for word in tweet_token:\n",
    "        if word in model:\n",
    "            vector += model[word]\n",
    "            norm += 1\n",
    "    if norm > 0:\n",
    "        vector = vector / norm\n",
    "    similar_tweet = index.get_nns_by_vector(vector, 5)\n",
    "    \n",
    "    result = [index_map[i] for i in similar_tweet]\n",
    "    return result\n",
    "\n",
    "#4. Процедура поиска ближайшей темы\n",
    "def get_model_index(model):\n",
    "    model_index = annoy.AnnoyIndex(300 ,'angular') # поиск ближайших соседей\n",
    "\n",
    "    index_map = {}\n",
    "    counter = 0\n",
    "\n",
    "    for tweet in df['Theme']:\n",
    "        n_model = 0\n",
    "        index_map[counter] = tweet\n",
    "        tweet_prep = preprocess_txt(tweet)\n",
    "        \n",
    "        vector_model = np.zeros(300) #вектор твита\n",
    "\n",
    "        for word in tweet_prep:\n",
    "            if word in model:\n",
    "                vector_model += model[word]\n",
    "                n_model += 1\n",
    "        if n_model > 0:\n",
    "            vector_model = vector_model / n_model #нормализуем вектор твита\n",
    "       \n",
    "        model_index.add_item(counter, vector_model) #добавляем элемент для индексации\n",
    "     \n",
    "        counter += 1\n",
    "\n",
    "        if counter > 100000:\n",
    "            break\n",
    "\n",
    "    model_index.build(10) #из индексов создаем лес из 10 деревьев\n",
    "    return model_index, index_map\n",
    "\n",
    "modelW2V = Word2Vec(sentences=tweet_tokens, vector_size=300, window=5, min_count=1)\n",
    "\n",
    "w2v_index, index_map = get_model_index(modelW2V.wv)\n",
    "\n",
    "#вывод темы курсовой работы\n",
    "def text_theme(update: Update, context: CallbackContext):\n",
    "    txt_q = update.message.text # текст который пришёл\n",
    "    answer = get_response_theme(re.sub(r'Курсовая: ','',txt_q), w2v_index, modelW2V.wv, index_map)\n",
    "    update.message.reply_text(f'Ваша тема: {answer[0]}', parse_mode='Markdown')"
   ]
  },
  {
   "cell_type": "markdown",
   "metadata": {},
   "source": [
    "### 6. Функция анализа отзыва о работе телеграмм бота <a id='section_6'></a>"
   ]
  },
  {
   "cell_type": "code",
   "execution_count": 6,
   "metadata": {},
   "outputs": [],
   "source": [
    "#импорт библиотек и модулей\n",
    "from transformers import BertTokenizer, BertForSequenceClassification\n",
    "\n",
    "def get_response_review(review):\n",
    "    #создание экземляра модели и токенизатора\n",
    "    tokenizer = BertTokenizer.from_pretrained('SkolkovoInstitute/russian_toxicity_classifier')\n",
    "    model = BertForSequenceClassification.from_pretrained('SkolkovoInstitute/russian_toxicity_classifier')\n",
    "    \n",
    "    #подготовка входа\n",
    "    batch = tokenizer.encode(review, return_tensors='pt')\n",
    "\n",
    "    if model(batch)['logits'][0].argmax().numpy() == 0:\n",
    "        return 'Спасибо за Ваш положительный отзыв!'\n",
    "    if model(batch)['logits'][0].argmax().numpy() == 1:\n",
    "        return 'Спасибо за Ваш отзыв. Будем работать над устранением недостатков'\n",
    "\n",
    "#функция вывода отзыва\n",
    "def text_review(update: Update, context: CallbackContext):\n",
    "    txt_q = update.message.text # текст который пришёл\n",
    "    review_classif = get_response_review(re.sub(r'Отзыв: ','',txt_q))\n",
    "    update.message.reply_text(review_classif)"
   ]
  },
  {
   "cell_type": "markdown",
   "metadata": {},
   "source": [
    "### 7. Хендлеры <a id='section_7'></a>"
   ]
  },
  {
   "cell_type": "code",
   "execution_count": 7,
   "metadata": {},
   "outputs": [],
   "source": [
    "# Хендлеры\n",
    "start_command_handler = CommandHandler('start', startCommand)\n",
    "theme_handler = MessageHandler(Filters.regex('Курсовая: '), text_theme)\n",
    "review_handler = MessageHandler(Filters.regex('Отзыв: '), text_review)\n",
    "weather_handler = MessageHandler(Filters.regex('Город: '), print_weather)\n",
    "text_message_handler = MessageHandler(~Filters.regex('Курсовая: ') & ~Filters.regex('Отзыв: ') & ~Filters.regex('Город: '), textMessage)\n",
    "callback_buttom_handler = CallbackQueryHandler(callback = callback, pattern=None, run_async=False)\n",
    "                                               \n",
    "# Добавляем хендлеры в диспетчер\n",
    "dispatcher.add_handler(start_command_handler)\n",
    "dispatcher.add_handler(callback_buttom_handler)\n",
    "dispatcher.add_handler(theme_handler)\n",
    "dispatcher.add_handler(weather_handler)\n",
    "dispatcher.add_handler(review_handler)\n",
    "dispatcher.add_handler(text_message_handler)\n",
    "\n",
    "# Начинаем поиск обновлений\n",
    "updater.start_polling()\n",
    "# Останавливаем бота, если были нажаты Ctrl + C\n",
    "updater.idle()"
   ]
  }
 ],
 "metadata": {
  "kernelspec": {
   "display_name": "Python 3",
   "language": "python",
   "name": "python3"
  },
  "language_info": {
   "codemirror_mode": {
    "name": "ipython",
    "version": 3
   },
   "file_extension": ".py",
   "mimetype": "text/x-python",
   "name": "python",
   "nbconvert_exporter": "python",
   "pygments_lexer": "ipython3",
   "version": "3.8.5"
  }
 },
 "nbformat": 4,
 "nbformat_minor": 4
}
